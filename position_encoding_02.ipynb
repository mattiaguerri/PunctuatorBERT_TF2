{
 "cells": [
  {
   "cell_type": "markdown",
   "metadata": {
    "colab_type": "text",
    "id": "wSIW5dYmdGfE"
   },
   "source": [
    "# Apply Positional Encoding Taking Into Account The Batch Size"
   ]
  },
  {
   "cell_type": "markdown",
   "metadata": {},
   "source": [
    "### Do It First Without The Batch Size"
   ]
  },
  {
   "cell_type": "code",
   "execution_count": 1,
   "metadata": {},
   "outputs": [],
   "source": [
    "# import numpy as np\n",
    "# import matplotlib.pyplot as plt"
   ]
  },
  {
   "cell_type": "code",
   "execution_count": 2,
   "metadata": {},
   "outputs": [],
   "source": [
    "# num_positions = 50\n",
    "# depth = 512\n",
    "# min_rate = 1/10000\n",
    "\n",
    "# assert depth%2 == 0, \"Depth must be even.\"\n",
    "# angle_rate_exponents = np.linspace(0,1,depth//2)\n",
    "# angle_rates = min_rate**(angle_rate_exponents)"
   ]
  },
  {
   "cell_type": "code",
   "execution_count": 3,
   "metadata": {},
   "outputs": [],
   "source": [
    "# print(\"angle_rates shape = \", angle_rates.shape)"
   ]
  },
  {
   "cell_type": "code",
   "execution_count": 4,
   "metadata": {},
   "outputs": [],
   "source": [
    "# positions = np.arange(num_positions) \n",
    "# angle_rads = (positions[:, np.newaxis])*angle_rates[np.newaxis, :]"
   ]
  },
  {
   "cell_type": "code",
   "execution_count": 5,
   "metadata": {},
   "outputs": [],
   "source": [
    "# fracPositions = positions*10/5\n",
    "# print(positions.shape)\n",
    "# print(\"\")\n",
    "# print(positions[0:5])\n",
    "# print(fracPositions[0:5])"
   ]
  },
  {
   "cell_type": "code",
   "execution_count": 6,
   "metadata": {},
   "outputs": [],
   "source": [
    "# angle_rads = fracPositions[:, np.newaxis]*angle_rates[np.newaxis, :]"
   ]
  },
  {
   "cell_type": "code",
   "execution_count": 7,
   "metadata": {},
   "outputs": [],
   "source": [
    "# plt.figure(figsize = (14,8))\n",
    "# plt.pcolormesh(\n",
    "#     # Convert to degrees, and wrap around at 360\n",
    "#     angle_rads*180/(2*np.pi) % 360,\n",
    "#     # Use a cyclical colormap so that color(0) == color(360)\n",
    "#     cmap='hsv', vmin=0, vmax=360)\n",
    "\n",
    "# plt.xlim([0,len(angle_rates)])\n",
    "# plt.ylabel('Position')\n",
    "# plt.xlabel('Depth')\n",
    "# bar = plt.colorbar(label='Angle [deg]')\n",
    "# bar.set_ticks(np.linspace(0,360,6+1))"
   ]
  },
  {
   "cell_type": "code",
   "execution_count": 8,
   "metadata": {},
   "outputs": [],
   "source": [
    "# sines = np.sin(angle_rads)\n",
    "# cosines = np.cos(angle_rads)\n",
    "# pos_encoding = np.concatenate([sines, cosines], axis=-1)\n",
    "\n",
    "# ### Merge sines and cosines  properly, not with concatenate.\n",
    "# example = np.reshape(np.vstack((sines, cosines)).ravel('F'), (50, 512), order='F')"
   ]
  },
  {
   "cell_type": "code",
   "execution_count": 9,
   "metadata": {},
   "outputs": [],
   "source": [
    "# print(sines[31, 0:5])\n",
    "# print(cosines[31, 0:5])\n",
    "# print(\"\")\n",
    "# print(example[31, 0:10])"
   ]
  },
  {
   "cell_type": "code",
   "execution_count": 10,
   "metadata": {},
   "outputs": [],
   "source": [
    "# plt.figure(figsize=(25,5))\n",
    "# plt.pcolormesh(pos_encoding, \n",
    "#                # Use a diverging colormap so it's clear where zero is.\n",
    "#                cmap='RdBu', vmin=-1, vmax=1)\n",
    "# plt.xlim([0,depth])\n",
    "# plt.ylabel('Position')\n",
    "# plt.xlabel('Depth')\n",
    "# plt.colorbar()"
   ]
  },
  {
   "cell_type": "code",
   "execution_count": 11,
   "metadata": {},
   "outputs": [],
   "source": [
    "# plt.figure(figsize=(25,5))\n",
    "# plt.pcolormesh(example, \n",
    "#                # Use a diverging colormap so it's clear where zero is.\n",
    "#                cmap='RdBu', vmin=-1, vmax=1)\n",
    "# plt.xlim([0,depth])\n",
    "# plt.ylabel('Position')\n",
    "# plt.xlabel('Depth')\n",
    "# plt.colorbar()"
   ]
  },
  {
   "cell_type": "markdown",
   "metadata": {},
   "source": [
    "### As Above But Simplified"
   ]
  },
  {
   "cell_type": "code",
   "execution_count": 12,
   "metadata": {},
   "outputs": [],
   "source": [
    "import numpy as np\n",
    "import matplotlib.pyplot as plt"
   ]
  },
  {
   "cell_type": "code",
   "execution_count": 13,
   "metadata": {},
   "outputs": [],
   "source": [
    "num_positions = 16\n",
    "depth = 512\n",
    "min_rate = 1/10000\n",
    "\n",
    "assert depth%2 == 0, \"Depth must be even.\"\n",
    "angle_rate_exponents = np.linspace(0,1,depth//2)\n",
    "angle_rates = min_rate**(angle_rate_exponents)"
   ]
  },
  {
   "cell_type": "code",
   "execution_count": 14,
   "metadata": {},
   "outputs": [],
   "source": [
    "positions = np.arange(num_positions) \n",
    "angle_rads = (positions[:, np.newaxis])*angle_rates[np.newaxis, :]"
   ]
  },
  {
   "cell_type": "code",
   "execution_count": 15,
   "metadata": {},
   "outputs": [
    {
     "name": "stdout",
     "output_type": "stream",
     "text": [
      "(16, 256)\n",
      "[0. 0. 0. 0. 0.]\n",
      "[1.         0.96452553 0.93030949 0.89730725 0.86547575]\n",
      "[8.         7.7162042  7.44247592 7.178458   6.92380597]\n"
     ]
    }
   ],
   "source": [
    "print(angle_rads.shape)\n",
    "print(angle_rads[0, 0:5])\n",
    "print(angle_rads[1, 0:5])\n",
    "print(angle_rads[8, 0:5])"
   ]
  },
  {
   "cell_type": "code",
   "execution_count": 16,
   "metadata": {},
   "outputs": [],
   "source": [
    "fracPositions = positions*10/10"
   ]
  },
  {
   "cell_type": "code",
   "execution_count": 17,
   "metadata": {},
   "outputs": [],
   "source": [
    "angle_rads = fracPositions[:, np.newaxis]*angle_rates[np.newaxis, :]"
   ]
  },
  {
   "cell_type": "code",
   "execution_count": 18,
   "metadata": {},
   "outputs": [],
   "source": [
    "sines = np.sin(angle_rads)\n",
    "cosines = np.cos(angle_rads)\n",
    "\n",
    "### Merge sines and cosines  properly, not with concatenate.\n",
    "example = np.reshape(np.vstack((sines, cosines)).ravel('F'), (num_positions, depth), order='F')"
   ]
  },
  {
   "cell_type": "code",
   "execution_count": 19,
   "metadata": {},
   "outputs": [
    {
     "data": {
      "image/png": "[encoded data removed]",
      "text/plain": [
       "<Figure size 1800x360 with 2 Axes>"
      ]
     },
     "metadata": {
      "needs_background": "light"
     },
     "output_type": "display_data"
    }
   ],
   "source": [
    "plt.figure(figsize=(25,5))\n",
    "plt.pcolormesh(example, \n",
    "               # Use a diverging colormap so it's clear where zero is.\n",
    "               cmap='RdBu', vmin=-1, vmax=1)\n",
    "plt.xlim([0,depth])\n",
    "plt.ylabel('Position')\n",
    "plt.xlabel('Depth')\n",
    "plt.colorbar()\n",
    "plt.show()"
   ]
  },
  {
   "cell_type": "markdown",
   "metadata": {},
   "source": [
    "### Now Take Into Account The Batch Size"
   ]
  },
  {
   "cell_type": "code",
   "execution_count": 20,
   "metadata": {},
   "outputs": [],
   "source": [
    "# import numpy as np\n",
    "# import matplotlib.pyplot as plt"
   ]
  },
  {
   "cell_type": "code",
   "execution_count": 21,
   "metadata": {},
   "outputs": [],
   "source": [
    "# batchSize = 6\n",
    "# sequenceSize = 16\n",
    "# depth = 512\n",
    "# min_rate = 1/10000\n",
    "\n",
    "# assert depth%2 == 0, \"Depth must be even.\"\n",
    "# angle_rate_exponents = np.linspace(0,1,depth//2)\n",
    "# angle_rates = min_rate**(angle_rate_exponents)"
   ]
  },
  {
   "cell_type": "code",
   "execution_count": 22,
   "metadata": {},
   "outputs": [],
   "source": [
    "# positions = np.arange(num_positions) \n",
    "# timeStamps = np.tile(positions, (batchSize,1))"
   ]
  },
  {
   "cell_type": "code",
   "execution_count": 23,
   "metadata": {},
   "outputs": [],
   "source": [
    "# print(timeStamps)\n",
    "# print(timeStamps.shape)"
   ]
  },
  {
   "cell_type": "code",
   "execution_count": 24,
   "metadata": {},
   "outputs": [],
   "source": [
    "# angle_rads = timeStamps[:, :, np.newaxis]*angle_rates[np.newaxis, np.newaxis, :]\n",
    "# print(angle_rads.shape)"
   ]
  },
  {
   "cell_type": "code",
   "execution_count": 25,
   "metadata": {},
   "outputs": [],
   "source": [
    "# ### Compute sines And cosines, Merge Them properly, not with concatenate.\n",
    "\n",
    "# finalTensor = np.empty((batchSize, sequenceSize, depth))\n",
    "# for i in range(batchSize):\n",
    "#     sines = np.sin(angle_rads[i, :, :])\n",
    "#     cosines = np.cos(angle_rads[i, :, :])\n",
    "#     arr = np.reshape(np.vstack((sines, cosines)).ravel('F'), (num_positions, depth), order='F')\n",
    "#     finalTensor[i, :, :] = arr"
   ]
  },
  {
   "cell_type": "code",
   "execution_count": 26,
   "metadata": {},
   "outputs": [],
   "source": [
    "# plt.figure(figsize=(25,5))\n",
    "# plt.pcolormesh(finalTensor[0, :, :], \n",
    "#                # Use a diverging colormap so it's clear where zero is.\n",
    "#                cmap='RdBu', vmin=-1, vmax=1)\n",
    "# plt.xlim([0,depth])\n",
    "# plt.ylabel('Position')\n",
    "# plt.xlabel('Depth')\n",
    "# plt.colorbar()\n",
    "# plt.show()"
   ]
  },
  {
   "cell_type": "code",
   "execution_count": 27,
   "metadata": {},
   "outputs": [],
   "source": [
    "# print(example.shape)\n",
    "# print(finalTensor.shape)"
   ]
  },
  {
   "cell_type": "code",
   "execution_count": 28,
   "metadata": {},
   "outputs": [],
   "source": [
    "# ### Check That The Result Is Correct\n",
    "\n",
    "# q = finalTensor[0, :, :]\n",
    "# np.array_equal(finalTensor[5, :, :], example)"
   ]
  },
  {
   "cell_type": "markdown",
   "metadata": {},
   "source": [
    "### Implement The Positional Encoding In A Function"
   ]
  },
  {
   "cell_type": "code",
   "execution_count": 29,
   "metadata": {},
   "outputs": [],
   "source": [
    "import numpy as np\n",
    "import matplotlib.pyplot as plt"
   ]
  },
  {
   "cell_type": "code",
   "execution_count": 30,
   "metadata": {},
   "outputs": [],
   "source": [
    "### Implement The Positional Encoding In A Function\n",
    "\n",
    "def positionalEncoding(sequence, depth):\n",
    "    \n",
    "    batchSize = sequence.shape[0]\n",
    "    sequenceSize = sequence.shape[1]\n",
    "    \n",
    "    min_rate = 1/10000\n",
    "\n",
    "    assert depth%2 == 0, \"Depth must be even.\"\n",
    "    angle_rate_exponents = np.linspace(0,1,depth//2)\n",
    "    angle_rates = min_rate**(angle_rate_exponents)\n",
    "    \n",
    "    angle_rads = sequence[:, :, np.newaxis]*angle_rates[np.newaxis, np.newaxis, :]\n",
    "\n",
    "    out = np.empty((batchSize, sequenceSize, depth))\n",
    "    for i in range(batchSize):\n",
    "        sines = np.sin(angle_rads[i, :, :])\n",
    "        cosines = np.cos(angle_rads[i, :, :])\n",
    "        arr = np.reshape(np.vstack((sines, cosines)).ravel('F'), (sequenceSize, depth), order='F')\n",
    "        out[i, :, :] = arr\n",
    "    \n",
    "    return out"
   ]
  },
  {
   "cell_type": "code",
   "execution_count": 31,
   "metadata": {},
   "outputs": [],
   "source": [
    "### Test The Function\n",
    "\n",
    "batchSize = 6\n",
    "num_positions = 16\n",
    "depth = 512\n",
    "\n",
    "positions = np.arange(num_positions) \n",
    "timeStamps = np.tile(positions, (batchSize,1))\n",
    "\n",
    "finalTensor = positionalEncoding(timeStamps, depth)"
   ]
  },
  {
   "cell_type": "code",
   "execution_count": 32,
   "metadata": {},
   "outputs": [
    {
     "data": {
      "image/png": "[encoded data removed]",
      "text/plain": [
       "<Figure size 1800x360 with 2 Axes>"
      ]
     },
     "metadata": {
      "needs_background": "light"
     },
     "output_type": "display_data"
    }
   ],
   "source": [
    "plt.figure(figsize=(25,5))\n",
    "plt.pcolormesh(finalTensor[0, :, :], \n",
    "               # Use a diverging colormap so it's clear where zero is.\n",
    "               cmap='RdBu', vmin=-1, vmax=1)\n",
    "plt.xlim([0,depth])\n",
    "plt.ylabel('Position')\n",
    "plt.xlabel('Depth')\n",
    "plt.colorbar()\n",
    "plt.show()"
   ]
  },
  {
   "cell_type": "code",
   "execution_count": 33,
   "metadata": {},
   "outputs": [
    {
     "data": {
      "text/plain": [
       "True"
      ]
     },
     "execution_count": 33,
     "metadata": {},
     "output_type": "execute_result"
    }
   ],
   "source": [
    "### Check That The Result Is Correct\n",
    "\n",
    "q = finalTensor[0, :, :]\n",
    "np.array_equal(finalTensor[5, :, :], example)"
   ]
  }
 ],
 "metadata": {
  "accelerator": "GPU",
  "colab": {
   "collapsed_sections": [],
   "name": "position_encoding.ipynb",
   "private_outputs": true,
   "provenance": [],
   "toc_visible": true,
   "version": "0.3.2"
  },
  "kernelspec": {
   "display_name": ".venv_X",
   "language": "python",
   "name": ".venv_x"
  },
  "language_info": {
   "codemirror_mode": {
    "name": "ipython",
    "version": 3
   },
   "file_extension": ".py",
   "mimetype": "text/x-python",
   "name": "python",
   "nbconvert_exporter": "python",
   "pygments_lexer": "ipython3",
   "version": "3.8.2"
  }
 },
 "nbformat": 4,
 "nbformat_minor": 4
}
