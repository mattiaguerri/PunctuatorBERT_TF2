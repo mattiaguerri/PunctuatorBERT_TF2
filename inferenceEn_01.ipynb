{
 "cells": [
  {
   "cell_type": "code",
   "execution_count": 1,
   "metadata": {},
   "outputs": [],
   "source": [
    "import os\n",
    "import numpy as np\n",
    "import tensorflow as tf\n",
    "from data import load_file\n",
    "from transformers import BertTokenizer\n",
    "from transformers import TFBertForMaskedLM\n",
    "from datetime import datetime\n",
    "import json\n",
    "import sys"
   ]
  },
  {
   "cell_type": "code",
   "execution_count": 2,
   "metadata": {},
   "outputs": [],
   "source": [
    "n = 20\n",
    "\n",
    "vocab_size = 30522\n",
    "segment_size = 32\n",
    "batch_size = 2\n",
    "train_layer_ind = 0  # 0 for all model, -2 for only top layer\n",
    "learat = 1e-4\n",
    "num_epochs = 10\n",
    "\n",
    "hyperparameters = {\n",
    "    'vocab_size': vocab_size,\n",
    "    'segment_size': segment_size,\n",
    "    'learning_rate': learat,\n",
    "    'batch_size': batch_size\n",
    "}\n",
    "\n",
    "save_path = 'ModelsExp/{}/'.format(datetime.now().strftime(\"%Y%m%d_%H%M%S\"))\n",
    "os.mkdir(save_path)\n",
    "with open(save_path + 'hyperparameters.json', 'w') as f:\n",
    "    json.dump(hyperparameters, f)"
   ]
  },
  {
   "cell_type": "code",
   "execution_count": 3,
   "metadata": {},
   "outputs": [],
   "source": [
    "### instantiate the tokenizer\n",
    "tokenizer = BertTokenizer.from_pretrained('bert-base-uncased', do_lower_case=True)"
   ]
  },
  {
   "cell_type": "code",
   "execution_count": 4,
   "metadata": {},
   "outputs": [],
   "source": [
    "def encodeDataInfer(data, tokenizer):\n",
    "    \"\"\"\n",
    "    Takes in the data made of sentences, with words separated by blank spaces (no punctuation).\n",
    "    Output X, list containing the token id of the words.\n",
    "    \"\"\"\n",
    "    X = []\n",
    "    for line in data:\n",
    "        words = line.split(\" \")\n",
    "        words[-1] = words[-1].strip()  # get rid of \\n at the end of the line\n",
    "        for word in words:\n",
    "            token = tokenizer.tokenize(word)\n",
    "            tokenId = tokenizer.convert_tokens_to_ids(token)\n",
    "            X += tokenId\n",
    "    return X"
   ]
  },
  {
   "cell_type": "code",
   "execution_count": 5,
   "metadata": {},
   "outputs": [],
   "source": [
    "def insert_target(x, segment_size):\n",
    "    \"\"\"\n",
    "    Restructure x in order to have sequences of length equal to segment_size.\n",
    "    Output X, an array with dimensions len(x) * segment_size.\n",
    "    In each segment the target is placed in the middle and replaced with a zero.\n",
    "    \"\"\"\n",
    "    X = []\n",
    "    x_pad = x[-((segment_size-1)//2-1):]+x+x[:segment_size//2]\n",
    "\n",
    "    for i in range(len(x_pad)-segment_size+2):\n",
    "        segment = x_pad[i:i+segment_size-1]\n",
    "        segment.insert((segment_size-1)//2, 0)\n",
    "        X.append(segment)\n",
    "\n",
    "    return np.array(X)"
   ]
  },
  {
   "cell_type": "code",
   "execution_count": 6,
   "metadata": {},
   "outputs": [],
   "source": [
    "# print('\\nPRE-PROCESS AND PROCESS DATA')\n",
    "\n",
    "\n",
    "# name of dataset with sentences\n",
    "data_name = \"IWSLT12\"\n",
    "infSet_01 = 'Data' + data_name + '/' + 'toyInfer_01.txt'\n",
    "data = load_file(infSet_01)\n",
    "\n",
    "\n",
    "X_ = encodeDataInfer(data, tokenizer)\n",
    "X = insert_target(X_, segment_size)\n",
    "\n",
    "\n",
    "# # get only a fraction of dataset\n",
    "# X = X[0:n]\n",
    "\n",
    "\n",
    "# instantiate tf.data.Dataset\n",
    "dataset = tf.data.Dataset.from_tensor_slices((X,)).batch(batch_size)"
   ]
  },
  {
   "cell_type": "code",
   "execution_count": 7,
   "metadata": {},
   "outputs": [
    {
     "name": "stdout",
     "output_type": "stream",
     "text": [
      "(174, 32)\n",
      "<class 'numpy.ndarray'>\n",
      "[ 3023  2057 17835  8216  8310  1997 10796  2046  1996  2250  1998  2046\n",
      "  1996  2300  2009     0  2064  2022  1037  2200  8552  2518  1996  4153\n",
      "  1998  2009  2064  2022  1037  2200  8552  2518]\n"
     ]
    }
   ],
   "source": [
    "print(X.shape)\n",
    "print(type(X[0]))\n",
    "print(X[0])"
   ]
  },
  {
   "cell_type": "markdown",
   "metadata": {},
   "source": [
    "## Build the model"
   ]
  },
  {
   "cell_type": "code",
   "execution_count": 8,
   "metadata": {},
   "outputs": [],
   "source": [
    "bert_input = tf.keras.Input(shape=(segment_size), dtype='int32', name='bert_input')\n",
    "x = TFBertForMaskedLM.from_pretrained('bert-base-uncased')(bert_input)[0]\n",
    "x = tf.keras.layers.Reshape((segment_size*vocab_size,))(x)\n",
    "dense_out = tf.keras.layers.Dense(4)(x)\n",
    "\n",
    "\n",
    "model = tf.keras.Model(bert_input, dense_out, name='BertModel')\n",
    "# print(model.summary())"
   ]
  },
  {
   "cell_type": "code",
   "execution_count": 9,
   "metadata": {},
   "outputs": [],
   "source": [
    "checkpoint_path = \"Models/20200425_142515/cp-008.ckpt\""
   ]
  },
  {
   "cell_type": "code",
   "execution_count": 10,
   "metadata": {},
   "outputs": [
    {
     "data": {
      "text/plain": [
       "<tensorflow.python.training.tracking.util.CheckpointLoadStatus at 0x7fdee062feb0>"
      ]
     },
     "execution_count": 10,
     "metadata": {},
     "output_type": "execute_result"
    }
   ],
   "source": [
    "# load the weights\n",
    "model.load_weights(checkpoint_path)"
   ]
  },
  {
   "cell_type": "markdown",
   "metadata": {},
   "source": [
    "## Calculate predictions"
   ]
  },
  {
   "cell_type": "code",
   "execution_count": 11,
   "metadata": {},
   "outputs": [],
   "source": [
    "feats = next(iter(dataset))"
   ]
  },
  {
   "cell_type": "code",
   "execution_count": 12,
   "metadata": {},
   "outputs": [],
   "source": [
    "preds = np.argmax(model.predict(dataset), axis=1)"
   ]
  },
  {
   "cell_type": "code",
   "execution_count": 13,
   "metadata": {},
   "outputs": [],
   "source": [
    "# print(preds.shape)\n",
    "# print(preds)\n",
    "# print(type(preds[0]))"
   ]
  },
  {
   "cell_type": "code",
   "execution_count": 14,
   "metadata": {},
   "outputs": [],
   "source": [
    "# print(len(X_))\n",
    "# print(X_)"
   ]
  },
  {
   "cell_type": "markdown",
   "metadata": {},
   "source": [
    "## Return the text with restored (inferred) punctuation"
   ]
  },
  {
   "cell_type": "code",
   "execution_count": 15,
   "metadata": {},
   "outputs": [],
   "source": [
    "punDec = {\n",
    "    '0': \"SPACE\",\n",
    "    '1': \"COMMA\",\n",
    "    '2': \"PERIOD\",\n",
    "    '3': \"QUESTION\"\n",
    "}"
   ]
  },
  {
   "cell_type": "code",
   "execution_count": 16,
   "metadata": {},
   "outputs": [],
   "source": [
    "def restorePunctuation(X, preds, punDec, tokenizer, fileName):\n",
    "    file = open(fileName, 'w')\n",
    "    for i in range(len(preds)):\n",
    "        word = tokenizer.convert_ids_to_tokens(X_[i])\n",
    "        pun = punDec[str(preds[i])]\n",
    "        file.write(word + \" | \" + pun + \" \\n\")\n",
    "    file.close()"
   ]
  },
  {
   "cell_type": "code",
   "execution_count": 17,
   "metadata": {},
   "outputs": [],
   "source": [
    "restorePunctuation(X_, preds, punDec, tokenizer, 'textRestored.txt')"
   ]
  },
  {
   "cell_type": "code",
   "execution_count": null,
   "metadata": {},
   "outputs": [],
   "source": []
  },
  {
   "cell_type": "code",
   "execution_count": null,
   "metadata": {},
   "outputs": [],
   "source": []
  },
  {
   "cell_type": "code",
   "execution_count": null,
   "metadata": {},
   "outputs": [],
   "source": []
  },
  {
   "cell_type": "code",
   "execution_count": null,
   "metadata": {},
   "outputs": [],
   "source": []
  },
  {
   "cell_type": "code",
   "execution_count": null,
   "metadata": {},
   "outputs": [],
   "source": []
  },
  {
   "cell_type": "code",
   "execution_count": null,
   "metadata": {},
   "outputs": [],
   "source": []
  }
 ],
 "metadata": {
  "kernelspec": {
   "display_name": ".venv_X",
   "language": "python",
   "name": ".venv_x"
  },
  "language_info": {
   "codemirror_mode": {
    "name": "ipython",
    "version": 3
   },
   "file_extension": ".py",
   "mimetype": "text/x-python",
   "name": "python",
   "nbconvert_exporter": "python",
   "pygments_lexer": "ipython3",
   "version": "3.8.2"
  }
 },
 "nbformat": 4,
 "nbformat_minor": 4
}
