{
 "cells": [
  {
   "cell_type": "markdown",
   "metadata": {},
   "source": [
    "# Experimenting in Using Time Stamps"
   ]
  },
  {
   "cell_type": "markdown",
   "metadata": {},
   "source": [
    "Build a model that takes token_ids as input. The first model layer embeds the tokens_inds."
   ]
  },
  {
   "cell_type": "code",
   "execution_count": 1,
   "metadata": {},
   "outputs": [],
   "source": [
    "import os\n",
    "import numpy as np\n",
    "import tensorflow as tf\n",
    "from dataProcessing import load_file, encodeData, insert_target, processingScriber00\n",
    "from transformers import AutoTokenizer, TFCamembertForMaskedLM\n",
    "from datetime import datetime\n",
    "import sys"
   ]
  },
  {
   "cell_type": "code",
   "execution_count": 2,
   "metadata": {},
   "outputs": [],
   "source": [
    "### instantiate the tokenizer\n",
    "tokenizer = AutoTokenizer.from_pretrained(\"jplu/tf-camembert-base\", do_lower_case=True)\n",
    "\n",
    "### punctuation encoder\n",
    "punctuation_enc = {\n",
    "    'O': 0,\n",
    "    'PERIOD': 1,\n",
    "}\n",
    "\n",
    "### Set Vocabulary Size and Hidden Dimension (BERT)\n",
    "vocabSize = 32005\n",
    "hiddenDimension = 768\n",
    "\n",
    "### hyper-parameters\n",
    "sequenceSize = 32\n",
    "batchSize = 32\n",
    "learningRate = 1e-5\n",
    "trainLayerIndex = 0\n",
    "numEpo = 3\n",
    "\n",
    "listHyper0 = ['sequenceSize', 'batchSize', 'learningRate', 'trainLayerIndex', 'numEpo']\n",
    "listHyper1 = [str(sequenceSize), str(batchSize), str(learningRate), str(trainLayerIndex), str(numEpo)]\n",
    "time = datetime.now().strftime(\"%Y%m%d_%H%M%S\")\n",
    "save_path = 'ModelsExpScriber/{}/'.format(time)\n",
    "os.mkdir(save_path)"
   ]
  },
  {
   "cell_type": "code",
   "execution_count": 6,
   "metadata": {},
   "outputs": [
    {
     "name": "stdout",
     "output_type": "stream",
     "text": [
      "\n",
      "Processing Training Data ... \n",
      "\n",
      "Training Dataset Tensor Shape =  (1821184, 32)\n"
     ]
    }
   ],
   "source": [
    "### Get Training Dataset\n",
    "\n",
    "print('\\nProcessing Training Data ... ')\n",
    "\n",
    "# name of dataset with sentences\n",
    "data_name = \"Scriber\"\n",
    "\n",
    "# file name\n",
    "trainDataName = 'Data' + data_name + '/' + 'raw.processed.Train_01.txt'\n",
    "\n",
    "# from sentences to list of words+punctuation\n",
    "data_train = load_file(processingScriber00(trainDataName))\n",
    "\n",
    "# encode data and insert target\n",
    "X_train_, y_train_ = encodeData(data_train, tokenizer, punctuation_enc)\n",
    "X_train = insert_target(X_train_, sequenceSize)\n",
    "y_train = np.asarray(y_train_)\n",
    "\n",
    "# get only a fraction of data \n",
    "n = 1821184\n",
    "X_train = X_train[0:n]\n",
    "y_train = y_train[0:n]\n",
    "\n",
    "# build the datasets\n",
    "trainDataset = tf.data.Dataset.from_tensor_slices((X_train, y_train)).shuffle(buffer_size=500000).batch(batchSize)\n",
    "\n",
    "print(\"\\nTraining Dataset Tensor Shape = \", X_train.shape)"
   ]
  },
  {
   "cell_type": "code",
   "execution_count": 7,
   "metadata": {},
   "outputs": [
    {
     "data": {
      "text/plain": [
       "56912.0"
      ]
     },
     "execution_count": 7,
     "metadata": {},
     "output_type": "execute_result"
    }
   ],
   "source": [
    "# (1821205-21)\n",
    "1821184 /32"
   ]
  },
  {
   "cell_type": "code",
   "execution_count": null,
   "metadata": {},
   "outputs": [],
   "source": [
    "### Build a Test Input Tensor \n",
    "\n",
    "testInputTensor, label = next(iter(trainDataset))\n",
    "# print(testInputTensor.shape)\n",
    "# print(testInputTensor)\n",
    "testInputTensor = tf.one_hot(testInputTensor, vocabSize)\n",
    "# print(\"\\n\", testInputTensor.shape)\n",
    "# print(testInputTensor[0][0, 50])"
   ]
  },
  {
   "cell_type": "code",
   "execution_count": null,
   "metadata": {},
   "outputs": [],
   "source": [
    "### Get word_embeddings Weights From a Pre-Trained Model\n",
    "\n",
    "# Build The Model\n",
    "bert_input = tf.keras.Input(shape=(sequenceSize), dtype='int32')\n",
    "x = TFCamembertForMaskedLM.from_pretrained(\"jplu/tf-camembert-base\")(bert_input)[0]\n",
    "x = tf.keras.layers.Reshape((sequenceSize*vocabSize,))(x)\n",
    "dense_out = tf.keras.layers.Dense(len(punctuation_enc))(x)\n",
    "modelPreTrained = tf.keras.Model(bert_input, dense_out)\n",
    "\n",
    "# Extract word_embeddings Weights\n",
    "weightsTensor = modelPreTrained.trainable_variables[194][0:]\n",
    "\n",
    "# print some weights\n",
    "print(modelPreTrained.trainable_variables[194][0][0:5])"
   ]
  },
  {
   "cell_type": "code",
   "execution_count": null,
   "metadata": {},
   "outputs": [],
   "source": [
    "### Build a Linear Layer to Embed the tokens_ids\n",
    "\n",
    "linearProj = tf.keras.layers.Dense(768, input_shape=(32005,), use_bias=False)\n",
    "tensor = tf.zeros(shape=[1, 32005])\n",
    "linearProj(tensor)  # execute the layer\n",
    "linearProj.trainable_variables[0].assign(weightsTensor)  # load the weights\n",
    "\n",
    "# print some weights\n",
    "print(linearProj.trainable_variables[0][0][0:5])"
   ]
  },
  {
   "cell_type": "code",
   "execution_count": null,
   "metadata": {},
   "outputs": [],
   "source": [
    "### Build a BERT Layer and Execute It\n",
    "\n",
    "bertLayer = TFCamembertForMaskedLM.from_pretrained(\"jplu/tf-camembert-base\")\n",
    "randTensor = tf.random.uniform(shape=[batchSize, sequenceSize, hiddenDimension])\n",
    "_ = bertLayer(None, inputs_embeds=randTensor)"
   ]
  },
  {
   "cell_type": "code",
   "execution_count": null,
   "metadata": {},
   "outputs": [],
   "source": [
    "### Build the Experimental Model\n",
    "\n",
    "inp = tf.keras.Input(shape=(sequenceSize, vocabSize), batch_size=batchSize, dtype='float32')\n",
    "x = linearProj(inp)\n",
    "x = bertLayer(None, inputs_embeds=x)[0]\n",
    "x = tf.keras.layers.Reshape((sequenceSize*vocabSize,))(x)\n",
    "out = tf.keras.layers.Dense(len(punctuation_enc), activation='softmax')(x)\n",
    "\n",
    "model = tf.keras.Model(inp, out)"
   ]
  },
  {
   "cell_type": "code",
   "execution_count": null,
   "metadata": {},
   "outputs": [],
   "source": [
    "### Runt the Model on One Input\n",
    "\n",
    "_ = model(testInputTensor)"
   ]
  },
  {
   "cell_type": "code",
   "execution_count": null,
   "metadata": {},
   "outputs": [],
   "source": [
    "### Define Loss\n",
    "\n",
    "loss_object = tf.keras.losses.SparseCategoricalCrossentropy(from_logits=True)\n",
    "def loss(model, x, y):\n",
    "    y_ = model(x)\n",
    "    return loss_object(y_true=y, y_pred=y_)\n",
    "\n",
    "### Function to Calculate Gradients\n",
    "\n",
    "def grad(model, inputs, targets, trainLayInd):\n",
    "    with tf.GradientTape() as tape:\n",
    "        loss_value = loss(model, inputs, targets)\n",
    "    return loss_value, tape.gradient(loss_value, model.trainable_variables[trainLayInd:])\n",
    "\n",
    "### Define the Optimizer\n",
    "\n",
    "optimizer = tf.keras.optimizers.Adam(learning_rate=learningRate)"
   ]
  },
  {
   "cell_type": "markdown",
   "metadata": {},
   "source": [
    "### Training Loop"
   ]
  },
  {
   "cell_type": "code",
   "execution_count": null,
   "metadata": {},
   "outputs": [],
   "source": [
    "print(\"\\nExperiment Folder: \", time)\n",
    "print(\"\\nHyperparameters:\")\n",
    "print('vocabSize = ', vocabSize)\n",
    "print('sequenceSize = ', sequenceSize)\n",
    "print('batchSize = ', batchSize)\n",
    "print('leaRat = ', learningRate)\n",
    "print('Train Layer Index = ', trainLayerIndex)\n",
    "print('numEpo = ', numEpo)\n",
    "\n",
    "epoch_loss_avg = tf.keras.metrics.Mean()\n",
    "epoch_accuracy = tf.keras.metrics.SparseCategoricalAccuracy()\n",
    "\n",
    "train_loss_results = []\n",
    "train_accuracy_results = []\n",
    "\n",
    "checkpoint_path = save_path + \"cp-{epoch:03d}.ckpt\"\n",
    "\n",
    "print(\"\\nTraining the Model ... \")\n",
    "for epoch in range(1, numEpo+1):\n",
    "\n",
    "    # training loop\n",
    "    for x, y in trainDataset:\n",
    "        x = tf.one_hot(x, vocabSize)\n",
    "        # optimize the model\n",
    "        loss_value, grads = grad(model, x, y, trainLayerIndex)\n",
    "        optimizer.apply_gradients(zip(grads, model.trainable_variables[trainLayerIndex:]))\n",
    "\n",
    "        # track progress\n",
    "        epoch_loss_avg.update_state(loss_value)\n",
    "        epoch_accuracy.update_state(y, model(x))\n",
    "\n",
    "    # end epoch\n",
    "    train_loss_results.append(epoch_loss_avg.result())\n",
    "    train_accuracy_results.append(epoch_accuracy.result())\n",
    "\n",
    "    print(\"\\nEpoch {:03d}: (Training)   Loss: {:.3f}, Accuracy: {:.3%}\".format(epoch, epoch_loss_avg.result(), epoch_accuracy.result()))\n",
    "\n",
    "    # # save model if new min for train loss is found\n",
    "    tmpTrain = epoch_loss_avg.result().numpy()\n",
    "    model.save_weights(checkpoint_path.format(epoch=epoch))\n",
    "\n",
    "    epoch_loss_avg.reset_states()\n",
    "    epoch_accuracy.reset_states()"
   ]
  },
  {
   "cell_type": "markdown",
   "metadata": {},
   "source": [
    "### Output Training Details on Log File"
   ]
  },
  {
   "cell_type": "code",
   "execution_count": null,
   "metadata": {},
   "outputs": [],
   "source": [
    "nameLogFile = 'log.txt'\n",
    "logFile = open(save_path + nameLogFile, \"w\")\n",
    "\n",
    "# write name of model\n",
    "logFile.write(\"\\n\" + time + \"\\n\\n\")\n",
    "\n",
    "# write hyper parameters\n",
    "for i in range(len(listHyper0)):\n",
    "    logFile.write(listHyper0[i] + \":  \" + listHyper1[i] + \"\\n\")\n",
    "\n",
    "# write training details\n",
    "logFile.write('\\nTRAINING')\n",
    "trainLossArr = np.asarray(train_loss_results)\n",
    "trainAccArr = np.asarray(train_accuracy_results)\n",
    "for i in range(numEpo):\n",
    "    epoch = i+1\n",
    "    logFile.write(\"\\nEpoch {:03d}:   Loss: {:7.4f},   Accuracy: {:7.4%}\".format(epoch, trainLossArr[i], trainAccArr[i]))"
   ]
  },
  {
   "cell_type": "markdown",
   "metadata": {},
   "source": [
    "### Evaluate the models, Write Results on the logFile"
   ]
  },
  {
   "cell_type": "code",
   "execution_count": null,
   "metadata": {},
   "outputs": [],
   "source": [
    "### Get the Test Dataset\n",
    "\n",
    "# name of dataset\n",
    "dataName = \"Scriber\"\n",
    "\n",
    "# file name\n",
    "testDataName = 'Data' + data_name + '/' + 'raw.processed.Test_01.txt'\n",
    "\n",
    "# from sentences to list of words+punctuation\n",
    "data = load_file(processingScriber00(testDataName))\n",
    "\n",
    "# Encode data and insert target.\n",
    "X_, y_ = encodeData(data, tokenizer, punctuation_enc)\n",
    "X = insert_target(X_, sequenceSize)\n",
    "y = np.asarray(y_)\n",
    "\n",
    "# # get only a fraction of data \n",
    "# n = 64\n",
    "# X = X[0:n]\n",
    "# y = y[0:n]\n",
    "\n",
    "# one hot encode the labels\n",
    "y = tf.one_hot(y, len(punctuation_enc), dtype='int64').numpy()\n",
    "\n",
    "# build the datasets\n",
    "dataset = tf.data.Dataset.from_tensor_slices((X, y)).batch(batchSize)\n",
    "\n",
    "print(\"\\nTest Dataset Tensor Shape = \", X.shape)"
   ]
  },
  {
   "cell_type": "code",
   "execution_count": null,
   "metadata": {},
   "outputs": [],
   "source": [
    "### Build and Compile the Model\n",
    "\n",
    "inp = tf.keras.Input(shape=(sequenceSize, vocabSize), batch_size=batchSize, dtype='float32')\n",
    "x = linearProj(inp)\n",
    "x = bertLayer(None, inputs_embeds=x)[0]\n",
    "x = tf.keras.layers.Reshape((sequenceSize*vocabSize,))(x)\n",
    "out = tf.keras.layers.Dense(len(punctuation_enc), activation='softmax')(x)\n",
    "\n",
    "model = tf.keras.Model(inp, out)\n",
    "\n",
    "model.compile(optimizer='adam',\n",
    "              loss=tf.losses.CategoricalCrossentropy(from_logits=False),\n",
    "              metrics=[tf.keras.metrics.Recall(class_id=0, name='Rec_0'),\n",
    "                       tf.keras.metrics.Precision(class_id=0, name='Prec_0'),\n",
    "                       tf.keras.metrics.Recall(class_id=1, name='Rec_1'),\n",
    "                       tf.keras.metrics.Precision(class_id=1, name='Prec_1'),\n",
    "                      ])"
   ]
  },
  {
   "cell_type": "code",
   "execution_count": null,
   "metadata": {},
   "outputs": [],
   "source": [
    "### Get List of the Models in the Output Folder\n",
    "\n",
    "modelsLst = []\n",
    "for r, d, f in os.walk(save_path):\n",
    "    for file in sorted(f):\n",
    "        if \".index\" in file:\n",
    "            modelsLst.append(file[:-6])"
   ]
  },
  {
   "cell_type": "code",
   "execution_count": null,
   "metadata": {},
   "outputs": [],
   "source": [
    "# compute f1 score\n",
    "def compF1(rec, pre):\n",
    "    if pre + rec == .0:\n",
    "        return .0\n",
    "    else:\n",
    "        return 2 * (pre*rec) / (pre+rec)"
   ]
  },
  {
   "cell_type": "code",
   "execution_count": null,
   "metadata": {},
   "outputs": [],
   "source": [
    "# ### Evaluate the Models\n",
    "\n",
    "# print(\"\\nEvaluate Models\")\n",
    "\n",
    "# print(\"\\nTest Set Tensor Shape = \", X.shape)\n",
    "\n",
    "# logFile.write('\\n\\nEVALUATION\\n')\n",
    "# for i in range(len(modelsLst)):\n",
    "#     checkpointPath = save_path + modelsLst[i]\n",
    "#     print(checkpointPath)\n",
    "\n",
    "#     # load weights\n",
    "#     model.load_weights(checkpointPath)\n",
    "\n",
    "#     # evaluate\n",
    "#     evaluation = model.evaluate(dataset)\n",
    "    \n",
    "#     f1_0 = compF1(evaluation[1],evaluation[2])\n",
    "#     f1_1 = compF1(evaluation[3],evaluation[4])\n",
    "#     print(\"F1_0 = {:10.7f} - F1_1 = {:10.7f}\".format(f1_0, f1_1))\n",
    "    \n",
    "#     # write details on log files\n",
    "#     logFile.write(modelsLst[i])\n",
    "#     logFile.write(\" - Loss = {:7.4f} - Rec_0 = {:6.4f} - Pre_0 = {:6.4f} - F1_0 = {:10.7f} - Rec_1 = {:6.4f} - Pre_1 = {:6.4f} - F1_1 = {:10.7f}\\n\".format(evaluation[0], evaluation[1], evaluation[2], f1_0, evaluation[3], evaluation[4], f1_1))\n",
    "\n",
    "# logFile.close()"
   ]
  }
 ],
 "metadata": {
  "kernelspec": {
   "display_name": "venvTrans",
   "language": "python",
   "name": "venvtrans"
  },
  "language_info": {
   "codemirror_mode": {
    "name": "ipython",
    "version": 3
   },
   "file_extension": ".py",
   "mimetype": "text/x-python",
   "name": "python",
   "nbconvert_exporter": "python",
   "pygments_lexer": "ipython3",
   "version": "3.8.2"
  }
 },
 "nbformat": 4,
 "nbformat_minor": 4
}
