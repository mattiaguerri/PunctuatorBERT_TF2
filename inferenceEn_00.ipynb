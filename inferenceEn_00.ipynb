{
 "cells": [
  {
   "cell_type": "code",
   "execution_count": 1,
   "metadata": {},
   "outputs": [],
   "source": [
    "import os\n",
    "import numpy as np\n",
    "import tensorflow as tf\n",
    "from data import load_file, preProcessingIWSLT12\n",
    "from transformers import BertTokenizer\n",
    "from transformers import TFBertForMaskedLM\n",
    "from datetime import datetime\n",
    "import json\n",
    "import sys"
   ]
  },
  {
   "cell_type": "code",
   "execution_count": 2,
   "metadata": {},
   "outputs": [],
   "source": [
    "n = 20\n",
    "\n",
    "vocab_size = 30522\n",
    "segment_size = 32\n",
    "batch_size = 2\n",
    "train_layer_ind = 0  # 0 for all model, -2 for only top layer\n",
    "learat = 1e-4\n",
    "num_epochs = 10\n",
    "\n",
    "hyperparameters = {\n",
    "    'vocab_size': vocab_size,\n",
    "    'segment_size': segment_size,\n",
    "    'learning_rate': learat,\n",
    "    'batch_size': batch_size\n",
    "}\n",
    "\n",
    "save_path = 'ModelsExp/{}/'.format(datetime.now().strftime(\"%Y%m%d_%H%M%S\"))\n",
    "os.mkdir(save_path)\n",
    "with open(save_path + 'hyperparameters.json', 'w') as f:\n",
    "    json.dump(hyperparameters, f)"
   ]
  },
  {
   "cell_type": "code",
   "execution_count": 3,
   "metadata": {},
   "outputs": [],
   "source": [
    "### instantiate the tokenizer\n",
    "tokenizer = BertTokenizer.from_pretrained('bert-base-uncased', do_lower_case=True)"
   ]
  },
  {
   "cell_type": "code",
   "execution_count": 4,
   "metadata": {},
   "outputs": [],
   "source": [
    "punctuation_enc = {\n",
    "    'O': 0,\n",
    "    'COMMA': 1,\n",
    "    'PERIOD': 2,\n",
    "    'QUESTION': 3\n",
    "}"
   ]
  },
  {
   "cell_type": "code",
   "execution_count": 5,
   "metadata": {},
   "outputs": [],
   "source": [
    "def encode_data(data, tokenizer, punctuation_enc):\n",
    "    \"\"\"\n",
    "    Takes in the dataset mode of two columns separated by comma.\n",
    "    First column is a word, second column is what comes after the word (blank space, comma, period, etc.)\n",
    "    Output X, containing the token id of the the words.\n",
    "    Output y, which contains what there is after the word.\n",
    "    \"\"\"\n",
    "    X = []\n",
    "    Y = []\n",
    "    for line in data:\n",
    "        word, punc = line.split(',')\n",
    "        punc = punc.strip()\n",
    "        tokens = tokenizer.tokenize(word)\n",
    "        x = tokenizer.convert_tokens_to_ids(tokens)\n",
    "        y = [punctuation_enc[punc]]\n",
    "        # one word can be encoded in more than one token\n",
    "        if len(x) > 0:\n",
    "            if len(x) > 1:\n",
    "                y = (len(x)-1)*[0]+y\n",
    "            X += x\n",
    "            Y += y\n",
    "    return X, Y"
   ]
  },
  {
   "cell_type": "code",
   "execution_count": 6,
   "metadata": {},
   "outputs": [],
   "source": [
    "def insert_target(x, segment_size):\n",
    "    \"\"\"\n",
    "    Restructure x in order to have sequences of length segment_size.\n",
    "    Output X, an array with dimensions len(x) * segment_size.\n",
    "    In each segment the target is placed in the middle and replaced with a zero.\n",
    "    \"\"\"\n",
    "    X = []\n",
    "    x_pad = x[-((segment_size-1)//2-1):]+x+x[:segment_size//2]\n",
    "\n",
    "    for i in range(len(x_pad)-segment_size+2):\n",
    "        segment = x_pad[i:i+segment_size-1]\n",
    "        segment.insert((segment_size-1)//2, 0)\n",
    "        X.append(segment)\n",
    "\n",
    "    return np.array(X)"
   ]
  },
  {
   "cell_type": "code",
   "execution_count": 7,
   "metadata": {},
   "outputs": [],
   "source": [
    "# print('\\nPRE-PROCESS AND PROCESS DATA')\n",
    "\n",
    "\n",
    "# name of dataset with sentences\n",
    "data_name = \"IWSLT12\"\n",
    "infSet_01 = 'Data' + data_name + '/' + 'toyTrain_01.txt'\n",
    "\n",
    "\n",
    "# from sentences to list of words+punctuation\n",
    "outInf = preProcessingIWSLT12(infSet_01)\n",
    "\n",
    "\n",
    "processedData = load_file(outInf)\n",
    "\n",
    "\n",
    "X_, y_ = encode_data(processedData, tokenizer, punctuation_enc)\n",
    "X = insert_target(X_, segment_size)\n",
    "y = np.asarray(y_)\n",
    "\n",
    "\n",
    "# # get only a fraction of dataset\n",
    "# X = X[0:n]\n",
    "# y = y[0:n]\n",
    "\n",
    "\n",
    "# # instantiate tf.data.Dataset\n",
    "# dataset = tf.data.Dataset.from_tensor_slices((X, y)).batch(batch_size)\n",
    "# # dataset = tf.data.Dataset.from_tensor_slices((X, y)).shuffle(buffer_size=10000).batch(batch_size)"
   ]
  },
  {
   "cell_type": "code",
   "execution_count": 8,
   "metadata": {},
   "outputs": [
    {
     "data": {
      "text/plain": [
       "[2009, 2064, 2022, 1037, 2200, 8552, 2518, 1996, 4153, 1998, 2009, 2064]"
      ]
     },
     "execution_count": 8,
     "metadata": {},
     "output_type": "execute_result"
    }
   ],
   "source": [
    "X_[0:12]"
   ]
  },
  {
   "cell_type": "code",
   "execution_count": 13,
   "metadata": {},
   "outputs": [
    {
     "name": "stdout",
     "output_type": "stream",
     "text": [
      "<class 'numpy.ndarray'>\n",
      "[1997 2054 1005 1055 2183 2006 2021 2477 2008 2057 2035 3492 2092 2113\n",
      " 2009    0 2064 2022 1037 2200 8552 2518 1996 4153 1998 2009 2064 2022\n",
      " 1037 2200 8552 2518]\n"
     ]
    }
   ],
   "source": [
    "print(type(X[0]))\n",
    "print(X[0])"
   ]
  },
  {
   "cell_type": "code",
   "execution_count": null,
   "metadata": {},
   "outputs": [],
   "source": []
  },
  {
   "cell_type": "code",
   "execution_count": null,
   "metadata": {},
   "outputs": [],
   "source": []
  }
 ],
 "metadata": {
  "kernelspec": {
   "display_name": ".venv_X",
   "language": "python",
   "name": ".venv_x"
  },
  "language_info": {
   "codemirror_mode": {
    "name": "ipython",
    "version": 3
   },
   "file_extension": ".py",
   "mimetype": "text/x-python",
   "name": "python",
   "nbconvert_exporter": "python",
   "pygments_lexer": "ipython3",
   "version": "3.8.2"
  }
 },
 "nbformat": 4,
 "nbformat_minor": 4
}
