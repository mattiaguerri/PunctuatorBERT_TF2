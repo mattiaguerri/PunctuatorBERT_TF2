{
 "cells": [
  {
   "cell_type": "markdown",
   "metadata": {},
   "source": [
    "### Train Model With Two Layers On Top Of CamemBERT"
   ]
  },
  {
   "cell_type": "code",
   "execution_count": 1,
   "metadata": {},
   "outputs": [],
   "source": [
    "import os\n",
    "import numpy as np\n",
    "\n",
    "from silence_tensorflow import silence_tensorflow\n",
    "silence_tensorflow()  # silence TF warnings\n",
    "import tensorflow as tf\n",
    "\n",
    "from dataProcessing import load_file, encode_data, insert_target, processingScriber00\n",
    "from transformers import AutoTokenizer\n",
    "from transformers import TFCamembertForMaskedLM\n",
    "from datetime import datetime\n",
    "import json\n",
    "import sys"
   ]
  },
  {
   "cell_type": "code",
   "execution_count": 2,
   "metadata": {},
   "outputs": [],
   "source": [
    "### instantiate the tokenizer\n",
    "tokenizer = AutoTokenizer.from_pretrained(\"jplu/tf-camembert-base\", do_lower_case=True)\n",
    "\n",
    "### punctuation encoder\n",
    "punctuation_enc = {\n",
    "    'O': 0,\n",
    "    'PERIOD': 1,\n",
    "}\n",
    "\n",
    "### hyper-parameters\n",
    "vocab_size = 32005\n",
    "sequenceSize = 32\n",
    "batch_size = 32\n",
    "learat = 1e-5\n",
    "train_layer_ind = 0\n",
    "numEpo = 3\n",
    "listHyper0 = ['vocab_size', 'sequenceSize', 'batch_size', 'learat', 'train_layer_ind', 'numEpo']\n",
    "listHyper1 = [str(vocab_size), str(sequenceSize), str(batch_size), str(learat), str(train_layer_ind), str(numEpo)]\n",
    "time = datetime.now().strftime(\"%Y%m%d_%H%M%S\")\n",
    "save_path = 'ModelsExpScriber/{}/'.format(time)\n",
    "os.mkdir(save_path)"
   ]
  },
  {
   "cell_type": "code",
   "execution_count": 3,
   "metadata": {},
   "outputs": [
    {
     "name": "stdout",
     "output_type": "stream",
     "text": [
      "\n",
      "PRE-PROCESS AND PROCESS DATA\n"
     ]
    }
   ],
   "source": [
    "print('\\nPRE-PROCESS AND PROCESS DATA')\n",
    "\n",
    "# name of dataset with sentences\n",
    "data_name = \"Scriber\"\n",
    "\n",
    "# file name\n",
    "trainDataName = 'Data' + data_name + '/' + 'raw.processed.Train_01.txt'\n",
    "\n",
    "# from sentences to list of words+punctuation\n",
    "data_train = load_file(processingScriber00(trainDataName))\n",
    "\n",
    "# encode data and insert target\n",
    "X_train_, y_train_ = encode_data(data_train, tokenizer, punctuation_enc)\n",
    "X_train = insert_target(X_train_, sequenceSize)\n",
    "y_train = np.asarray(y_train_)\n",
    "\n",
    "# get only a fraction of data \n",
    "n = 32\n",
    "X_train = X_train[0:n]\n",
    "y_train = y_train[0:n]\n",
    "\n",
    "# build the datasets\n",
    "trainDataset = tf.data.Dataset.from_tensor_slices((X_train, y_train)).shuffle(buffer_size=500000).batch(batch_size)"
   ]
  },
  {
   "cell_type": "code",
   "execution_count": 4,
   "metadata": {},
   "outputs": [
    {
     "name": "stdout",
     "output_type": "stream",
     "text": [
      "\n",
      "BUILD THE MODEL\n"
     ]
    }
   ],
   "source": [
    "print('\\nBUILD THE MODEL')\n",
    "\n",
    "bert_input = tf.keras.Input(shape=(sequenceSize), dtype='int32', name='bert_input')\n",
    "x = TFCamembertForMaskedLM.from_pretrained(\"jplu/tf-camembert-base\")(bert_input)[0]\n",
    "x = tf.keras.layers.Reshape((sequenceSize*vocab_size,))(x)\n",
    "x = tf.keras.layers.Dense(64, activation='relu')(x)\n",
    "dense_out = tf.keras.layers.Dense(2)(x)\n",
    "\n",
    "model = tf.keras.Model(bert_input, dense_out, name='model')\n",
    "\n",
    "# define the loss\n",
    "loss_object = tf.keras.losses.SparseCategoricalCrossentropy(from_logits=True)\n",
    "def loss(model, x, y):\n",
    "    y_ = model(x)\n",
    "    return loss_object(y_true=y, y_pred=y_)\n",
    "\n",
    "# func to calculate the gradients\n",
    "def grad(model, inputs, targets, train_layer_ind):\n",
    "    with tf.GradientTape() as tape:\n",
    "        loss_value = loss(model, inputs, targets)\n",
    "    return loss_value, tape.gradient(loss_value, model.trainable_variables[train_layer_ind:])\n",
    "\n",
    "# define the optimizer\n",
    "optimizer = tf.keras.optimizers.Adam(learning_rate=learat)"
   ]
  },
  {
   "cell_type": "code",
   "execution_count": 5,
   "metadata": {},
   "outputs": [
    {
     "name": "stdout",
     "output_type": "stream",
     "text": [
      "\n",
      "TRAINING\n",
      "\n",
      "EXPERIMENT FOLDER:  20200606_130319\n",
      "\n",
      "TRAINING DATASET TENSOR SHAPE =  (32, 32)\n",
      "\n",
      "Epoch 001: (Training)   Loss: 2.854, Accuracy: 87.500%\n",
      "\n",
      "Epoch 002: (Training)   Loss: 45.122, Accuracy: 87.500%\n",
      "\n",
      "Epoch 003: (Training)   Loss: 36.919, Accuracy: 87.500%\n"
     ]
    }
   ],
   "source": [
    "print(\"\\nTRAINING\")\n",
    "\n",
    "print(\"\\nEXPERIMENT FOLDER: \", time)\n",
    "\n",
    "print(\"\\nTRAINING DATASET TENSOR SHAPE = \", X_train.shape)\n",
    "\n",
    "epoch_loss_avg = tf.keras.metrics.Mean()\n",
    "epoch_accuracy = tf.keras.metrics.SparseCategoricalAccuracy()\n",
    "\n",
    "train_loss_results = []\n",
    "train_accuracy_results = []\n",
    "\n",
    "checkpoint_path = save_path + \"cp-{epoch:03d}.ckpt\"\n",
    "\n",
    "tmpTrain = np.inf\n",
    "for epoch in range(1, numEpo+1):\n",
    "\n",
    "    # training loop\n",
    "    for x, y in trainDataset:\n",
    "        # optimize the model\n",
    "        loss_value, grads = grad(model, x, y, train_layer_ind)\n",
    "        optimizer.apply_gradients(zip(grads, model.trainable_variables[train_layer_ind:]))\n",
    "\n",
    "        # track progress\n",
    "        epoch_loss_avg.update_state(loss_value)\n",
    "        epoch_accuracy.update_state(y, model(x))\n",
    "\n",
    "    # end epoch\n",
    "    train_loss_results.append(epoch_loss_avg.result())\n",
    "    train_accuracy_results.append(epoch_accuracy.result())\n",
    "\n",
    "    print(\"\\nEpoch {:03d}: (Training)   Loss: {:.3f}, Accuracy: {:.3%}\".format(epoch, epoch_loss_avg.result(), epoch_accuracy.result()))\n",
    "\n",
    "    # # save model if new min for train loss is found\n",
    "    # if epoch_loss_avg.result().numpy() < tmpTrain:\n",
    "    tmpTrain = epoch_loss_avg.result().numpy()\n",
    "    model.save_weights(checkpoint_path.format(epoch=epoch))\n",
    "\n",
    "    epoch_loss_avg.reset_states()\n",
    "    epoch_accuracy.reset_states()"
   ]
  },
  {
   "cell_type": "markdown",
   "metadata": {},
   "source": [
    "### Output Training Details On Log File"
   ]
  },
  {
   "cell_type": "code",
   "execution_count": 6,
   "metadata": {},
   "outputs": [],
   "source": [
    "nameLogFile = 'log.txt'\n",
    "logFile = open(save_path + nameLogFile, \"w\")\n",
    "\n",
    "# write name of model\n",
    "logFile.write(\"\\n\" + time + \"\\n\\n\")\n",
    "\n",
    "# write hyper parameters\n",
    "for i in range(len(listHyper0)):\n",
    "    logFile.write(listHyper0[i] + \":  \" + listHyper1[i] + \"\\n\")\n",
    "\n",
    "# write training details\n",
    "logFile.write('\\nTRAINING')\n",
    "trainLossArr = np.asarray(train_loss_results)\n",
    "trainAccArr = np.asarray(train_accuracy_results)\n",
    "for i in range(numEpo):\n",
    "    epoch = i+1\n",
    "    logFile.write(\"\\nEpoch {:03d}:   Loss: {:7.4f},   Accuracy: {:7.4%}\".format(epoch, trainLossArr[i], trainAccArr[i]))"
   ]
  },
  {
   "cell_type": "markdown",
   "metadata": {},
   "source": [
    "### Evaluate the model, write the details on the logFile"
   ]
  },
  {
   "cell_type": "code",
   "execution_count": 7,
   "metadata": {},
   "outputs": [
    {
     "name": "stdout",
     "output_type": "stream",
     "text": [
      "(21009, 32)\n",
      "(32, 32)\n"
     ]
    }
   ],
   "source": [
    "### get the dataset\n",
    "\n",
    "# name of dataset with sentences\n",
    "data_name = \"Scriber\"\n",
    "fileName = 'Data' + data_name + '/' + 'raw.processed.Test_01.txt'\n",
    "\n",
    "# from sentences to list of words+punctuation\n",
    "data = load_file(processingScriber00(fileName))\n",
    "\n",
    "# encode and insert target\n",
    "X_, y_ = encode_data(data, tokenizer, punctuation_enc)\n",
    "X = insert_target(X_, sequenceSize)\n",
    "y = np.asarray(y_)\n",
    "\n",
    "# get only an n of the data.\n",
    "n = 32\n",
    "print(X.shape)\n",
    "X = X[0:n]\n",
    "y = y[0:n]\n",
    "print(X.shape)\n",
    "\n",
    "# one hot encode the labels\n",
    "y = tf.one_hot(y, 2, dtype='int64').numpy()\n",
    "\n",
    "dataset = tf.data.Dataset.from_tensor_slices((X, y)).batch(batch_size)"
   ]
  },
  {
   "cell_type": "code",
   "execution_count": 8,
   "metadata": {},
   "outputs": [],
   "source": [
    "### build and compile model\n",
    "\n",
    "bert_input = tf.keras.Input(shape=(sequenceSize), dtype='int32', name='bert_input')\n",
    "x = TFCamembertForMaskedLM.from_pretrained(\"jplu/tf-camembert-base\")(bert_input)[0]\n",
    "x = tf.keras.layers.Reshape((sequenceSize*vocab_size,))(x)\n",
    "x = tf.keras.layers.Dense(64, activation='relu')(x)\n",
    "dense_out = tf.keras.layers.Dense(2, activation='softmax')(x)\n",
    "\n",
    "model = tf.keras.Model(bert_input, dense_out, name='model')\n",
    "\n",
    "model.compile(optimizer='adam',\n",
    "              loss=tf.losses.CategoricalCrossentropy(from_logits=False),\n",
    "              metrics=[tf.keras.metrics.Recall(class_id=0, name='Rec_0'),\n",
    "                       tf.keras.metrics.Precision(class_id=0, name='Prec_0'),\n",
    "                       tf.keras.metrics.Recall(class_id=1, name='Rec_1'),\n",
    "                       tf.keras.metrics.Precision(class_id=1, name='Prec_1'),\n",
    "                      ])"
   ]
  },
  {
   "cell_type": "code",
   "execution_count": 9,
   "metadata": {},
   "outputs": [],
   "source": [
    "modelsLst = []\n",
    "for r, d, f in os.walk(save_path):\n",
    "    for file in sorted(f):\n",
    "        if \".index\" in file:\n",
    "            modelsLst.append(file[:-6])"
   ]
  },
  {
   "cell_type": "code",
   "execution_count": 10,
   "metadata": {},
   "outputs": [],
   "source": [
    "# compute f1 score\n",
    "def compF1(rec, pre):\n",
    "    return 2 * (pre*rec) / (pre+rec)"
   ]
  },
  {
   "cell_type": "code",
   "execution_count": 11,
   "metadata": {},
   "outputs": [
    {
     "name": "stdout",
     "output_type": "stream",
     "text": [
      "\n",
      "EVALUATE\n",
      "\n",
      "EVALUATION DATASET TENSOR SHAPE =  (32, 32)\n",
      "ModelsExpScriber/20200606_130319/cp-001.ckpt\n",
      "1/1 [==============================] - 0s 746us/step - loss: 33.7523 - Rec_0: 1.0000 - Prec_0: 0.9062 - Rec_1: 0.0000e+00 - Prec_1: 0.0000e+00\n"
     ]
    },
    {
     "ename": "ZeroDivisionError",
     "evalue": "float division by zero",
     "output_type": "error",
     "traceback": [
      "\u001b[0;31m---------------------------------------------------------------------------\u001b[0m",
      "\u001b[0;31mZeroDivisionError\u001b[0m                         Traceback (most recent call last)",
      "\u001b[0;32m<ipython-input-11-b167919246dc>\u001b[0m in \u001b[0;36m<module>\u001b[0;34m\u001b[0m\n\u001b[1;32m     17\u001b[0m \u001b[0;34m\u001b[0m\u001b[0m\n\u001b[1;32m     18\u001b[0m     \u001b[0mf1_0\u001b[0m \u001b[0;34m=\u001b[0m \u001b[0mcompF1\u001b[0m\u001b[0;34m(\u001b[0m\u001b[0mevaluation\u001b[0m\u001b[0;34m[\u001b[0m\u001b[0;36m1\u001b[0m\u001b[0;34m]\u001b[0m\u001b[0;34m,\u001b[0m\u001b[0mevaluation\u001b[0m\u001b[0;34m[\u001b[0m\u001b[0;36m2\u001b[0m\u001b[0;34m]\u001b[0m\u001b[0;34m)\u001b[0m\u001b[0;34m\u001b[0m\u001b[0;34m\u001b[0m\u001b[0m\n\u001b[0;32m---> 19\u001b[0;31m     \u001b[0mf1_1\u001b[0m \u001b[0;34m=\u001b[0m \u001b[0mcompF1\u001b[0m\u001b[0;34m(\u001b[0m\u001b[0mevaluation\u001b[0m\u001b[0;34m[\u001b[0m\u001b[0;36m3\u001b[0m\u001b[0;34m]\u001b[0m\u001b[0;34m,\u001b[0m\u001b[0mevaluation\u001b[0m\u001b[0;34m[\u001b[0m\u001b[0;36m4\u001b[0m\u001b[0;34m]\u001b[0m\u001b[0;34m)\u001b[0m\u001b[0;34m\u001b[0m\u001b[0;34m\u001b[0m\u001b[0m\n\u001b[0m\u001b[1;32m     20\u001b[0m     \u001b[0mprint\u001b[0m\u001b[0;34m(\u001b[0m\u001b[0;34m\"F1_0 = {:10.7f} - F1_1 = {:10.7f}\"\u001b[0m\u001b[0;34m.\u001b[0m\u001b[0mformat\u001b[0m\u001b[0;34m(\u001b[0m\u001b[0mf1_0\u001b[0m\u001b[0;34m,\u001b[0m \u001b[0mf1_1\u001b[0m\u001b[0;34m)\u001b[0m\u001b[0;34m)\u001b[0m\u001b[0;34m\u001b[0m\u001b[0;34m\u001b[0m\u001b[0m\n\u001b[1;32m     21\u001b[0m \u001b[0;34m\u001b[0m\u001b[0m\n",
      "\u001b[0;32m<ipython-input-10-b69db4531aec>\u001b[0m in \u001b[0;36mcompF1\u001b[0;34m(rec, pre)\u001b[0m\n\u001b[1;32m      1\u001b[0m \u001b[0;31m# compute f1 score\u001b[0m\u001b[0;34m\u001b[0m\u001b[0;34m\u001b[0m\u001b[0;34m\u001b[0m\u001b[0m\n\u001b[1;32m      2\u001b[0m \u001b[0;32mdef\u001b[0m \u001b[0mcompF1\u001b[0m\u001b[0;34m(\u001b[0m\u001b[0mrec\u001b[0m\u001b[0;34m,\u001b[0m \u001b[0mpre\u001b[0m\u001b[0;34m)\u001b[0m\u001b[0;34m:\u001b[0m\u001b[0;34m\u001b[0m\u001b[0;34m\u001b[0m\u001b[0m\n\u001b[0;32m----> 3\u001b[0;31m     \u001b[0;32mreturn\u001b[0m \u001b[0;36m2\u001b[0m \u001b[0;34m*\u001b[0m \u001b[0;34m(\u001b[0m\u001b[0mpre\u001b[0m\u001b[0;34m*\u001b[0m\u001b[0mrec\u001b[0m\u001b[0;34m)\u001b[0m \u001b[0;34m/\u001b[0m \u001b[0;34m(\u001b[0m\u001b[0mpre\u001b[0m\u001b[0;34m+\u001b[0m\u001b[0mrec\u001b[0m\u001b[0;34m)\u001b[0m\u001b[0;34m\u001b[0m\u001b[0;34m\u001b[0m\u001b[0m\n\u001b[0m",
      "\u001b[0;31mZeroDivisionError\u001b[0m: float division by zero"
     ]
    }
   ],
   "source": [
    "### evaluate models\n",
    "\n",
    "print(\"\\nEVALUATE\")\n",
    "\n",
    "print(\"\\nEVALUATION DATASET TENSOR SHAPE = \", X.shape)\n",
    "\n",
    "logFile.write('\\n\\nEVALUATION\\n')\n",
    "for i in range(len(modelsLst)):\n",
    "    checkpointPath = save_path + modelsLst[i]\n",
    "    print(checkpointPath)\n",
    "\n",
    "    # load weights\n",
    "    model.load_weights(checkpointPath)\n",
    "\n",
    "    # evaluate\n",
    "    evaluation = model.evaluate(dataset)\n",
    "    \n",
    "    f1_0 = compF1(evaluation[1],evaluation[2])\n",
    "    f1_1 = compF1(evaluation[3],evaluation[4])\n",
    "    print(\"F1_0 = {:10.7f} - F1_1 = {:10.7f}\".format(f1_0, f1_1))\n",
    "    \n",
    "    # write details on log files\n",
    "    logFile.write(modelsLst[i])\n",
    "    logFile.write(\" - Loss = {:7.4f} - Rec_0 = {:6.4f} - Pre_0 = {:6.4f} - F1_0 = {:10.7f} - Rec_1 = {:6.4f} - Pre_1 = {:6.4f} - F1_1 = {:10.7f}\\n\".format(evaluation[0], evaluation[1], evaluation[2], f1_0, evaluation[3], evaluation[4], f1_1))\n",
    "\n",
    "logFile.close()"
   ]
  }
 ],
 "metadata": {
  "kernelspec": {
   "display_name": ".venv_X",
   "language": "python",
   "name": ".venv_x"
  },
  "language_info": {
   "codemirror_mode": {
    "name": "ipython",
    "version": 3
   },
   "file_extension": ".py",
   "mimetype": "text/x-python",
   "name": "python",
   "nbconvert_exporter": "python",
   "pygments_lexer": "ipython3",
   "version": "3.8.2"
  }
 },
 "nbformat": 4,
 "nbformat_minor": 4
}
