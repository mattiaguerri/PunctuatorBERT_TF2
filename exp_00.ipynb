{
 "cells": [
  {
   "cell_type": "markdown",
   "metadata": {},
   "source": [
    "# Experiment With JSON\n",
    "# Obtain Output File [Processed Aligned Transcripts] And Compute Some Stats On It\n",
    "# Get Histogram Of Gaps Before Different Kinds Of Punctuation"
   ]
  },
  {
   "cell_type": "markdown",
   "metadata": {},
   "source": [
    "### Load The Sample File [0]"
   ]
  },
  {
   "cell_type": "code",
   "execution_count": 1,
   "metadata": {},
   "outputs": [],
   "source": [
    "# import json"
   ]
  },
  {
   "cell_type": "code",
   "execution_count": 2,
   "metadata": {},
   "outputs": [],
   "source": [
    "# with open(\"AudioFeatures/SAMPLE_OUT_01.json\", \"r\") as inpFile:\n",
    "#     data = inpFile.read()\n",
    "    \n",
    "# obj = json.loads(data)"
   ]
  },
  {
   "cell_type": "code",
   "execution_count": 3,
   "metadata": {},
   "outputs": [],
   "source": [
    "# dir(obj)"
   ]
  },
  {
   "cell_type": "code",
   "execution_count": 4,
   "metadata": {},
   "outputs": [],
   "source": [
    "# obj.keys()"
   ]
  },
  {
   "cell_type": "code",
   "execution_count": 5,
   "metadata": {},
   "outputs": [],
   "source": [
    "# obj.items()"
   ]
  },
  {
   "cell_type": "markdown",
   "metadata": {},
   "source": [
    "### Load The Sample File [1]"
   ]
  },
  {
   "cell_type": "code",
   "execution_count": 6,
   "metadata": {},
   "outputs": [],
   "source": [
    "# import json"
   ]
  },
  {
   "cell_type": "code",
   "execution_count": 7,
   "metadata": {},
   "outputs": [],
   "source": [
    "# with open(\"AudioFeatures/SAMPLE_OUT_01.json\", \"r\") as read_file:\n",
    "#     data = json.load(read_file)\n",
    "# print(type(data))"
   ]
  },
  {
   "cell_type": "code",
   "execution_count": 8,
   "metadata": {},
   "outputs": [],
   "source": [
    "# print(data.keys())"
   ]
  },
  {
   "cell_type": "code",
   "execution_count": 9,
   "metadata": {},
   "outputs": [],
   "source": [
    "# ### Get All The Keys In A List\n",
    "\n",
    "# lst =list(data.keys())\n",
    "# lst"
   ]
  },
  {
   "cell_type": "code",
   "execution_count": 10,
   "metadata": {},
   "outputs": [],
   "source": [
    "# data[lst[0]]['words']"
   ]
  },
  {
   "cell_type": "markdown",
   "metadata": {},
   "source": [
    "### Experiment With xaa"
   ]
  },
  {
   "cell_type": "code",
   "execution_count": 11,
   "metadata": {},
   "outputs": [],
   "source": [
    "# import json"
   ]
  },
  {
   "cell_type": "code",
   "execution_count": 12,
   "metadata": {},
   "outputs": [],
   "source": [
    "# with open(\"AudioFeatures/xaa_01\", \"r\") as inpFile:\n",
    "#     data = json.load(inpFile)"
   ]
  },
  {
   "cell_type": "code",
   "execution_count": 13,
   "metadata": {},
   "outputs": [],
   "source": [
    "# listDic =list(data.keys())"
   ]
  },
  {
   "cell_type": "code",
   "execution_count": 14,
   "metadata": {},
   "outputs": [],
   "source": [
    "# print(listDic)\n",
    "# print(len(listDic))"
   ]
  },
  {
   "cell_type": "code",
   "execution_count": 15,
   "metadata": {},
   "outputs": [],
   "source": [
    "# print(data[listDic[0]]['words'])\n",
    "# print(data[listDic[1]]['words'])"
   ]
  },
  {
   "cell_type": "code",
   "execution_count": 16,
   "metadata": {},
   "outputs": [],
   "source": [
    "# listAllWords=[]\n",
    "# listAllWords += data[listDic[0]]['words']\n",
    "# listAllWords += data[listDic[1]]['words']\n",
    "# print(listAllWords)"
   ]
  },
  {
   "cell_type": "markdown",
   "metadata": {},
   "source": [
    "### Extract All The Words In The Dictionaries"
   ]
  },
  {
   "cell_type": "code",
   "execution_count": 17,
   "metadata": {},
   "outputs": [],
   "source": [
    "# import json"
   ]
  },
  {
   "cell_type": "code",
   "execution_count": 18,
   "metadata": {},
   "outputs": [],
   "source": [
    "# fileName = \"AudioFeatures/xaa_00\"\n",
    "# with open(fileName, \"r\") as inpFile:\n",
    "#     data = json.load(inpFile)"
   ]
  },
  {
   "cell_type": "code",
   "execution_count": 19,
   "metadata": {},
   "outputs": [],
   "source": [
    "# listDictio = list(data.keys())\n",
    "# numDictio = len(listDictio)"
   ]
  },
  {
   "cell_type": "code",
   "execution_count": 20,
   "metadata": {},
   "outputs": [],
   "source": [
    "# listAllWords = []\n",
    "# for i in range(numDictio):\n",
    "#     listAllWords += data[listDictio[i]]['words']"
   ]
  },
  {
   "cell_type": "code",
   "execution_count": 21,
   "metadata": {},
   "outputs": [],
   "source": [
    "# print(listAllWords[0:10])"
   ]
  },
  {
   "cell_type": "markdown",
   "metadata": {},
   "source": [
    "### Experiment With Example From JSONPlaceholder"
   ]
  },
  {
   "cell_type": "code",
   "execution_count": 22,
   "metadata": {},
   "outputs": [],
   "source": [
    "# import json\n",
    "# import requests"
   ]
  },
  {
   "cell_type": "code",
   "execution_count": 23,
   "metadata": {},
   "outputs": [],
   "source": [
    "# response = requests.get(\"https://jsonplaceholder.typicode.com/todos\")\n",
    "# todos = json.loads(response.text)"
   ]
  },
  {
   "cell_type": "code",
   "execution_count": 24,
   "metadata": {},
   "outputs": [],
   "source": [
    "# print(type(todos))"
   ]
  },
  {
   "cell_type": "markdown",
   "metadata": {},
   "source": [
    "### Obtain Output File, Two Columns, word|punctuation"
   ]
  },
  {
   "cell_type": "code",
   "execution_count": 25,
   "metadata": {},
   "outputs": [],
   "source": [
    "# import json"
   ]
  },
  {
   "cell_type": "code",
   "execution_count": 26,
   "metadata": {},
   "outputs": [],
   "source": [
    "# ### Extract All The Words In One List\n",
    "\n",
    "# fileName = \"AudioFeatures/xaa_01\"\n",
    "# with open(fileName, \"r\") as inpFile:\n",
    "#     data = json.load(inpFile)\n",
    "\n",
    "# listDictio = list(data.keys())\n",
    "# numDictio = len(listDictio)\n",
    "\n",
    "# listAllWords = []\n",
    "# for i in range(numDictio):\n",
    "#     listAllWords += data[listDictio[i]]['words']"
   ]
  },
  {
   "cell_type": "code",
   "execution_count": 27,
   "metadata": {},
   "outputs": [],
   "source": [
    "# print(listAllWords[0:20])"
   ]
  },
  {
   "cell_type": "code",
   "execution_count": 28,
   "metadata": {},
   "outputs": [],
   "source": [
    "# numWords = len(listAllWords)\n",
    "# outFile = open(\"outFile.txt\", \"w\")\n",
    "# for i in range(numWords-1):\n",
    "#     word = listAllWords[i]\n",
    "#     nextWord = listAllWords[i+1]\n",
    "#     # check if word is punctuation\n",
    "#     if word == \",\" or word == \".\" or word == \";\" or word == \":\" or word == \"!\" or word == \"?\":\n",
    "#         continue \n",
    "#     # check if the next word is punctuation\n",
    "#     if nextWord == \",\" or nextWord == \".\" or nextWord == \";\" or nextWord == \":\" or nextWord == \"!\" or nextWord == \"?\":\n",
    "#         outFile.write(word + \"|\" + nextWord + \"\\n\")\n",
    "#         continue\n",
    "#     # check if the last character of the word is puncutation\n",
    "#     if len(word)>1 and word[-1] == \",\" or word[-1] == \".\" or word[-1] == \";\" or word[-1] == \":\" or word[-1] == \"!\" or word[-1] == \"?\":\n",
    "#         outFile.write(word[0:-1] + \"|\" + word[-1] + \"\\n\")\n",
    "#         continue\n",
    "#     if nextWord != \",\" or nextWord != \".\" or nextWord != \";\" or nextWord != \":\" or nextWord != \"!\" or nextWord != \"?\":\n",
    "#         outFile.write(word + \"|\" + \"SPACE\" + \"\\n\")\n",
    "# # take care of last word in the list\n",
    "# i = numWords-1\n",
    "# word = listAllWords[i]\n",
    "# if word[-1] == \",\" or word[-1] == \".\" or word[-1] == \";\" or word[-1] == \":\" or word[-1] == \"!\" or word[-1] == \"?\":\n",
    "#     outFile.write(word[-1] + \"|\" + word[-1] + \"\\n\")\n",
    "# else:\n",
    "#     outFile.write(word + \"|\" + \"SPACE\" + \"\\n\")\n",
    "# outFile.close() "
   ]
  },
  {
   "cell_type": "markdown",
   "metadata": {},
   "source": [
    "# Obtain Output File And Compute Some Stats On It\n",
    "### OutFile Structure: word + punctuation + beginTime + endTime"
   ]
  },
  {
   "cell_type": "code",
   "execution_count": 29,
   "metadata": {},
   "outputs": [],
   "source": [
    "import json\n",
    "import numpy as np\n",
    "import matplotlib.pyplot as plt"
   ]
  },
  {
   "cell_type": "code",
   "execution_count": 30,
   "metadata": {},
   "outputs": [],
   "source": [
    "### punctuation encoder\n",
    "punEnc = {\n",
    "    \",\": \"COMMA\",\n",
    "    \".\": \"PERIOD\",\n",
    "    \";\": \"SEMICOLON\",\n",
    "    \":\": \"COLON\",\n",
    "    \"!\": \"EXCLAMATION\",\n",
    "    \"?\": \"QUESTION\"\n",
    "}"
   ]
  },
  {
   "cell_type": "code",
   "execution_count": 31,
   "metadata": {},
   "outputs": [
    {
     "name": "stdout",
     "output_type": "stream",
     "text": [
      "Number Of Words =  1671024\n",
      "Number Of Begins =  1671024\n",
      "Number Of Ends =  1671024\n"
     ]
    }
   ],
   "source": [
    "### Extract All The Words + Words Begins + Words Ends\n",
    "\n",
    "# fileName = \"AudioFeatures/xaa_00\"\n",
    "fileName = \"AudioFeatures/aligned_transcripts.json\"\n",
    "with open(fileName, \"r\") as inpFile:\n",
    "    data = json.load(inpFile)\n",
    "\n",
    "listDictio = list(data.keys())\n",
    "numDictio = len(listDictio)\n",
    "\n",
    "listAllWords = []\n",
    "listAllBegins = []\n",
    "listAllEnds = []\n",
    "for i in range(numDictio):\n",
    "    listAllWords += data[listDictio[i]]['words']\n",
    "    listAllBegins += data[listDictio[i]]['words_begins']\n",
    "    listAllEnds += data[listDictio[i]]['words_ends']\n",
    "print(\"Number Of Words = \", len(listAllWords))\n",
    "print(\"Number Of Begins = \", len(listAllBegins))\n",
    "print(\"Number Of Ends = \", len(listAllEnds))"
   ]
  },
  {
   "cell_type": "code",
   "execution_count": 32,
   "metadata": {},
   "outputs": [],
   "source": [
    "### Write The Output File\n",
    "\n",
    "numWords = len(listAllWords)\n",
    "nameOutFile = \"outFile_00.txt\"\n",
    "outFile = open(nameOutFile, \"w\")\n",
    "countBegins = 0\n",
    "for i in range(numWords-1):\n",
    "    word = listAllWords[i]\n",
    "    begin = str(listAllBegins[i])\n",
    "    end = str(listAllEnds[i])\n",
    "    nextWord = listAllWords[i+1]\n",
    "    # check if word is punctuation\n",
    "    if word == \",\" or word == \".\" or word == \";\" or word == \":\" or word == \"!\" or word == \"?\":\n",
    "        continue\n",
    "    # check if the next word is punctuation\n",
    "    if nextWord == \",\" or nextWord == \".\" or nextWord == \";\" or nextWord == \":\" or nextWord == \"!\" or nextWord == \"?\":\n",
    "        outFile.write(word + \"\\t\" + punEnc[nextWord] + \"\\t\" + begin + \"\\t\" + end + \"\\n\")\n",
    "        continue\n",
    "    # check if the last character of the word is puncutation\n",
    "    if len(word)>1 and word[-1] == \",\" or word[-1] == \".\" or word[-1] == \";\" or word[-1] == \":\" or word[-1] == \"!\" or word[-1] == \"?\":\n",
    "        outFile.write(word[0:-1] + \"\\t\" + punEnc[word[-1]] + \"\\t\" + begin + \"\\t\" + end + \"\\n\")\n",
    "        continue\n",
    "    if nextWord != \",\" or nextWord != \".\" or nextWord != \";\" or nextWord != \":\" or nextWord != \"!\" or nextWord != \"?\":\n",
    "        outFile.write(word + \"\\t\" + \"SPACE\" + \"\\t\" + begin + \"\\t\" + end + \"\\n\")\n",
    "# take care of last word in the list\n",
    "word = listAllWords[numWords-1]\n",
    "begin = str(listAllBegins[numWords-1])\n",
    "end = str(listAllEnds[numWords-1])\n",
    "if len(word)>1 and word[-1] == \",\" or word[-1] == \".\" or word[-1] == \";\" or word[-1] == \":\" or word[-1] == \"!\" or word[-1] == \"?\":\n",
    "    outFile.write(word[0:-1] + \"\\t\" + punEnc[word[-1]] + \"\\t\" + begin + \"\\t\" + end + \"\\n\")\n",
    "else:\n",
    "    outFile.write(word + \"\\t\" + \"SPACE\" + \"\\t\" + begin + \"\\t\" + end + \"\\n\")\n",
    "outFile.close() "
   ]
  },
  {
   "cell_type": "markdown",
   "metadata": {},
   "source": [
    "### Cleaning The Output File\n",
    "Get rid of words where the begin time and/or end time is 'None'."
   ]
  },
  {
   "cell_type": "code",
   "execution_count": 33,
   "metadata": {},
   "outputs": [],
   "source": [
    "nameOutFileCleaned = \"outFile_01.txt\"\n",
    "with open(nameOutFile, \"r\") as outFile_00:\n",
    "    with open(nameOutFileCleaned, \"w\") as outFile_01:\n",
    "        lines = outFile_00.readlines()\n",
    "        for line in lines:\n",
    "            split = line.split(\"\\t\")\n",
    "            if 'None' not in line:\n",
    "                outFile_01.write(line)\n",
    "            else:\n",
    "                continue"
   ]
  },
  {
   "cell_type": "markdown",
   "metadata": {},
   "source": [
    "### Exploratory Data Analysis"
   ]
  },
  {
   "cell_type": "markdown",
   "metadata": {},
   "source": [
    "### Get The Gap In Corrispondence Of A Certain Kind Of Punctuation"
   ]
  },
  {
   "cell_type": "code",
   "execution_count": 34,
   "metadata": {},
   "outputs": [],
   "source": [
    "def getGap(b, a):\n",
    "    return b - a"
   ]
  },
  {
   "cell_type": "code",
   "execution_count": 36,
   "metadata": {},
   "outputs": [],
   "source": [
    "nameFile = \"outFile_01.txt\"\n",
    "spaceGaps = []\n",
    "commaGaps = []\n",
    "periodGaps = []\n",
    "semicolonGaps = []\n",
    "colonGaps = []\n",
    "exclamationGaps = []\n",
    "questionGaps = []\n",
    "with open(nameFile, \"r\") as inpFile:\n",
    "    lines = inpFile.readlines()\n",
    "    numLines = len(lines)\n",
    "    for i in range(numLines-1):\n",
    "        line = lines[i]\n",
    "        nextLine = lines[i+1]\n",
    "        word, pun, begin, end = line.split(\"\\t\")\n",
    "        nextWord, nextPun, nextBegin, nextEnd = nextLine.split(\"\\t\")\n",
    "        # compute gap only in case nextWordBegin>wordEnd\n",
    "        nextBegin = float(nextBegin)\n",
    "        end = float(end)\n",
    "        if nextBegin >= end:\n",
    "            gap = getGap(nextBegin, end)\n",
    "            if pun==\"SPACE\":\n",
    "                spaceGaps.append(gap)\n",
    "            elif pun==\"COMMA\":\n",
    "                commaGaps.append(gap)\n",
    "            elif pun==\"PERIOD\":\n",
    "                periodGaps.append(gap)\n",
    "            elif pun==\"SEMICOLON\":\n",
    "                semicolonGaps.append(gap)\n",
    "            elif pun==\"COLON\":\n",
    "                colonGaps.append(gap)\n",
    "            elif pun==\"EXCLAMATION\":\n",
    "                exclamationGaps.append(gap)\n",
    "            elif pun==\"QUESTION\":\n",
    "                questionGaps.append(gap)\n",
    "        else:\n",
    "            continue"
   ]
  },
  {
   "cell_type": "markdown",
   "metadata": {},
   "source": [
    "### Compute Histogram Of The Gaps And Plot It"
   ]
  },
  {
   "cell_type": "code",
   "execution_count": null,
   "metadata": {},
   "outputs": [],
   "source": [
    "# gaps = np.copy(spaceGaps)\n",
    "# numGaps = gaps.shape[0]\n",
    "# threshold = int(numGaps/100*2.5)\n",
    "# print(\"Total Number of Gaps: \", numGaps)\n",
    "# print(\"Threshold: \", threshold)"
   ]
  },
  {
   "cell_type": "code",
   "execution_count": null,
   "metadata": {},
   "outputs": [],
   "source": [
    "# hist, bin_edges = np.histogram(gaps)\n",
    "# print(\"Histogram Counts: \", hist, \"\\n\")\n",
    "# print(\"Histogram Edges: \", bin_edges)"
   ]
  },
  {
   "cell_type": "code",
   "execution_count": null,
   "metadata": {},
   "outputs": [],
   "source": [
    "# ### Cleans the dataset until in the rightmost bin there is at least ~2.5% of data.\n",
    "\n",
    "# cleanGaps = np.copy(gaps)\n",
    "# maxIter = 100\n",
    "# for ite in range(maxIter):\n",
    "#     hist, bin_edges = np.histogram(cleanGaps)\n",
    "#     if hist[-1] <= threshold:\n",
    "#         cleanGaps = cleanGaps[cleanGaps<=bin_edges[-2]]\n",
    "#     else:\n",
    "#         print(\"Number Iterations: \", ite+1, \"\\n\")\n",
    "#         break\n",
    "# print(\"Histogram Counts: \", hist)\n",
    "# print(\"Histogram Edges: \", bin_edges)"
   ]
  },
  {
   "cell_type": "code",
   "execution_count": null,
   "metadata": {},
   "outputs": [],
   "source": [
    "# ### Plot The Histogram With matplotlib\n",
    "\n",
    "# plt.figure(figsize=(7, 7))\n",
    "# n, bins, patches = plt.hist(cleanGaps, bins=10, color='#0504aa',\n",
    "#                             alpha=0.7, rwidth=0.85)\n",
    "\n",
    "# print(\"Bin Population:\", n)\n",
    "# print(\"Bins Edges: \", bins)\n",
    "\n",
    "# plt.grid(axis='y', alpha=0.75)\n",
    "# plt.xlabel('Value')\n",
    "# plt.ylabel('Frequency')\n",
    "# plt.title('Histogram Of Gaps Before Spaces')\n",
    "# # plt.text(23, 45, r'$\\mu=15, b=3$')\n",
    "\n",
    "# # # Set a clean upper y-axis limit.\n",
    "# # maxfreq = n.max()\n",
    "# # plt.ylim(ymax=np.ceil(maxfreq / 10) * 10 if maxfreq % 10 else maxfreq + 10)\n",
    "\n",
    "# plt.show()"
   ]
  },
  {
   "cell_type": "markdown",
   "metadata": {},
   "source": [
    "### Compute All The Histograms And Plot Them"
   ]
  },
  {
   "cell_type": "code",
   "execution_count": 49,
   "metadata": {},
   "outputs": [],
   "source": [
    "allGaps = []\n",
    "allGaps.append(spaceGaps); allGaps.append(commaGaps); allGaps.append(periodGaps)\n",
    "allGaps.append(semicolonGaps); allGaps.append(colonGaps); allGaps.append(exclamationGaps); allGaps.append(questionGaps)\n",
    "namesPunc = [\"SPACE\", \"COMMA\", \"PERIOD\", \"SEMICOLON\", \"COLON\", \"EXCLAMATION\", \"QUESTION\" ]\n",
    "#                 0        1         2            3        4              5           6"
   ]
  },
  {
   "cell_type": "code",
   "execution_count": 41,
   "metadata": {},
   "outputs": [
    {
     "name": "stdout",
     "output_type": "stream",
     "text": [
      "\n",
      "----------------------\n",
      "Total Number of Gaps:  1353721\n",
      "Threshold:  33843\n",
      "Number Iterations:  50 \n",
      "\n",
      "Histogram Counts:  [ 57897 115131 115129 272320 128333 185111  64537  94079  34282  51227]\n",
      "Histogram Edges:  [0.    0.015 0.03  0.045 0.06  0.075 0.09  0.105 0.12  0.135 0.15 ]\n",
      "\n",
      "----------------------\n",
      "Total Number of Gaps:  110038\n",
      "Threshold:  2750\n",
      "Number Iterations:  32 \n",
      "\n",
      "Histogram Counts:  [26594 22141 13087  8117  6353  6765  4471  4620  3256  2896]\n",
      "Histogram Edges:  [0.01  0.074 0.138 0.202 0.266 0.33  0.394 0.458 0.522 0.586 0.65 ]\n",
      "\n",
      "----------------------\n",
      "Total Number of Gaps:  43537\n",
      "Threshold:  1088\n",
      "Number Iterations:  34 \n",
      "\n",
      "Histogram Counts:  [9717 4547 4391 5400 3995 3101 2348 1567 1290 1120]\n",
      "Histogram Edges:  [0.    0.123 0.246 0.369 0.492 0.615 0.738 0.861 0.984 1.107 1.23 ]\n",
      "\n",
      "----------------------\n",
      "Total Number of Gaps:  135\n",
      "Threshold:  3\n",
      "Number Iterations:  6 \n",
      "\n",
      "Histogram Counts:  [36 24 14 12 10 10  5  1  5  6]\n",
      "Histogram Edges:  [0.03 0.1  0.17 0.24 0.31 0.38 0.45 0.52 0.59 0.66 0.73]\n",
      "\n",
      "----------------------\n",
      "Total Number of Gaps:  443\n",
      "Threshold:  11\n",
      "Number Iterations:  15 \n",
      "\n",
      "Histogram Counts:  [110  64  42  35  31  44  19  19  11  12]\n",
      "Histogram Edges:  [0.01  0.118 0.226 0.334 0.442 0.55  0.658 0.766 0.874 0.982 1.09 ]\n",
      "\n",
      "----------------------\n",
      "Total Number of Gaps:  4520\n",
      "Threshold:  113\n",
      "Number Iterations:  20 \n",
      "\n",
      "Histogram Counts:  [1027  503  456  552  351  310  210  167  114  126]\n",
      "Histogram Edges:  [0.    0.123 0.246 0.369 0.492 0.615 0.738 0.861 0.984 1.107 1.23 ]\n",
      "\n",
      "----------------------\n",
      "Total Number of Gaps:  11931\n",
      "Threshold:  298\n",
      "Number Iterations:  18 \n",
      "\n",
      "Histogram Counts:  [2507 1491 1657 1353  959  753  663  567  483  334]\n",
      "Histogram Edges:  [0.    0.175 0.35  0.525 0.7   0.875 1.05  1.225 1.4   1.575 1.75 ]\n"
     ]
    }
   ],
   "source": [
    "### Cleans the dataset until in the rightmost bin there is at least ~2.5% of data.\n",
    "\n",
    "allCleanGaps = []\n",
    "\n",
    "for i in range(len(allGaps)):\n",
    "\n",
    "    gaps = np.copy(allGaps[i])\n",
    "    numGaps = gaps.shape[0]\n",
    "    threshold = int(numGaps/100*2.5)\n",
    "    print(\"\\n----------------------\")\n",
    "    print(\"Total Number of Gaps: \", numGaps)\n",
    "    print(\"Threshold: \", threshold)\n",
    "\n",
    "    cleanGaps = np.copy(gaps)\n",
    "    maxIter = 100\n",
    "    for ite in range(maxIter):\n",
    "        hist, bin_edges = np.histogram(cleanGaps)\n",
    "        if hist[-1] <= threshold:\n",
    "            cleanGaps = cleanGaps[cleanGaps<=bin_edges[-2]]\n",
    "        else:\n",
    "            print(\"Number Iterations: \", ite+1, \"\\n\")\n",
    "            break\n",
    "    print(\"Histogram Counts: \", hist)\n",
    "    print(\"Histogram Edges: \", bin_edges)\n",
    "    allCleanGaps.append(cleanGaps)"
   ]
  },
  {
   "cell_type": "code",
   "execution_count": 61,
   "metadata": {},
   "outputs": [],
   "source": [
    "# ### Plot The Histogram With matplotlib\n",
    "\n",
    "# plt.figure(figsize=(7, 7))\n",
    "# n, bins, patches = plt.hist(allCleanGaps[0], bins=10, color='#0504aa',\n",
    "#                             alpha=0.7, rwidth=0.85)\n",
    "\n",
    "# print(\"Bin Population:\", n)\n",
    "# print(\"Bins Edges: \", bins)\n",
    "\n",
    "# plt.grid(axis='y', alpha=0.75)\n",
    "# plt.xlabel('Value')\n",
    "# plt.ylabel('Frequency')\n",
    "# plt.title('Histogram Of Gaps Before Spaces')\n",
    "# # plt.text(23, 45, r'$\\mu=15, b=3$')\n",
    "\n",
    "# # # Set a clean upper y-axis limit.\n",
    "# # maxfreq = n.max()\n",
    "# # plt.ylim(ymax=np.ceil(maxfreq / 10) * 10 if maxfreq % 10 else maxfreq + 10)\n",
    "\n",
    "# plt.show()"
   ]
  },
  {
   "cell_type": "code",
   "execution_count": 64,
   "metadata": {},
   "outputs": [
    {
     "data": {
      "image/png": "[encoded data removed]",
      "text/plain": [
       "<Figure size 720x720 with 2 Axes>"
      ]
     },
     "metadata": {
      "needs_background": "light"
     },
     "output_type": "display_data"
    }
   ],
   "source": [
    "### Plot Histogram For Space And Period\n",
    "\n",
    "fig, axs = plt.subplots(1, 2, figsize=(10, 10))\n",
    "\n",
    "### Plot SPACE\n",
    "indAxs = 0; indPunc = 0\n",
    "n, bins, patches = axs[indAxs].hist(allCleanGaps[indPunc], bins=10, color='#0504aa',\n",
    "                            alpha=0.7, rwidth=0.85)\n",
    "axs[indAxs].grid(axis='y', alpha=0.75)\n",
    "axs[indAxs].set_title(namesPunc[indPunc])\n",
    "### Plot PERIOD\n",
    "indAxs = 1; indPunc = 2\n",
    "n, bins, patches = axs[indAxs].hist(allCleanGaps[indPunc], bins=10, color='#0504aa',\n",
    "                            alpha=0.7, rwidth=0.85)\n",
    "axs[indAxs].grid(axis='y', alpha=0.75)\n",
    "axs[indAxs].set_title(namesPunc[indPunc])\n",
    "\n",
    "plt.show()"
   ]
  },
  {
   "cell_type": "code",
   "execution_count": 66,
   "metadata": {},
   "outputs": [
    {
     "data": {
      "image/png": "[encoded data removed]",
      "text/plain": [
       "<Figure size 1260x720 with 4 Axes>"
      ]
     },
     "metadata": {
      "needs_background": "light"
     },
     "output_type": "display_data"
    }
   ],
   "source": [
    "### Plot Histograms\n",
    "\n",
    "fig, axs = plt.subplots(1, 4, figsize=(17.5, 10))\n",
    "\n",
    "### Plot SPACE\n",
    "indAxs = 0; indPunc = 0\n",
    "n, bins, patches = axs[indAxs].hist(allCleanGaps[indPunc], bins=10, color='#0504aa',\n",
    "                            alpha=0.7, rwidth=0.85)\n",
    "axs[indAxs].grid(axis='y', alpha=0.75)\n",
    "axs[indAxs].set_title(namesPunc[indPunc])\n",
    "### Plot PERIOD\n",
    "indAxs = 1; indPunc = 2\n",
    "n, bins, patches = axs[indAxs].hist(allCleanGaps[indPunc], bins=10, color='#0504aa',\n",
    "                            alpha=0.7, rwidth=0.85)\n",
    "axs[indAxs].grid(axis='y', alpha=0.75)\n",
    "axs[indAxs].set_title(namesPunc[indPunc])\n",
    "### Plot EXCLAMATION\n",
    "indAxs = 2; indPunc = 5\n",
    "n, bins, patches = axs[indAxs].hist(allCleanGaps[indPunc], bins=10, color='#0504aa',\n",
    "                            alpha=0.7, rwidth=0.85)\n",
    "axs[indAxs].grid(axis='y', alpha=0.75)\n",
    "axs[indAxs].set_title(namesPunc[indPunc])\n",
    "### Plot QUESTION\n",
    "indAxs = 3; indPunc = 6\n",
    "n, bins, patches = axs[indAxs].hist(allCleanGaps[indPunc], bins=10, color='#0504aa',\n",
    "                            alpha=0.7, rwidth=0.85)\n",
    "axs[indAxs].grid(axis='y', alpha=0.75)\n",
    "axs[indAxs].set_title(namesPunc[indPunc])\n",
    "\n",
    "plt.show()"
   ]
  }
 ],
 "metadata": {
  "kernelspec": {
   "display_name": ".venv_X",
   "language": "python",
   "name": ".venv_x"
  },
  "language_info": {
   "codemirror_mode": {
    "name": "ipython",
    "version": 3
   },
   "file_extension": ".py",
   "mimetype": "text/x-python",
   "name": "python",
   "nbconvert_exporter": "python",
   "pygments_lexer": "ipython3",
   "version": "3.8.2"
  }
 },
 "nbformat": 4,
 "nbformat_minor": 4
}
