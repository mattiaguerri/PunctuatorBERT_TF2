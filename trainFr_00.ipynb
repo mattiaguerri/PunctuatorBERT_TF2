{
 "cells": [
  {
   "cell_type": "markdown",
   "metadata": {},
   "source": [
    "## Test models with and without regularisation"
   ]
  },
  {
   "cell_type": "markdown",
   "metadata": {},
   "source": [
    "## Also test different model architectures"
   ]
  },
  {
   "cell_type": "code",
   "execution_count": 1,
   "metadata": {},
   "outputs": [],
   "source": [
    "import os\n",
    "import numpy as np\n",
    "\n",
    "from silence_tensorflow import silence_tensorflow\n",
    "silence_tensorflow()  # silence TF warnings\n",
    "import tensorflow as tf\n",
    "\n",
    "from dataProcessing import load_file, encode_data, insert_target, preProcessingScriber\n",
    "from transformers import AutoTokenizer\n",
    "from transformers import TFCamembertForMaskedLM\n",
    "from datetime import datetime\n",
    "import json\n",
    "import sys"
   ]
  },
  {
   "cell_type": "code",
   "execution_count": 2,
   "metadata": {},
   "outputs": [],
   "source": [
    "### instantiate the tokenizer\n",
    "tokenizer = AutoTokenizer.from_pretrained(\"jplu/tf-camembert-base\", do_lower_case=True)"
   ]
  },
  {
   "cell_type": "code",
   "execution_count": 3,
   "metadata": {},
   "outputs": [],
   "source": [
    "### punctuation encoder\n",
    "punctuation_enc = {\n",
    "    'O': 0,\n",
    "    'PERIOD': 1,\n",
    "}"
   ]
  },
  {
   "cell_type": "markdown",
   "metadata": {},
   "source": [
    "### Set Hyperparameters"
   ]
  },
  {
   "cell_type": "code",
   "execution_count": 4,
   "metadata": {},
   "outputs": [],
   "source": [
    "vocab_size = 32005\n",
    "sequenceSize = 32\n",
    "batch_size = 32\n",
    "train_layer_ind = 0  # 0 for all model, -2 for only top layer\n",
    "learat = 1e-5\n",
    "numEpo = 5\n",
    "training = True\n",
    "hidden_dropout_prob = 0.3\n",
    "\n",
    "hyperparameters = {\n",
    "    'vocab_size': vocab_size,\n",
    "    'sequenceSize': sequenceSize,\n",
    "    'batch_size': batch_size,\n",
    "    'train_layer_ind': train_layer_ind,\n",
    "    'learning_rate': learat,    \n",
    "    'training': training,\n",
    "    'hidden_dropout_prob' : hidden_dropout_prob\n",
    "}\n",
    "\n",
    "time = datetime.now().strftime(\"%Y%m%d_%H%M%S\")\n",
    "\n",
    "save_path = 'ModelsExpScriber/{}/'.format(time)\n",
    "os.mkdir(save_path)\n",
    "with open(save_path + 'hyperparameters.json', 'w') as f:\n",
    "    json.dump(hyperparameters, f)"
   ]
  },
  {
   "cell_type": "markdown",
   "metadata": {},
   "source": [
    "### Preprocess and Process Data"
   ]
  },
  {
   "cell_type": "code",
   "execution_count": 5,
   "metadata": {},
   "outputs": [
    {
     "name": "stdout",
     "output_type": "stream",
     "text": [
      "\n",
      "PRE-PROCESS AND PROCESS DATA\n"
     ]
    }
   ],
   "source": [
    "print('\\nPRE-PROCESS AND PROCESS DATA')\n",
    "\n",
    "# name of dataset with sentences\n",
    "data_name = \"Scriber\"\n",
    "\n",
    "# file names\n",
    "# trainSet_01 = 'Data' + data_name + '/' + 'extractTrain_01.txt'\n",
    "# validSet_01 = 'Data' + data_name + '/' + 'extractValid_01.txt'\n",
    "trainSet_01 = 'Data' + data_name + '/' + 'raw.processed.Train_01.txt'\n",
    "# validSet_01 = 'Data' + data_name + '/' + 'raw.processed.Valid_01.txt'\n",
    "\n",
    "# from sentences to list of words+punctuation\n",
    "data_train = load_file(preProcessingScriber(trainSet_01))\n",
    "# data_valid = load_file(preProcessingScriber(validSet_01))\n",
    "\n",
    "# encode data and insert target\n",
    "X_train_, y_train_ = encode_data(data_train, tokenizer, punctuation_enc)\n",
    "X_train = insert_target(X_train_, sequenceSize)\n",
    "y_train = np.asarray(y_train_)\n",
    "\n",
    "# # encode data and insert target\n",
    "# X_valid_, y_valid_ = encode_data(data_valid, tokenizer, punctuation_enc)\n",
    "# X_valid = insert_target(X_valid_, sequenceSize)\n",
    "# y_valid = np.asarray(y_valid_)\n",
    "\n",
    "# get only a fraction of data \n",
    "n = 256\n",
    "X_train = X_train[0:n]\n",
    "y_train = y_train[0:n]\n",
    "# X_valid = X_valid[0:16]\n",
    "# y_valid = y_valid[0:16]\n",
    "\n",
    "# build the datasets\n",
    "trainDataset = tf.data.Dataset.from_tensor_slices((X_train, y_train)).shuffle(buffer_size=500000).batch(batch_size)\n",
    "# valDataset = tf.data.Dataset.from_tensor_slices((X_valid, y_valid)).batch(batch_size)"
   ]
  },
  {
   "cell_type": "code",
   "execution_count": 6,
   "metadata": {},
   "outputs": [],
   "source": [
    "# y_train.shape\n",
    "# np.sum(y_train)"
   ]
  },
  {
   "cell_type": "markdown",
   "metadata": {},
   "source": [
    "## Build the model, no regularisation"
   ]
  },
  {
   "cell_type": "code",
   "execution_count": 7,
   "metadata": {},
   "outputs": [
    {
     "name": "stdout",
     "output_type": "stream",
     "text": [
      "\n",
      "BUILD THE MODEL, no regularisation\n"
     ]
    }
   ],
   "source": [
    "print('\\nBUILD THE MODEL, no regularisation')\n",
    "\n",
    "bert_input = tf.keras.Input(shape=(sequenceSize), dtype='int32', name='bert_input')\n",
    "x = TFCamembertForMaskedLM.from_pretrained(\"jplu/tf-camembert-base\")(bert_input)[0]\n",
    "x = tf.keras.layers.Reshape((sequenceSize*vocab_size,))(x)\n",
    "dense_out = tf.keras.layers.Dense(2)(x)\n",
    "\n",
    "model = tf.keras.Model(bert_input, dense_out, name='model')\n",
    "# print(model.summary())\n",
    "\n",
    "# define the loss\n",
    "loss_object = tf.keras.losses.SparseCategoricalCrossentropy(from_logits=True)\n",
    "def loss(model, x, y):\n",
    "    y_ = model(x)\n",
    "    return loss_object(y_true=y, y_pred=y_)\n",
    "\n",
    "# func to calculate the gradients\n",
    "def grad(model, inputs, targets):\n",
    "    with tf.GradientTape() as tape:\n",
    "        loss_value = loss(model, inputs, targets)\n",
    "    return loss_value, tape.gradient(loss_value, model.trainable_variables[train_layer_ind:])\n",
    "\n",
    "# define the optimizer\n",
    "optimizer = tf.keras.optimizers.Adam(learning_rate=learat)"
   ]
  },
  {
   "cell_type": "markdown",
   "metadata": {},
   "source": [
    "## Build the model, no regularisation, additional layer"
   ]
  },
  {
   "cell_type": "code",
   "execution_count": 8,
   "metadata": {},
   "outputs": [],
   "source": [
    "# print('\\nBUILD THE MODEL, no regularisation')\n",
    "\n",
    "# bert_input = tf.keras.Input(shape=(sequenceSize), dtype='int32', name='bert_input')\n",
    "# x = TFCamembertForMaskedLM.from_pretrained(\"jplu/tf-camembert-base\")(bert_input)[0]\n",
    "# x = tf.keras.layers.Reshape((sequenceSize*vocab_size,))(x)\n",
    "# x = tf.keras.layers.Dense(64, activation='relu')(x)\n",
    "# dense_out = tf.keras.layers.Dense(2)(x)\n",
    "\n",
    "# model = tf.keras.Model(bert_input, dense_out, name='model')\n",
    "# # print(model.summary())\n",
    "\n",
    "# # define the loss\n",
    "# loss_object = tf.keras.losses.SparseCategoricalCrossentropy(from_logits=True)\n",
    "# def loss(model, x, y):\n",
    "#     y_ = model(x)\n",
    "#     return loss_object(y_true=y, y_pred=y_)\n",
    "\n",
    "# # func to calculate the gradients\n",
    "# def grad(model, inputs, targets):\n",
    "#     with tf.GradientTape() as tape:\n",
    "#         loss_value = loss(model, inputs, targets)\n",
    "#     return loss_value, tape.gradient(loss_value, model.trainable_variables[train_layer_ind:])\n",
    "\n",
    "# # define the optimizer\n",
    "# optimizer = tf.keras.optimizers.Adam(learning_rate=learat)"
   ]
  },
  {
   "cell_type": "code",
   "execution_count": 9,
   "metadata": {},
   "outputs": [],
   "source": [
    "# print(model.summary())"
   ]
  },
  {
   "cell_type": "markdown",
   "metadata": {},
   "source": [
    "## Build the model, with regularisation"
   ]
  },
  {
   "cell_type": "code",
   "execution_count": 10,
   "metadata": {},
   "outputs": [],
   "source": [
    "# ### get configuration file\n",
    "# modelBERT = TFCamembertForMaskedLM.from_pretrained(\"jplu/tf-camembert-base\")\n",
    "# configBERT = modelBERT.config"
   ]
  },
  {
   "cell_type": "code",
   "execution_count": 11,
   "metadata": {},
   "outputs": [],
   "source": [
    "# configBERT.hidden_dropout_prob"
   ]
  },
  {
   "cell_type": "code",
   "execution_count": 12,
   "metadata": {},
   "outputs": [],
   "source": [
    "# ### change dropout probability\n",
    "# configBERT.hidden_dropout_prob = hidden_dropout_prob"
   ]
  },
  {
   "cell_type": "code",
   "execution_count": 13,
   "metadata": {},
   "outputs": [],
   "source": [
    "# configBERT.hidden_dropout_prob"
   ]
  },
  {
   "cell_type": "code",
   "execution_count": 14,
   "metadata": {},
   "outputs": [],
   "source": [
    "# print('\\nBUILD THE MODEL, with regularisation')\n",
    "\n",
    "# bert_input = tf.keras.Input(shape=(sequenceSize), dtype='int32', name='bert_input')\n",
    "# x = TFCamembertForMaskedLM.from_pretrained(\"jplu/tf-camembert-base\", config=configBERT)(bert_input, training=training)[0]\n",
    "# x = tf.keras.layers.Reshape((sequenceSize*vocab_size,))(x)\n",
    "# dense_out = tf.keras.layers.Dense(2)(x)\n",
    "\n",
    "# model = tf.keras.Model(bert_input, dense_out, name='model')\n",
    "# # print(model.summary())\n",
    "\n",
    "# # define the loss\n",
    "# loss_object = tf.keras.losses.SparseCategoricalCrossentropy(from_logits=True)\n",
    "# def loss(model, x, y):\n",
    "#     y_ = model(x)\n",
    "#     return loss_object(y_true=y, y_pred=y_)\n",
    "\n",
    "# # func to calculate the gradients\n",
    "# def grad(model, inputs, targets):\n",
    "#     with tf.GradientTape() as tape:\n",
    "#         loss_value = loss(model, inputs, targets)\n",
    "#     return loss_value, tape.gradient(loss_value, model.trainable_variables[train_layer_ind:])\n",
    "\n",
    "# # define the optimizer\n",
    "# optimizer = tf.keras.optimizers.Adam(learning_rate=learat)"
   ]
  },
  {
   "cell_type": "markdown",
   "metadata": {},
   "source": [
    "### Training loop"
   ]
  },
  {
   "cell_type": "code",
   "execution_count": 15,
   "metadata": {},
   "outputs": [],
   "source": [
    "# print('\\nSTART TRAINING')\n",
    "\n",
    "# print('\\nX_train.shape = ', X_train.shape)\n",
    "\n",
    "# epoch_loss_avg = tf.keras.metrics.Mean()\n",
    "# epoch_accuracy = tf.keras.metrics.SparseCategoricalAccuracy()\n",
    "\n",
    "# epoch_loss_avg_valid = tf.keras.metrics.Mean()\n",
    "# epoch_accuracy_valid = tf.keras.metrics.SparseCategoricalAccuracy()\n",
    "\n",
    "# train_loss_results = []\n",
    "# train_accuracy_results = []\n",
    "\n",
    "# val_loss_results = []\n",
    "# val_accuracy_results = []\n",
    "\n",
    "# checkpoint_path = save_path + \"cp-{epoch:03d}.ckpt\"\n",
    "\n",
    "# tmpTrain = np.inf\n",
    "# tmpVal = np.inf\n",
    "# for epoch in range(1, (numEpo+1)):\n",
    "\n",
    "#     # Training loop\n",
    "#     for x, y in trainDataset:\n",
    "#         # Optimize the model\n",
    "#         loss_value, grads = grad(model, x, y)\n",
    "#         optimizer.apply_gradients(zip(grads, model.trainable_variables[train_layer_ind:]))\n",
    "\n",
    "#         # Track progress\n",
    "#         epoch_loss_avg.update_state(loss_value)\n",
    "#         epoch_accuracy.update_state(y, model(x))\n",
    "\n",
    "#     # End epoch\n",
    "#     train_loss_results.append(epoch_loss_avg.result())\n",
    "#     train_accuracy_results.append(epoch_accuracy.result())\n",
    "\n",
    "#     # if epoch % 10 == 0:\n",
    "#     print(\"\\nEpoch {:03d}: (Training)   Loss: {:.3f}, Accuracy: {:.3%}\".format(epoch, epoch_loss_avg.result(),\n",
    "#                                                                   epoch_accuracy.result()))\n",
    "    \n",
    "#     epoch_loss_avg.reset_states()\n",
    "#     epoch_accuracy.reset_states()\n",
    "    \n",
    "#     # run validation loop\n",
    "#     for x_batch_val, y_batch_val in valDataset:\n",
    "#         loss_value, _ = grad(model, x_batch_val, y_batch_val)\n",
    "#         epoch_loss_avg_valid.update_state(loss_value)\n",
    "#         epoch_accuracy_valid.update_state(y_batch_val, model(x_batch_val))\n",
    "    \n",
    "#     # save model if new min for train loss is found\n",
    "#     if epoch_loss_avg.result().numpy() < tmpTrain:\n",
    "#         tmpTrain = epoch_loss_avg.result().numpy()\n",
    "#         model.save_weights(checkpoint_path.format(epoch=epoch))\n",
    "    \n",
    "# #     # save model if new min for val loss is found\n",
    "# #     if epoch_loss_avg_valid.result().numpy() < tmp:\n",
    "# #         tmp = epoch_loss_avg_valid.result().numpy()\n",
    "# #         model.save_weights(checkpoint_path.format(epoch=epoch))\n",
    "    \n",
    "#     val_loss = epoch_loss_avg_valid.result()\n",
    "#     val_acc = epoch_accuracy_valid.result()\n",
    "#     print(\"           (Validation) Loss: {:.3f}, Accuracy: {:.3%}\".format(val_loss, val_acc))\n",
    "    \n",
    "#     epoch_loss_avg_valid.reset_states()\n",
    "#     epoch_accuracy_valid.reset_states()\n",
    "    "
   ]
  },
  {
   "cell_type": "markdown",
   "metadata": {},
   "source": [
    "### Training Loop, No Validation Dataset"
   ]
  },
  {
   "cell_type": "code",
   "execution_count": 16,
   "metadata": {},
   "outputs": [
    {
     "name": "stdout",
     "output_type": "stream",
     "text": [
      "\n",
      "START TRAINING\n",
      "\n",
      "X_train.shape =  (256, 32)\n",
      "\n",
      "Epoch 001: (Training)   Loss: 10.807, Accuracy: 92.188%\n",
      "\n",
      "Epoch 002: (Training)   Loss: 4.098, Accuracy: 84.766%\n",
      "\n",
      "Epoch 003: (Training)   Loss: 1.459, Accuracy: 92.969%\n",
      "\n",
      "Epoch 004: (Training)   Loss: 0.719, Accuracy: 92.578%\n",
      "\n",
      "Epoch 005: (Training)   Loss: 0.279, Accuracy: 97.656%\n"
     ]
    }
   ],
   "source": [
    "print('\\nSTART TRAINING')\n",
    "\n",
    "print('\\nX_train.shape = ', X_train.shape)\n",
    "\n",
    "epoch_loss_avg = tf.keras.metrics.Mean()\n",
    "epoch_accuracy = tf.keras.metrics.SparseCategoricalAccuracy()\n",
    "\n",
    "train_loss_results = []\n",
    "train_accuracy_results = []\n",
    "\n",
    "checkpoint_path = save_path + \"cp-{epoch:03d}.ckpt\"\n",
    "\n",
    "tmpTrain = np.inf\n",
    "for epoch in range(1, (numEpo+1)):\n",
    "    \n",
    "    # Training loop\n",
    "    for x, y in trainDataset:\n",
    "        # Optimize the model\n",
    "        loss_value, grads = grad(model, x, y)\n",
    "        optimizer.apply_gradients(zip(grads, model.trainable_variables[train_layer_ind:]))\n",
    "\n",
    "        # Track progress\n",
    "        epoch_loss_avg.update_state(loss_value)\n",
    "        epoch_accuracy.update_state(y, model(x))\n",
    "\n",
    "    # End epoch\n",
    "    train_loss_results.append(epoch_loss_avg.result())\n",
    "    train_accuracy_results.append(epoch_accuracy.result())\n",
    "\n",
    "    # if epoch % 10 == 0:\n",
    "    print(\"\\nEpoch {:03d}: (Training)   Loss: {:.3f}, Accuracy: {:.3%}\".format(epoch, epoch_loss_avg.result(), epoch_accuracy.result()))\n",
    "\n",
    "    # save model if new min for train loss is found\n",
    "    if epoch_loss_avg.result().numpy() < tmpTrain:\n",
    "        tmpTrain = epoch_loss_avg.result().numpy()\n",
    "        model.save_weights(checkpoint_path.format(epoch=epoch))\n",
    "\n",
    "    epoch_loss_avg.reset_states()\n",
    "    epoch_accuracy.reset_states()"
   ]
  },
  {
   "cell_type": "markdown",
   "metadata": {},
   "source": [
    "### Output train details on the log file"
   ]
  },
  {
   "cell_type": "code",
   "execution_count": 17,
   "metadata": {},
   "outputs": [],
   "source": [
    "nameLogFile = 'log.txt'\n",
    "logFile = open(save_path + nameLogFile, \"w\")"
   ]
  },
  {
   "cell_type": "code",
   "execution_count": 18,
   "metadata": {},
   "outputs": [
    {
     "data": {
      "text/plain": [
       "18"
      ]
     },
     "execution_count": 18,
     "metadata": {},
     "output_type": "execute_result"
    }
   ],
   "source": [
    "# write name of model\n",
    "logFile.write(\"\\n\" + time + \"\\n\\n\")"
   ]
  },
  {
   "cell_type": "code",
   "execution_count": 19,
   "metadata": {},
   "outputs": [],
   "source": [
    "# write hyper parameters\n",
    "listHyper0 = ['vocab_size', 'sequenceSize', 'batch_size', 'train_layer_ind', 'learat', 'numEpo', 'training', 'hidden_dropout_prob']\n",
    "listHyper1 = [str(vocab_size), str(sequenceSize), str(batch_size), str(train_layer_ind), str(learat), str(numEpo), str(training), str(hidden_dropout_prob)]\n",
    "for i in range(len(listHyper0)):\n",
    "    logFile.write(listHyper0[i] + \":  \" + listHyper1[i] + \"\\n\")"
   ]
  },
  {
   "cell_type": "code",
   "execution_count": 20,
   "metadata": {},
   "outputs": [],
   "source": [
    "# write training details\n",
    "logFile.write('\\nTRAINING')\n",
    "trainLossArr = np.asarray(train_loss_results)\n",
    "trainAccArr = np.asarray(train_accuracy_results)\n",
    "for i in range(numEpo):\n",
    "    logFile.write(\"\\nEpoch {:03d}:   Loss: {:6.3f},   Accuracy: {:6.3%}\".format(i+1, trainLossArr[i], trainAccArr[i]))"
   ]
  },
  {
   "cell_type": "markdown",
   "metadata": {},
   "source": [
    "### Evaluate the model, write the details on the logFile"
   ]
  },
  {
   "cell_type": "code",
   "execution_count": 21,
   "metadata": {},
   "outputs": [
    {
     "name": "stdout",
     "output_type": "stream",
     "text": [
      "(21009, 32)\n",
      "(32, 32)\n"
     ]
    }
   ],
   "source": [
    "### get dataset\n",
    "\n",
    "# name of dataset with sentences\n",
    "data_name = \"Scriber\"\n",
    "fileName = 'Data' + data_name + '/' + 'raw.processed.Test_01.txt'\n",
    "\n",
    "# from sentences to list of words+punctuation\n",
    "data = load_file(preProcessingScriber(fileName))\n",
    "\n",
    "# encode and insert target\n",
    "X_, y_ = encode_data(data, tokenizer, punctuation_enc)\n",
    "X = insert_target(X_, sequenceSize)\n",
    "y = np.asarray(y_)\n",
    "\n",
    "# get only an n of the data.\n",
    "n = 32\n",
    "print(X.shape)\n",
    "X = X[0:n]\n",
    "y = y[0:n]\n",
    "print(X.shape)\n",
    "\n",
    "# one hot encode the labels\n",
    "y = tf.one_hot(y, 2, dtype='int64').numpy()\n",
    "\n",
    "dataset = tf.data.Dataset.from_tensor_slices((X, y)).batch(batch_size)"
   ]
  },
  {
   "cell_type": "code",
   "execution_count": 22,
   "metadata": {},
   "outputs": [],
   "source": [
    "### build and compile model\n",
    "\n",
    "bert_input = tf.keras.Input(shape=(sequenceSize), dtype='int32', name='bert_input')\n",
    "x = TFCamembertForMaskedLM.from_pretrained(\"jplu/tf-camembert-base\")(bert_input)[0]\n",
    "x = tf.keras.layers.Reshape((sequenceSize*vocab_size,))(x)\n",
    "dense_out = tf.keras.layers.Dense(2, activation='softmax')(x)\n",
    "\n",
    "model = tf.keras.Model(bert_input, dense_out, name='model')\n",
    "\n",
    "model.compile(optimizer='adam',\n",
    "              loss=tf.losses.CategoricalCrossentropy(from_logits=False),\n",
    "              metrics=[tf.keras.metrics.Recall(class_id=0, name='Rec_0'),\n",
    "                       tf.keras.metrics.Precision(class_id=0, name='Prec_0'),\n",
    "                       tf.keras.metrics.Recall(class_id=1, name='Rec_1'),\n",
    "                       tf.keras.metrics.Precision(class_id=1, name='Prec_1'),\n",
    "                      ])"
   ]
  },
  {
   "cell_type": "code",
   "execution_count": 23,
   "metadata": {},
   "outputs": [],
   "source": [
    "modelsLst = []\n",
    "for r, d, f in os.walk(save_path):\n",
    "    for file in sorted(f):\n",
    "        if \".index\" in file:\n",
    "            modelsLst.append(file[:-6])"
   ]
  },
  {
   "cell_type": "code",
   "execution_count": 24,
   "metadata": {},
   "outputs": [],
   "source": [
    "# # compute f1 score\n",
    "# def compF1(rec, pre):\n",
    "#     return 2 * (pre*rec) / (pre+rec)\n",
    "\n",
    "# compute f1 score\n",
    "def compF1(rec, pre):\n",
    "    return 2 * (pre*rec) / (pre+rec + 1)"
   ]
  },
  {
   "cell_type": "code",
   "execution_count": 25,
   "metadata": {},
   "outputs": [
    {
     "name": "stdout",
     "output_type": "stream",
     "text": [
      "ModelsExpScriber/20200526_082010/cp-001.ckpt\n",
      "1/1 [==============================] - 0s 1ms/step - loss: 11.1336 - Rec_0: 1.0000 - Prec_0: 0.9062 - Rec_1: 0.0000e+00 - Prec_1: 0.0000e+00\n",
      "F1_0 =   0.6236559     F1_1 =   0.0000000\n",
      "ModelsExpScriber/20200526_082010/cp-002.ckpt\n",
      "1/1 [==============================] - 0s 4ms/step - loss: 2.4093 - Rec_0: 1.0000 - Prec_0: 0.9062 - Rec_1: 0.0000e+00 - Prec_1: 0.0000e+00\n",
      "F1_0 =   0.6236559     F1_1 =   0.0000000\n",
      "ModelsExpScriber/20200526_082010/cp-003.ckpt\n",
      "1/1 [==============================] - 0s 1ms/step - loss: 4.2021 - Rec_0: 1.0000 - Prec_0: 0.9062 - Rec_1: 0.0000e+00 - Prec_1: 0.0000e+00\n",
      "F1_0 =   0.6236559     F1_1 =   0.0000000\n",
      "ModelsExpScriber/20200526_082010/cp-004.ckpt\n",
      "1/1 [==============================] - 0s 1ms/step - loss: 1.9259 - Rec_0: 0.8966 - Prec_0: 0.8966 - Rec_1: 0.0000e+00 - Prec_1: 0.0000e+00\n",
      "F1_0 =   0.5755641     F1_1 =   0.0000000\n",
      "ModelsExpScriber/20200526_082010/cp-005.ckpt\n",
      "1/1 [==============================] - 0s 1ms/step - loss: 4.3603 - Rec_0: 1.0000 - Prec_0: 0.9062 - Rec_1: 0.0000e+00 - Prec_1: 0.0000e+00\n",
      "F1_0 =   0.6236559     F1_1 =   0.0000000\n"
     ]
    }
   ],
   "source": [
    "# evaluate models\n",
    "logFile.write('\\n\\nEVALUATION\\n')\n",
    "for i in range(len(modelsLst)):\n",
    "    checkpointPath = save_path + modelsLst[i]\n",
    "    print(checkpointPath)\n",
    "\n",
    "    # load weights\n",
    "    model.load_weights(checkpointPath)\n",
    "\n",
    "    # evaluate\n",
    "    evaluation = model.evaluate(dataset)\n",
    "    \n",
    "    f1_0 = compF1(evaluation[1],evaluation[2])\n",
    "    f1_1 = compF1(evaluation[3],evaluation[4])\n",
    "    print(\"F1_0 = {:11.7f}     F1_1 = {:11.7f}\".format(f1_0, f1_1))\n",
    "    \n",
    "    # write details on log files\n",
    "    logFile.write(modelsLst[i])\n",
    "    logFile.write(\" - Loss: {:7.4f} - Rec_0 {:6.4f} - Pre_0 {:6.4f} - F1_0 = {:11.7f} - Rec_1 {:6.4f} - Pre_1 {:6.4f} - F1_1 = {:11.7f}\\n\".format(evaluation[0], evaluation[1], evaluation[2], f1_0, evaluation[3], evaluation[4], f1_1))\n",
    "\n",
    "logFile.close()"
   ]
  },
  {
   "cell_type": "code",
   "execution_count": null,
   "metadata": {},
   "outputs": [],
   "source": []
  },
  {
   "cell_type": "code",
   "execution_count": null,
   "metadata": {},
   "outputs": [],
   "source": []
  },
  {
   "cell_type": "code",
   "execution_count": 26,
   "metadata": {},
   "outputs": [],
   "source": [
    "# ### first run, no regularisation\n",
    "# Epoch 001: (Training)   Loss: 4.618, Accuracy: 91.602%\n",
    "# Epoch 002: (Training)   Loss: 0.519, Accuracy: 97.656%\n",
    "# Epoch 003: (Training)   Loss: 0.149, Accuracy: 99.609%\n",
    "# Epoch 004: (Training)   Loss: 0.067, Accuracy: 100.000%\n",
    "# Epoch 005: (Training)   Loss: 0.066, Accuracy: 100.000%"
   ]
  },
  {
   "cell_type": "code",
   "execution_count": 27,
   "metadata": {},
   "outputs": [],
   "source": [
    "# ### second run, no regularisation\n",
    "# Epoch 001: (Training)   Loss: 4.619, Accuracy: 91.406%\n",
    "# Epoch 002: (Training)   Loss: 0.190, Accuracy: 99.414%\n",
    "# Epoch 003: (Training)   Loss: 0.362, Accuracy: 99.219%\n",
    "# Epoch 004: (Training)   Loss: 0.115, Accuracy: 99.805%\n",
    "# Epoch 005: (Training)   Loss: 0.229, Accuracy: 100.000%"
   ]
  },
  {
   "cell_type": "code",
   "execution_count": 28,
   "metadata": {},
   "outputs": [],
   "source": [
    "# ### third run, regularisation (.5), training set to true\n",
    "# Epoch 001: (Training)   Loss: 4.783, Accuracy: 87.305%\n",
    "# Epoch 002: (Training)   Loss: 2.090, Accuracy: 85.742%\n",
    "# Epoch 003: (Training)   Loss: 1.414, Accuracy: 91.211%\n",
    "# Epoch 004: (Training)   Loss: 1.523, Accuracy: 88.477%\n",
    "# Epoch 005: (Training)   Loss: 1.263, Accuracy: 87.109%"
   ]
  },
  {
   "cell_type": "code",
   "execution_count": 29,
   "metadata": {},
   "outputs": [],
   "source": [
    "# ### fourth run, regularisation, training set to false\n",
    "# Epoch 001: (Training)   Loss: 4.850, Accuracy: 91.211%\n",
    "# Epoch 002: (Training)   Loss: 1.478, Accuracy: 96.289%\n",
    "# Epoch 003: (Training)   Loss: 0.254, Accuracy: 99.219%\n",
    "# Epoch 004: (Training)   Loss: 0.265, Accuracy: 99.414%\n",
    "# Epoch 005: (Training)   Loss: 0.030, Accuracy: 100.000%"
   ]
  }
 ],
 "metadata": {
  "kernelspec": {
   "display_name": ".venv_X",
   "language": "python",
   "name": ".venv_x"
  },
  "language_info": {
   "codemirror_mode": {
    "name": "ipython",
    "version": 3
   },
   "file_extension": ".py",
   "mimetype": "text/x-python",
   "name": "python",
   "nbconvert_exporter": "python",
   "pygments_lexer": "ipython3",
   "version": "3.8.2"
  }
 },
 "nbformat": 4,
 "nbformat_minor": 4
}
