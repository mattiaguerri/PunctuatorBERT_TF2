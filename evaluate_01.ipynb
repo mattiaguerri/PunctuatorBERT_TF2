{
 "cells": [
  {
   "cell_type": "markdown",
   "metadata": {},
   "source": [
    "# Evaluate Model Performance on the Test Set "
   ]
  },
  {
   "cell_type": "code",
   "execution_count": 1,
   "metadata": {},
   "outputs": [],
   "source": [
    "import numpy as np\n",
    "import tensorflow as tf\n",
    "\n",
    "from data import load_file, process_data, create_data_loader, preProcessingIWSLT12\n",
    "\n",
    "from transformers import BertTokenizer\n",
    "from transformers import TFBertForMaskedLM\n",
    "\n",
    "from model import create_model\n",
    "\n",
    "from datetime import datetime\n",
    "import os\n",
    "import json\n",
    "\n",
    "import sys"
   ]
  },
  {
   "cell_type": "code",
   "execution_count": 3,
   "metadata": {},
   "outputs": [
    {
     "name": "stdout",
     "output_type": "stream",
     "text": [
      "checkpoint\t\t\t cp-011.ckpt.data-00000-of-00002\n",
      "cp-002.ckpt.data-00000-of-00002  cp-011.ckpt.data-00001-of-00002\n",
      "cp-002.ckpt.data-00001-of-00002  cp-011.ckpt.index\n",
      "cp-002.ckpt.index\t\t cp-013.ckpt.data-00000-of-00002\n",
      "cp-005.ckpt.data-00000-of-00002  cp-013.ckpt.data-00001-of-00002\n",
      "cp-005.ckpt.data-00001-of-00002  cp-013.ckpt.index\n",
      "cp-005.ckpt.index\t\t cp-014.ckpt.data-00000-of-00002\n",
      "cp-008.ckpt.data-00000-of-00002  cp-014.ckpt.data-00001-of-00002\n",
      "cp-008.ckpt.data-00001-of-00002  cp-014.ckpt.index\n",
      "cp-008.ckpt.index\t\t hyperparameters.json\n"
     ]
    }
   ],
   "source": [
    "!ls Models/20200424_165143"
   ]
  },
  {
   "cell_type": "code",
   "execution_count": 4,
   "metadata": {},
   "outputs": [],
   "source": [
    "checkpoint_path = \"Models/20200424_165143/cp-014.ckpt\""
   ]
  },
  {
   "cell_type": "code",
   "execution_count": 5,
   "metadata": {},
   "outputs": [],
   "source": [
    "# punctuation_enc = {\n",
    "#     'O': 0,\n",
    "#     'PERIOD': 1,\n",
    "# }\n",
    "\n",
    "punctuation_enc = {\n",
    "    'O': 0,\n",
    "    'COMMA': 1,\n",
    "    'PERIOD': 2,\n",
    "    'QUESTION': 3\n",
    "}"
   ]
  },
  {
   "cell_type": "markdown",
   "metadata": {},
   "source": [
    "### Hyper-parameters"
   ]
  },
  {
   "cell_type": "code",
   "execution_count": 6,
   "metadata": {},
   "outputs": [],
   "source": [
    "n = 100\n",
    "\n",
    "vocab_size = 30522\n",
    "segment_size = 32\n",
    "batch_size = 5\n",
    "train_layer_ind = -2  # 0 for all model, -2 for only top layer\n",
    "num_epochs = 2\n",
    "\n",
    "hyperparameters = {\n",
    "    'vocab_size': vocab_size,\n",
    "    'segment_size': segment_size,\n",
    "    'batch_size': batch_size\n",
    "}"
   ]
  },
  {
   "cell_type": "code",
   "execution_count": 7,
   "metadata": {},
   "outputs": [],
   "source": [
    "# name of data with the sentences\n",
    "data_name = \"IWSLT12\"\n",
    "testSet_01 = 'Data' + data_name + '/extractTest_01.txt'\n",
    "\n",
    "# from sentences to list of words+punctuation\n",
    "\n",
    "preProcessingIWSLT12(testSet_01)\n",
    "\n",
    "data_test = load_file('./Data/testSet_02.txt')\n",
    "\n",
    "# data_train = load_file('./Data/trainSet_02.txt')\n",
    "data_test = load_file('./Data/testSet_02.txt')\n",
    "\n",
    "tokenizer = BertTokenizer.from_pretrained('bert-base-uncased', do_lower_case=True)\n",
    "\n",
    "# X_train, y_train = process_data(data_train, tokenizer, punctuation_enc, segment_size)\n",
    "# y_train = np.asarray(y_train)\n",
    "X_test, y_test = process_data(data_test, tokenizer, punctuation_enc, segment_size)\n",
    "y_test = np.asarray(y_test)"
   ]
  },
  {
   "cell_type": "code",
   "execution_count": 8,
   "metadata": {},
   "outputs": [],
   "source": [
    "# one hot encode the labels\n",
    "y_test = tf.one_hot(y_test, 4, dtype='int64').numpy()"
   ]
  },
  {
   "cell_type": "markdown",
   "metadata": {},
   "source": [
    "### Build the dataset"
   ]
  },
  {
   "cell_type": "code",
   "execution_count": 14,
   "metadata": {},
   "outputs": [],
   "source": [
    "extract_X = X_test[0:n]\n",
    "extract_y = y_test[0:n]\n",
    "\n",
    "extract_X = X_test[0:]\n",
    "extract_y = y_test[0:]"
   ]
  },
  {
   "cell_type": "code",
   "execution_count": 15,
   "metadata": {},
   "outputs": [],
   "source": [
    "dataset = tf.data.Dataset.from_tensor_slices((extract_X, extract_y))\n",
    "dataset = dataset.batch(batch_size)"
   ]
  },
  {
   "cell_type": "markdown",
   "metadata": {},
   "source": [
    "### Build the model"
   ]
  },
  {
   "cell_type": "code",
   "execution_count": 16,
   "metadata": {},
   "outputs": [],
   "source": [
    "# build and compile model\n",
    "\n",
    "bert_input = tf.keras.Input(shape=(segment_size), dtype='int32', name='bert_input')\n",
    "x = TFBertForMaskedLM.from_pretrained('bert-base-uncased')(bert_input)[0]\n",
    "x = tf.keras.layers.Reshape((segment_size*vocab_size,))(x)\n",
    "dense_out = tf.keras.layers.Dense(4, activation='softmax')(x)\n",
    "\n",
    "net = tf.keras.Model(bert_input, dense_out, name='network')\n",
    "\n",
    "net.compile(optimizer='adam',\n",
    "              loss=tf.losses.CategoricalCrossentropy(from_logits=False),\n",
    "              metrics=[tf.keras.metrics.Recall(class_id=0, name='recall_0'),\n",
    "                       tf.keras.metrics.Precision(class_id=0, name='Precision_0'),\n",
    "                       tf.keras.metrics.Recall(class_id=1, name='recall_1'),\n",
    "                       tf.keras.metrics.Precision(class_id=1, name='Precision_1'),\n",
    "                       tf.keras.metrics.Recall(class_id=2, name='recall_2'),\n",
    "                       tf.keras.metrics.Precision(class_id=2, name='Precision_2'),\n",
    "                       tf.keras.metrics.Recall(class_id=3, name='recall_3'),\n",
    "                       tf.keras.metrics.Precision(class_id=3, name='Precision_3'),\n",
    "                      ])"
   ]
  },
  {
   "cell_type": "code",
   "execution_count": 17,
   "metadata": {},
   "outputs": [
    {
     "data": {
      "text/plain": [
       "<tensorflow.python.training.tracking.util.CheckpointLoadStatus at 0x7f589fd67630>"
      ]
     },
     "execution_count": 17,
     "metadata": {},
     "output_type": "execute_result"
    }
   ],
   "source": [
    "# load the weights\n",
    "net.load_weights(checkpoint_path)"
   ]
  },
  {
   "cell_type": "markdown",
   "metadata": {},
   "source": [
    "### Evaluate the model"
   ]
  },
  {
   "cell_type": "code",
   "execution_count": 18,
   "metadata": {},
   "outputs": [
    {
     "name": "stdout",
     "output_type": "stream",
     "text": [
      "1717/1717 [==============================] - 3816s 2s/step - loss: 0.5585 - recall_0: 1.0000 - Precision_0: 0.8711 - recall_1: 0.0000e+00 - Precision_1: 0.0000e+00 - recall_2: 0.0000e+00 - Precision_2: 0.0000e+00 - recall_3: 0.0000e+00 - Precision_3: 0.0000e+00\n"
     ]
    },
    {
     "data": {
      "text/plain": [
       "[0.5585189873594563, 1.0, 0.87112564, 0.0, 0.0, 0.0, 0.0, 0.0, 0.0]"
      ]
     },
     "execution_count": 18,
     "metadata": {},
     "output_type": "execute_result"
    }
   ],
   "source": [
    "net.evaluate(dataset)"
   ]
  },
  {
   "cell_type": "code",
   "execution_count": null,
   "metadata": {},
   "outputs": [],
   "source": []
  },
  {
   "cell_type": "code",
   "execution_count": null,
   "metadata": {},
   "outputs": [],
   "source": []
  }
 ],
 "metadata": {
  "kernelspec": {
   "display_name": "venv_project_X",
   "language": "python",
   "name": "venv_project_x"
  },
  "language_info": {
   "codemirror_mode": {
    "name": "ipython",
    "version": 3
   },
   "file_extension": ".py",
   "mimetype": "text/x-python",
   "name": "python",
   "nbconvert_exporter": "python",
   "pygments_lexer": "ipython3",
   "version": "3.6.5"
  }
 },
 "nbformat": 4,
 "nbformat_minor": 2
}
