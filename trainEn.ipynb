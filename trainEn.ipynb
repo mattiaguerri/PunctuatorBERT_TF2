{
 "cells": [
  {
   "cell_type": "code",
   "execution_count": 1,
   "metadata": {},
   "outputs": [],
   "source": [
    "import os\n",
    "# os.environ['TF_CPP_MIN_LOG_LEVEL'] = '3' \n",
    "\n",
    "import numpy as np\n",
    "\n",
    "\n",
    "# tf.autograph.set_verbosity(0)\n",
    "\n",
    "from silence_tensorflow import silence_tensorflow\n",
    "silence_tensorflow()  # silence TF warnings\n",
    "import tensorflow as tf\n",
    "\n",
    "\n",
    "from data import encode_data, insert_target \n",
    "from data import load_file, process_data, preProcessingIWSLT12\n",
    "\n",
    "from transformers import BertTokenizer\n",
    "from transformers import TFBertForMaskedLM\n",
    "\n",
    "from datetime import datetime\n",
    "import json\n",
    "\n",
    "import sys"
   ]
  },
  {
   "cell_type": "markdown",
   "metadata": {},
   "source": [
    "### Set Hyperparameters"
   ]
  },
  {
   "cell_type": "code",
   "execution_count": 2,
   "metadata": {},
   "outputs": [],
   "source": [
    "n = 20\n",
    "\n",
    "vocab_size = 30522\n",
    "segment_size = 32\n",
    "batch_size = 2\n",
    "train_layer_ind = 0  # 0 for all model, -2 for only top layer\n",
    "learat = 1e-4\n",
    "num_epochs = 10\n",
    "\n",
    "hyperparameters = {\n",
    "    'vocab_size': vocab_size,\n",
    "    'segment_size': segment_size,\n",
    "    'learning_rate': learat,\n",
    "    'batch_size': batch_size\n",
    "}\n",
    "\n",
    "save_path = 'ModelsExp/{}/'.format(datetime.now().strftime(\"%Y%m%d_%H%M%S\"))\n",
    "os.mkdir(save_path)\n",
    "with open(save_path + 'hyperparameters.json', 'w') as f:\n",
    "    json.dump(hyperparameters, f)"
   ]
  },
  {
   "cell_type": "markdown",
   "metadata": {},
   "source": [
    "### Preprocess and Process Data"
   ]
  },
  {
   "cell_type": "code",
   "execution_count": 3,
   "metadata": {},
   "outputs": [
    {
     "name": "stdout",
     "output_type": "stream",
     "text": [
      "\n",
      "PRE-PROCESS AND PROCESS DATA\n"
     ]
    }
   ],
   "source": [
    "print('\\nPRE-PROCESS AND PROCESS DATA')\n",
    "\n",
    "\n",
    "punctuation_enc = {\n",
    "    'O': 0,\n",
    "    'COMMA': 1,\n",
    "    'PERIOD': 2,\n",
    "    'QUESTION': 3\n",
    "}\n",
    "\n",
    "\n",
    "# name of dataset with sentences\n",
    "data_name = \"IWSLT12\"\n",
    "trainSet_01 = 'Data' + data_name + '/' + 'extractTrain_01.txt'\n",
    "validSet_01 = 'Data' + data_name + '/' + 'extractValid_01.txt'\n",
    "# trainSet_01 = 'Data' + data_name + '/' + 'IWSLT12.TALK.train.en.txt.Train_01'\n",
    "# validSet_01 = 'Data' + data_name + '/' + 'IWSLT12.TALK.train.en.txt.Valid_01'\n",
    "\n",
    "\n",
    "# from sentences to list of words+punctuation\n",
    "outTrain = preProcessingIWSLT12(trainSet_01)\n",
    "outValid = preProcessingIWSLT12(validSet_01)\n",
    "\n",
    "data_train = load_file(outTrain)\n",
    "data_valid = load_file(outValid)\n",
    "\n",
    "\n",
    "### instantiate the tokenizer\n",
    "tokenizer = BertTokenizer.from_pretrained('bert-base-uncased', do_lower_case=True)\n",
    "\n",
    "\n",
    "X_train, y_train = process_data(data_train, tokenizer, punctuation_enc, segment_size)\n",
    "y_train = np.asarray(y_train)\n",
    "X_valid, y_valid = process_data(data_valid, tokenizer, punctuation_enc, segment_size)\n",
    "y_valid = np.asarray(y_valid)"
   ]
  },
  {
   "cell_type": "code",
   "execution_count": null,
   "metadata": {},
   "outputs": [],
   "source": []
  },
  {
   "cell_type": "code",
   "execution_count": null,
   "metadata": {},
   "outputs": [],
   "source": []
  },
  {
   "cell_type": "code",
   "execution_count": 5,
   "metadata": {},
   "outputs": [
    {
     "data": {
      "text/plain": [
       "array([ 2038,  2019, 22524,  2073,  2002,  7607,  2010,  3601,  1997,\n",
       "       11913,  1997,  2367,  6331, 11086,  2009,     0,  2064,  2022,\n",
       "        1037,  2200,  8552,  2518,  1996,  4153,  1998,  2009,  2064,\n",
       "        2022,  1037,  2200,  8552,  2518])"
      ]
     },
     "execution_count": 5,
     "metadata": {},
     "output_type": "execute_result"
    }
   ],
   "source": [
    "X_train[0]"
   ]
  },
  {
   "cell_type": "code",
   "execution_count": null,
   "metadata": {},
   "outputs": [],
   "source": []
  },
  {
   "cell_type": "code",
   "execution_count": null,
   "metadata": {},
   "outputs": [],
   "source": []
  },
  {
   "cell_type": "code",
   "execution_count": 4,
   "metadata": {},
   "outputs": [],
   "source": [
    "# punctuation_enc = {\n",
    "#     'O': 0,\n",
    "#     'COMMA': 1,\n",
    "#     'PERIOD': 2,\n",
    "#     'QUESTION': 3\n",
    "# }\n",
    "\n",
    "# data_name = \"IWSLT12\"\n",
    "# trainSet_01 = 'Data' + data_name + '/' + 'extractTrain_01.txt'\n",
    "\n",
    "# # from sentences to list of words+punctuation\n",
    "# outTrain = preProcessingIWSLT12(trainSet_01)\n",
    "\n",
    "# data_train = load_file(outTrain)\n",
    "\n",
    "# tokenizer = BertTokenizer.from_pretrained('bert-base-uncased', do_lower_case=True)\n",
    "\n",
    "# X, y = encode_data(data_train, tokenizer, punctuation_enc)\n",
    "# X_ = insert_target(X, segment_size)"
   ]
  },
  {
   "cell_type": "code",
   "execution_count": 5,
   "metadata": {},
   "outputs": [],
   "source": [
    "# len(X)"
   ]
  },
  {
   "cell_type": "code",
   "execution_count": 6,
   "metadata": {},
   "outputs": [],
   "source": [
    "# tokens = tokenizer.tokenize(\"it can be a very complicated thing, the ocean.\")\n",
    "# tokens_ids = tokenizer.convert_tokens_to_ids(tokens)\n",
    "# tokens_ids"
   ]
  },
  {
   "cell_type": "code",
   "execution_count": 7,
   "metadata": {},
   "outputs": [],
   "source": [
    "# X"
   ]
  },
  {
   "cell_type": "code",
   "execution_count": null,
   "metadata": {},
   "outputs": [],
   "source": []
  },
  {
   "cell_type": "code",
   "execution_count": null,
   "metadata": {},
   "outputs": [],
   "source": []
  },
  {
   "cell_type": "markdown",
   "metadata": {},
   "source": [
    "### Build the dataset"
   ]
  },
  {
   "cell_type": "code",
   "execution_count": 8,
   "metadata": {},
   "outputs": [
    {
     "name": "stdout",
     "output_type": "stream",
     "text": [
      "\n",
      "BUILD THE DATASET\n"
     ]
    }
   ],
   "source": [
    "print('\\nBUILD THE DATASET')\n",
    "\n",
    "# dataset = tf.data.Dataset.from_tensor_slices((X_train, y_train)).shuffle(buffer_size=10000).batch(batch_size)\n",
    "# val_dataset = tf.data.Dataset.from_tensor_slices((X_valid, y_valid)).batch(batch_size)\n",
    "\n",
    "extract_X = X_train[0:n]\n",
    "extract_y = y_train[0:n]\n",
    "dataset = tf.data.Dataset.from_tensor_slices((extract_X, extract_y)).shuffle(buffer_size=10000).batch(batch_size)\n",
    "val_dataset = tf.data.Dataset.from_tensor_slices((extract_X, extract_y)).batch(batch_size)"
   ]
  },
  {
   "cell_type": "markdown",
   "metadata": {},
   "source": [
    "### Build the model"
   ]
  },
  {
   "cell_type": "code",
   "execution_count": 9,
   "metadata": {},
   "outputs": [
    {
     "name": "stdout",
     "output_type": "stream",
     "text": [
      "\n",
      "BUILD THE MODEL\n",
      "Model: \"network\"\n",
      "_________________________________________________________________\n",
      "Layer (type)                 Output Shape              Param #   \n",
      "=================================================================\n",
      "bert_input (InputLayer)      [(None, 32)]              0         \n",
      "_________________________________________________________________\n",
      "tf_bert_for_masked_lm (TFBer ((None, 32, 30522),)      110104890 \n",
      "_________________________________________________________________\n",
      "reshape (Reshape)            (None, 976704)            0         \n",
      "_________________________________________________________________\n",
      "dense (Dense)                (None, 4)                 3906820   \n",
      "=================================================================\n",
      "Total params: 114,011,710\n",
      "Trainable params: 114,011,710\n",
      "Non-trainable params: 0\n",
      "_________________________________________________________________\n",
      "None\n"
     ]
    }
   ],
   "source": [
    "print('\\nBUILD THE MODEL')\n",
    "\n",
    "\n",
    "bert_input = tf.keras.Input(shape=(segment_size), dtype='int32', name='bert_input')\n",
    "x = TFBertForMaskedLM.from_pretrained('bert-base-uncased')(bert_input)[0]\n",
    "x = tf.keras.layers.Reshape((segment_size*vocab_size,))(x)\n",
    "dense_out = tf.keras.layers.Dense(4)(x)\n",
    "\n",
    "\n",
    "net = tf.keras.Model(bert_input, dense_out, name='network')\n",
    "print(net.summary())\n",
    "\n",
    "\n",
    "# define the loss\n",
    "loss_object = tf.keras.losses.SparseCategoricalCrossentropy(from_logits=True)\n",
    "def loss(model, x, y):\n",
    "    y_ = model(x)\n",
    "    return loss_object(y_true=y, y_pred=y_)\n",
    "\n",
    "\n",
    "# func to calculate the gradients\n",
    "def grad(model, inputs, targets):\n",
    "    with tf.GradientTape() as tape:\n",
    "        loss_value = loss(model, inputs, targets)\n",
    "    return loss_value, tape.gradient(loss_value, model.trainable_variables[train_layer_ind:])\n",
    "\n",
    "\n",
    "# define the optimizer\n",
    "optimizer = tf.keras.optimizers.Adam(learning_rate=learat)"
   ]
  },
  {
   "cell_type": "markdown",
   "metadata": {},
   "source": [
    "### Training loop"
   ]
  },
  {
   "cell_type": "code",
   "execution_count": 10,
   "metadata": {},
   "outputs": [
    {
     "name": "stdout",
     "output_type": "stream",
     "text": [
      "\n",
      "START TRAINING\n",
      "\n",
      "Epoch 001: (Training)   Loss: 474.077, Accuracy: 85.000%\n",
      "           (Validation) Loss: 129.124, Accuracy: 85.000%\n",
      "\n",
      "Epoch 002: (Training)   Loss: 91.573, Accuracy: 90.000%\n",
      "           (Validation) Loss: 60.941, Accuracy: 85.000%\n",
      "\n",
      "Epoch 003: (Training)   Loss: 42.323, Accuracy: 60.000%\n",
      "           (Validation) Loss: 16.078, Accuracy: 85.000%\n",
      "\n",
      "Epoch 004: (Training)   Loss: 25.013, Accuracy: 85.000%\n",
      "           (Validation) Loss: 10.151, Accuracy: 85.000%\n",
      "\n",
      "Epoch 005: (Training)   Loss: 12.544, Accuracy: 70.000%\n",
      "           (Validation) Loss: 2.288, Accuracy: 85.000%\n",
      "\n",
      "Epoch 006: (Training)   Loss: 4.884, Accuracy: 75.000%\n",
      "           (Validation) Loss: 1.752, Accuracy: 40.000%\n",
      "\n",
      "Epoch 007: (Training)   Loss: 2.670, Accuracy: 70.000%\n",
      "           (Validation) Loss: 8.215, Accuracy: 85.000%\n",
      "\n",
      "Epoch 008: (Training)   Loss: 11.650, Accuracy: 85.000%\n",
      "           (Validation) Loss: 5.322, Accuracy: 85.000%\n",
      "\n",
      "Epoch 009: (Training)   Loss: 5.930, Accuracy: 65.000%\n",
      "           (Validation) Loss: 5.222, Accuracy: 85.000%\n",
      "\n",
      "Epoch 010: (Training)   Loss: 6.947, Accuracy: 80.000%\n",
      "           (Validation) Loss: 2.692, Accuracy: 85.000%\n"
     ]
    }
   ],
   "source": [
    "print('\\nSTART TRAINING')\n",
    "\n",
    "epoch_loss_avg = tf.keras.metrics.Mean()\n",
    "epoch_accuracy = tf.keras.metrics.SparseCategoricalAccuracy()\n",
    "\n",
    "epoch_loss_avg_valid = tf.keras.metrics.Mean()\n",
    "epoch_accuracy_valid = tf.keras.metrics.SparseCategoricalAccuracy()\n",
    "\n",
    "train_loss_results = []\n",
    "train_accuracy_results = []\n",
    "\n",
    "val_loss_results = []\n",
    "val_accuracy_results = []\n",
    "\n",
    "checkpoint_path = save_path + \"cp-{epoch:03d}.ckpt\"\n",
    "\n",
    "tmp = np.inf\n",
    "for epoch in range(1, (num_epochs+1)):\n",
    "\n",
    "    # Training loop\n",
    "    for x, y in dataset:\n",
    "        # Optimize the model\n",
    "        loss_value, grads = grad(net, x, y)\n",
    "        optimizer.apply_gradients(zip(grads, net.trainable_variables[train_layer_ind:]))\n",
    "\n",
    "        # Track progress\n",
    "        epoch_loss_avg.update_state(loss_value)\n",
    "        epoch_accuracy.update_state(y, net(x))\n",
    "\n",
    "    # End epoch\n",
    "    train_loss_results.append(epoch_loss_avg.result())\n",
    "    train_accuracy_results.append(epoch_accuracy.result())\n",
    "\n",
    "    # if epoch % 10 == 0:\n",
    "    print(\"\\nEpoch {:03d}: (Training)   Loss: {:.3f}, Accuracy: {:.3%}\".format(epoch, epoch_loss_avg.result(),\n",
    "                                                                  epoch_accuracy.result()))\n",
    "    \n",
    "    epoch_loss_avg.reset_states()\n",
    "    epoch_accuracy.reset_states()\n",
    "    \n",
    "    # run validation loop\n",
    "    for x_batch_val, y_batch_val in val_dataset:\n",
    "        loss_value, _ = grad(net, x_batch_val, y_batch_val)\n",
    "        epoch_loss_avg_valid.update_state(loss_value)\n",
    "        epoch_accuracy_valid.update_state(y_batch_val, net(x_batch_val))\n",
    "    \n",
    "    # save model if new min for val loss is found\n",
    "    if epoch_loss_avg_valid.result().numpy() < tmp:\n",
    "        tmp = epoch_loss_avg_valid.result().numpy()\n",
    "        net.save_weights(checkpoint_path.format(epoch=epoch))\n",
    "    \n",
    "    val_loss = epoch_loss_avg_valid.result()\n",
    "    val_acc = epoch_accuracy_valid.result()\n",
    "    print(\"           (Validation) Loss: {:.3f}, Accuracy: {:.3%}\".format(val_loss, val_acc))\n",
    "    \n",
    "    epoch_loss_avg_valid.reset_states()\n",
    "    epoch_accuracy_valid.reset_states()\n",
    "    "
   ]
  }
 ],
 "metadata": {
  "kernelspec": {
   "display_name": ".venv_X",
   "language": "python",
   "name": ".venv_x"
  },
  "language_info": {
   "codemirror_mode": {
    "name": "ipython",
    "version": 3
   },
   "file_extension": ".py",
   "mimetype": "text/x-python",
   "name": "python",
   "nbconvert_exporter": "python",
   "pygments_lexer": "ipython3",
   "version": "3.8.2"
  }
 },
 "nbformat": 4,
 "nbformat_minor": 4
}
