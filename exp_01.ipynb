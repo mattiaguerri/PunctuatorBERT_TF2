{
 "cells": [
  {
   "cell_type": "markdown",
   "metadata": {},
   "source": [
    "# Implement Positional Encoding In The Experimantal Model [Script 0]"
   ]
  },
  {
   "cell_type": "markdown",
   "metadata": {},
   "source": [
    "Positional encoding from the script position_encoding_01.ipynb.  \n",
    "Experimental model from the script trainFr_041A.ipynb."
   ]
  },
  {
   "cell_type": "code",
   "execution_count": 1,
   "metadata": {},
   "outputs": [],
   "source": [
    "import os\n",
    "import numpy as np\n",
    "import matplotlib.pyplot as plt\n",
    "\n",
    "from silence_tensorflow import silence_tensorflow\n",
    "silence_tensorflow()  # silence TF warnings\n",
    "import tensorflow as tf\n",
    "\n",
    "from dataProcessing import load_file, insertTarget\n",
    "from transformers import AutoTokenizer, TFCamembertForMaskedLM\n",
    "from datetime import datetime\n",
    "import copy\n",
    "import sys"
   ]
  },
  {
   "cell_type": "code",
   "execution_count": 2,
   "metadata": {},
   "outputs": [],
   "source": [
    "### instantiate the tokenizer\n",
    "tokenizer = AutoTokenizer.from_pretrained(\"jplu/tf-camembert-base\", do_lower_case=True)\n",
    "\n",
    "### punctuation encoder\n",
    "punctuation_enc = {\n",
    "    'SPACE': 0,\n",
    "    'PERIOD': 1,\n",
    "}\n",
    "outputDimension = len(punctuation_enc)\n",
    "\n",
    "### Set Vocabulary Size, Also Specify The BERT Hidden Dimension\n",
    "vocabSize = 32005\n",
    "hiddenDimension = 768\n",
    "\n",
    "### hyper-parameters\n",
    "batchSize = 32\n",
    "sequenceSize = 16\n",
    "learningRate = 1e-5\n",
    "trainLayerIndex = 0\n",
    "numEpo = 5\n",
    "\n",
    "listHyperNames = ['sequenceSize', 'batchSize', 'learningRate', 'trainLayerIndex', 'numEpo']\n",
    "listHyperValues = [str(sequenceSize), str(batchSize), str(learningRate), str(trainLayerIndex), str(numEpo)]\n",
    "time = datetime.now().strftime(\"%Y%m%d_%H%M%S\")\n",
    "save_path = 'ModelsExpScriber/{}/'.format(time)\n",
    "# os.mkdir(save_path)"
   ]
  },
  {
   "cell_type": "code",
   "execution_count": 3,
   "metadata": {},
   "outputs": [],
   "source": [
    "# ### FIRST VERSION\n",
    "\n",
    "# def encodeDataTimeStamp(data, tokenizer, punctuation_enc):\n",
    "#     \"\"\"\n",
    "#     Modified version of encodeData.\n",
    "#     Takes in the dataset made of 4 columns separated by tab.\n",
    "#     The columnds are the following:    word    punctuation    word begin    word end\n",
    "    \n",
    "#     Parameters:\n",
    "#     ----------\n",
    "#     data: list\n",
    "#         List containing the lines of the input file.\n",
    "#     tokenizer: \n",
    "#         The object used to tokenize the words.\n",
    "#     punctuation_enc: dictionary\n",
    "#         Encode name of punctuation (e.g., PERIOD) into integers (e.g., 1).\n",
    "    \n",
    "#     Returns:\n",
    "#     ----------\n",
    "#     X: list\n",
    "#         Contains the tokens_ids.\n",
    "#     Y: list\n",
    "#         Contains the integers encoding the punctuation after each word in X.\n",
    "#     \"\"\"\n",
    "\n",
    "#     X = []\n",
    "#     XTimeStamps = []\n",
    "#     Y = []\n",
    "#     count = -1\n",
    "#     for line in data:\n",
    "#         count += 1\n",
    "#         word, punc, wordBegin, wordEnd = line.split('\\t')\n",
    "#         wordBegin = float(wordBegin)\n",
    "#         wordEnd = float(wordEnd)\n",
    "#         tokens = tokenizer.tokenize(word)\n",
    "#         x = tokenizer.convert_tokens_to_ids(tokens)\n",
    "#         xTimeStamps = [[wordBegin, wordEnd]]\n",
    "#         y = [punctuation_enc[punc]]\n",
    "#         ### note that one word can be encoded in more than one token\n",
    "#         if len(x) > 0:\n",
    "#             if len(x) > 1:\n",
    "#                 y += (len(x)-1) * [0]\n",
    "#                 numTokens = len(x)\n",
    "#                 for i in range(numTokens-1):\n",
    "#                     xTimeStamps.append(xTimeStamps[0])\n",
    "#                 # print(\"Line Index = \", count+1)\n",
    "#             X += x\n",
    "#             XTimeStamps += xTimeStamps\n",
    "#             Y += y\n",
    "#     return X, XTimeStamps, Y"
   ]
  },
  {
   "cell_type": "code",
   "execution_count": 4,
   "metadata": {},
   "outputs": [],
   "source": [
    "## SECOND VERSION\n",
    "\n",
    "def encodeDataTimeStamp(data, tokenizer, punctuation_enc):\n",
    "    XTokensIds = []\n",
    "    XTokensIdsBeg = []  \n",
    "    XTokensIdsEnd = []  \n",
    "    Y = []\n",
    "    count = -1\n",
    "    for line in data:\n",
    "        count += 1\n",
    "        word, punc, wordBeg, wordEnd = line.split(\"\\t\")\n",
    "        tokens = tokenizer.tokenize(word)\n",
    "        tokensIds = tokenizer.convert_tokens_to_ids(tokens)\n",
    "        if len(tokensIds) > 0:\n",
    "            ### note that one word can be encoded in more than one token\n",
    "            if len(tokensIds) > 1:\n",
    "                y = (len(tokensIds)-1) * [0]\n",
    "                numTokens = len(tokensIds)\n",
    "                for i in range(numTokens-1):\n",
    "                    XTokensIdsBeg.append(float(wordBeg))\n",
    "                    XTokensIdsEnd.append(float(wordEnd))\n",
    "                Y += y\n",
    "                # print(\"Line Index = \", count+1)\n",
    "            XTokensIds += tokensIds\n",
    "            XTokensIdsBeg.append(float(wordBeg))\n",
    "            XTokensIdsEnd.append(float(wordEnd))\n",
    "            Y += [punctuation_enc[punc]]\n",
    "    return XTokensIds, XTokensIdsBeg, XTokensIdsEnd, Y"
   ]
  },
  {
   "cell_type": "code",
   "execution_count": 5,
   "metadata": {},
   "outputs": [],
   "source": [
    "def correctTimeStamps(sequenceBegins, sequenceEnds, sequenceSize):\n",
    "    \"\"\"\n",
    "    Apply two corrections to the time stamps:\n",
    "        . wordEnd always larger than nextWordBegin.\n",
    "        . Start time for the sequnce is zero.\n",
    "    \"\"\"\n",
    "\n",
    "    ### CORRECTION 1\n",
    "    ### Apply the correction to the time stamps.\n",
    "    sequenceBeginsCorr = np.asarray(copy.deepcopy(sequenceBegins))\n",
    "    sequenceEndsCorr = np.asarray(copy.deepcopy(sequenceEnds))\n",
    "    for i in range(sequenceSize-1):\n",
    "        wordBegin = sequenceBegins[i]\n",
    "        wordEnd = sequenceEnds[i]\n",
    "        nextWordBegin = sequenceBegins[i+1]\n",
    "        nextWordEnd = sequenceEnds[i+1]\n",
    "        ### i add an additional condition because sometimes wordEnd > nextWordBegin\n",
    "        ### but not beacause of the start of a new sentence.\n",
    "        if wordBegin != nextWordBegin and wordEnd != nextWordEnd:\n",
    "            if wordEnd > nextWordBegin and abs(wordEnd - nextWordBegin) > 0.021:\n",
    "                sequenceBeginsCorr[i+1:] += wordEnd\n",
    "                sequenceEndsCorr[i+1:] += wordEnd\n",
    "#         ### same as before but without the additional condition\n",
    "#         if wordEnd > nextWordBegin:\n",
    "#             sequenceBeginsCorr[i+1:] += wordEnd\n",
    "#             sequenceEndsCorr[i+1:] += wordEnd\n",
    "    ### CORRECTION 2\n",
    "    ### Set beginning of first word in the sentence as time zero.\n",
    "    sequenceBeginsCorr[:] -= sequenceBegins[0]\n",
    "    sequenceEndsCorr[:] -= sequenceBegins[0]\n",
    "\n",
    "    return list(sequenceBeginsCorr), list(sequenceEndsCorr)"
   ]
  },
  {
   "cell_type": "code",
   "execution_count": 6,
   "metadata": {},
   "outputs": [],
   "source": [
    "def insertTargetTimeStamps(x, xBeg, xEnd, sequenceSize):\n",
    "    \n",
    "    X = []\n",
    "    XBeg = []\n",
    "    XEnd = []\n",
    "    x_pad = x[-((sequenceSize-1)//2-1):]+x+x[:sequenceSize//2]\n",
    "    xBeg_pad = xBeg[-((sequenceSize-1)//2-1):]+xBeg+xBeg[:sequenceSize//2]\n",
    "    xEndPad = xEnd[-((sequenceSize-1)//2-1):]+xEnd+xEnd[:sequenceSize//2]\n",
    "\n",
    "    for i in range(len(x_pad)-sequenceSize+2):\n",
    "    # for i in range(1):\n",
    "\n",
    "        ind = (sequenceSize-1)//2\n",
    "\n",
    "        sequence = x_pad[i:i+sequenceSize-1]\n",
    "        sequence.insert(ind, 0)\n",
    "        X.append(sequence)\n",
    "\n",
    "        sequenceBegs = xBeg_pad[i:i+sequenceSize-1]\n",
    "        sequenceEnds = xEndPad[i:i+sequenceSize-1]\n",
    "        \n",
    "        # Apply corrections to the timestamps.\n",
    "        sequenceBegsCorr, sequenceEndsCorr = correctTimeStamps(sequenceBegs, sequenceEnds, len(sequenceEnds))\n",
    "        \n",
    "        val = sequenceBegsCorr[ind-1]\n",
    "        sequenceBegsCorr.insert(ind, val)\n",
    "        \n",
    "        val = sequenceEndsCorr[ind-1]\n",
    "        sequenceEndsCorr.insert(ind, val)\n",
    "\n",
    "        # Collect corrected data.\n",
    "        XBeg.append(sequenceBegsCorr)\n",
    "        XEnd.append(sequenceEndsCorr)\n",
    "\n",
    "    return np.array(X), np.array(XBeg), np.array(XEnd)"
   ]
  },
  {
   "cell_type": "code",
   "execution_count": 7,
   "metadata": {},
   "outputs": [
    {
     "name": "stdout",
     "output_type": "stream",
     "text": [
      "\n",
      "Processing Training Data ... \n",
      "\n",
      "Training Dataset Tensor Shape =  (569, 16, 3)\n"
     ]
    }
   ],
   "source": [
    "### Get Training Dataset\n",
    "print('\\nProcessing Training Data ... ')\n",
    "\n",
    "# load the file\n",
    "trainDataName = 'outFile_03_100.txt'\n",
    "dataTrain = load_file(trainDataName)\n",
    "\n",
    "# encode data and insert target\n",
    "XTrain, XTrainBeg, XTrainEnd, yTrain = encodeDataTimeStamp(dataTrain, tokenizer, punctuation_enc)\n",
    "XTrainMod, XTrainBegMod, XTrainEndMod = insertTargetTimeStamps(XTrain, XTrainBeg, XTrainEnd, sequenceSize)\n",
    "yTrain = np.asarray(yTrain)\n",
    "\n",
    "XTrainAll = np.stack((XTrainMod, XTrainBegMod, XTrainEndMod), axis = 2)\n",
    "\n",
    "### Build The Dataset\n",
    "trainDataset = tf.data.Dataset.from_tensor_slices((XTrainAll, yTrain)).batch(batchSize)\n",
    "\n",
    "print(\"\\nTraining Dataset Tensor Shape = \", XTrainAll.shape)"
   ]
  },
  {
   "cell_type": "code",
   "execution_count": 8,
   "metadata": {},
   "outputs": [
    {
     "name": "stdout",
     "output_type": "stream",
     "text": [
      "(569, 16, 3)\n",
      "(569,)\n"
     ]
    }
   ],
   "source": [
    "print(XTrainAll.shape)\n",
    "print(yTrain.shape)"
   ]
  },
  {
   "cell_type": "code",
   "execution_count": null,
   "metadata": {},
   "outputs": [],
   "source": []
  },
  {
   "cell_type": "code",
   "execution_count": null,
   "metadata": {},
   "outputs": [],
   "source": []
  },
  {
   "cell_type": "code",
   "execution_count": 9,
   "metadata": {},
   "outputs": [
    {
     "name": "stdout",
     "output_type": "stream",
     "text": [
      "['▁-', 'huit', '▁au', '▁trente', '▁donc', '▁là', '▁madame', '▁je', '▁fais', '▁la', '▁demande']\n",
      "[67, 12351, 36, 4823, 145, 241, 10601, 50, 828, 13, 400]\n"
     ]
    }
   ],
   "source": [
    "tokens = tokenizer.tokenize(\"-huit au trente donc là madame je fais la demande\")\n",
    "print(tokens)\n",
    "tokens_ids = tokenizer.convert_tokens_to_ids(tokens)\n",
    "print(tokens_ids)"
   ]
  },
  {
   "cell_type": "code",
   "execution_count": 10,
   "metadata": {},
   "outputs": [
    {
     "name": "stdout",
     "output_type": "stream",
     "text": [
      "(569, 16)\n",
      "(569, 16)\n",
      "(569, 16)\n",
      "(569,)\n"
     ]
    }
   ],
   "source": [
    "print(XTrainMod.shape)\n",
    "print(XTrainBegMod.shape)\n",
    "print(XTrainEndMod.shape)\n",
    "print(yTrain.shape)"
   ]
  },
  {
   "cell_type": "code",
   "execution_count": 11,
   "metadata": {},
   "outputs": [
    {
     "name": "stdout",
     "output_type": "stream",
     "text": [
      "[  53   14   42   75 2576   26 2024    0 3758   86 1122   11   59  604\n",
      "  313   75]\n",
      "[0.   1.33 1.41 1.64 1.92 1.92 1.92 1.92 1.92 2.57 2.72 2.72 2.72 3.1\n",
      " 3.26 3.53]\n",
      "[0.54 1.34 1.58 1.81 2.23 2.23 2.23 2.23 2.23 2.67 3.04 3.04 3.04 3.18\n",
      " 3.47 3.71]\n"
     ]
    }
   ],
   "source": [
    "print(XTrainMod[100, :])\n",
    "print(XTrainBegMod[100, :])\n",
    "print(XTrainEndMod[100, :])"
   ]
  },
  {
   "cell_type": "code",
   "execution_count": null,
   "metadata": {},
   "outputs": [],
   "source": []
  },
  {
   "cell_type": "code",
   "execution_count": null,
   "metadata": {},
   "outputs": [],
   "source": []
  },
  {
   "cell_type": "markdown",
   "metadata": {},
   "source": [
    "### Extraxct A Batch Of Data And Test The Positional Encoding"
   ]
  },
  {
   "cell_type": "code",
   "execution_count": 12,
   "metadata": {},
   "outputs": [],
   "source": [
    "def positionalEncoding(sequence, depth):\n",
    "    \n",
    "    batchSize = sequence.shape[0]\n",
    "    sequenceSize = sequence.shape[1]\n",
    "    \n",
    "    min_rate = 1/10000\n",
    "\n",
    "    assert depth%2 == 0, \"Depth must be even.\"\n",
    "    angle_rate_exponents = np.linspace(0,1,depth//2)\n",
    "    angle_rates = min_rate**(angle_rate_exponents)\n",
    "    \n",
    "    angle_rads = sequence[:, :, np.newaxis]*angle_rates[np.newaxis, np.newaxis, :]\n",
    "\n",
    "    out = np.empty((batchSize, sequenceSize, depth))\n",
    "    for i in range(batchSize):\n",
    "        sines = np.sin(angle_rads[i, :, :])\n",
    "        cosines = np.cos(angle_rads[i, :, :])\n",
    "        arr = np.reshape(np.vstack((sines, cosines)).ravel('F'), (sequenceSize, depth), order='F')\n",
    "        out[i, :, :] = arr\n",
    "    \n",
    "    return out"
   ]
  },
  {
   "cell_type": "code",
   "execution_count": 13,
   "metadata": {},
   "outputs": [
    {
     "name": "stdout",
     "output_type": "stream",
     "text": [
      "(32, 16)\n"
     ]
    }
   ],
   "source": [
    "inputExample, targetExample = next(iter(trainDataset))\n",
    "tokensTensor = tf.cast(inputExample[:, :, 0], dtype=\"int64\")\n",
    "beginsTensor = inputExample[:, :, 1]\n",
    "endsTensor = inputExample[:, :, 2]\n",
    "print(beginsTensor.shape)\n",
    "\n",
    "# # This is just to do a check\n",
    "# positions = np.arange(sequenceSize) \n",
    "# timeStamps = np.tile(positions, (batchSize,1))\n",
    "# print(timeStamps.shape)\n",
    "# beginsTensor = timeStamps\n",
    "\n",
    "# apply positional encoding\n",
    "depth = 512\n",
    "inputBeginsTensor = positionalEncoding(beginsTensor, depth)\n",
    "inputEndsTensor = positionalEncoding(endsTensor, depth)"
   ]
  },
  {
   "cell_type": "code",
   "execution_count": 14,
   "metadata": {},
   "outputs": [
    {
     "name": "stdout",
     "output_type": "stream",
     "text": [
      "tf.Tensor(\n",
      "[0.   0.11 0.11 0.11 0.51 0.57 0.86 0.86 1.1  1.24 1.49 1.64 1.83 1.95\n",
      " 2.27 2.39], shape=(16,), dtype=float64)\n"
     ]
    }
   ],
   "source": [
    "print(beginsTensor[0, :])"
   ]
  },
  {
   "cell_type": "code",
   "execution_count": 15,
   "metadata": {},
   "outputs": [
    {
     "name": "stdout",
     "output_type": "stream",
     "text": [
      "tf.Tensor(\n",
      "[0.   0.43 1.59 3.57 4.4  4.4  4.4  4.4  4.6  4.97 5.2  5.36 5.51 5.65\n",
      " 5.8  6.17], shape=(16,), dtype=float64)\n"
     ]
    }
   ],
   "source": [
    "print(beginsTensor[30, :])"
   ]
  },
  {
   "cell_type": "code",
   "execution_count": 16,
   "metadata": {},
   "outputs": [
    {
     "data": {
      "image/png": "[encoded data removed]",
      "text/plain": [
       "<Figure size 1800x360 with 2 Axes>"
      ]
     },
     "metadata": {
      "needs_background": "light"
     },
     "output_type": "display_data"
    }
   ],
   "source": [
    "plt.figure(figsize=(25,5))\n",
    "plt.pcolormesh(inputBeginsTensor[30, :, :], \n",
    "               # Use a diverging colormap so it's clear where zero is.\n",
    "               cmap='RdBu', vmin=-1, vmax=1)\n",
    "plt.xlim([0,depth])\n",
    "plt.ylabel('Position')\n",
    "plt.xlabel('Depth')\n",
    "plt.colorbar()\n",
    "plt.show()"
   ]
  },
  {
   "cell_type": "code",
   "execution_count": 17,
   "metadata": {},
   "outputs": [
    {
     "name": "stdout",
     "output_type": "stream",
     "text": [
      "tf.Tensor(\n",
      "[0.07 0.37 0.37 0.37 0.52 0.86 1.04 1.04 1.19 1.43 1.52 1.73 1.9  2.28\n",
      " 2.28 2.75], shape=(16,), dtype=float64)\n"
     ]
    }
   ],
   "source": [
    "print(endsTensor[0, ])"
   ]
  },
  {
   "cell_type": "code",
   "execution_count": 18,
   "metadata": {},
   "outputs": [
    {
     "name": "stdout",
     "output_type": "stream",
     "text": [
      "tf.Tensor(\n",
      "[0.29 0.63 2.22 3.68 4.51 4.51 4.51 4.51 4.91 5.15 5.28 5.39 5.61 5.73\n",
      " 6.19 6.19], shape=(16,), dtype=float64)\n"
     ]
    }
   ],
   "source": [
    "print(endsTensor[30, ])"
   ]
  },
  {
   "cell_type": "code",
   "execution_count": 19,
   "metadata": {},
   "outputs": [
    {
     "data": {
      "image/png": "[encoded data removed]",
      "text/plain": [
       "<Figure size 1800x360 with 2 Axes>"
      ]
     },
     "metadata": {
      "needs_background": "light"
     },
     "output_type": "display_data"
    }
   ],
   "source": [
    "plt.figure(figsize=(25,5))\n",
    "plt.pcolormesh(inputEndsTensor[30, :, :], \n",
    "               # Use a diverging colormap so it's clear where zero is.\n",
    "               cmap='RdBu', vmin=-1, vmax=1)\n",
    "plt.xlim([0,depth])\n",
    "plt.ylabel('Position')\n",
    "plt.xlabel('Depth')\n",
    "plt.colorbar()\n",
    "plt.show()"
   ]
  },
  {
   "cell_type": "markdown",
   "metadata": {},
   "source": [
    "### Compute Positioanl Encoding Given By The Concatenation Of Begin And End Time Stamps"
   ]
  },
  {
   "cell_type": "code",
   "execution_count": 20,
   "metadata": {},
   "outputs": [
    {
     "name": "stdout",
     "output_type": "stream",
     "text": [
      "(32, 16, 768)\n"
     ]
    }
   ],
   "source": [
    "inputExample = next(iter(trainDataset))\n",
    "tokensTensor = tf.cast(inputExample[0][:, :, 0], dtype=\"int64\")\n",
    "beginsTensor = inputExample[0][:, :, 1]\n",
    "endsTensor = inputExample[0][:, :, 2]\n",
    "\n",
    "depth = 384\n",
    "inputBeginsTensor = positionalEncoding(beginsTensor, depth)\n",
    "inputEndsTensor = positionalEncoding(endsTensor, depth)\n",
    "inputPosTensor = np.concatenate((inputBeginsTensor, inputEndsTensor), axis=2)\n",
    "print(inputPosTensor.shape)"
   ]
  },
  {
   "cell_type": "code",
   "execution_count": 21,
   "metadata": {},
   "outputs": [
    {
     "data": {
      "image/png": "[encoded data removed]",
      "text/plain": [
       "<Figure size 1800x360 with 2 Axes>"
      ]
     },
     "metadata": {
      "needs_background": "light"
     },
     "output_type": "display_data"
    }
   ],
   "source": [
    "plt.figure(figsize=(25,5))\n",
    "plt.pcolormesh(inputPosTensor[30, :, :], \n",
    "               # Use a diverging colormap so it's clear where zero is.\n",
    "               cmap='RdBu', vmin=-1, vmax=1)\n",
    "plt.xlim([0, inputPosTensor.shape[2]])\n",
    "plt.ylabel('Position')\n",
    "plt.xlabel('Depth')\n",
    "plt.colorbar()\n",
    "plt.show()"
   ]
  },
  {
   "cell_type": "markdown",
   "metadata": {},
   "source": [
    "### Build The Experimental Model And Test It"
   ]
  },
  {
   "cell_type": "code",
   "execution_count": 22,
   "metadata": {},
   "outputs": [
    {
     "name": "stdout",
     "output_type": "stream",
     "text": [
      "\n",
      "Bulding the Model ... \n"
     ]
    }
   ],
   "source": [
    "### Build The Experimental Model\n",
    "print('\\nBulding the Model ... ')\n",
    "\n",
    "inpA = tf.keras.Input(shape=(sequenceSize), dtype='int32')\n",
    "inpB = tf.keras.Input(shape=(sequenceSize, hiddenDimension), batch_size=batchSize, dtype='float32')\n",
    "x = TFCamembertForMaskedLM.from_pretrained(\"jplu/tf-camembert-base\")(inpA, custom_embeds=inpB)[0]\n",
    "x = tf.keras.layers.Reshape((sequenceSize*vocabSize,))(x)\n",
    "out = tf.keras.layers.Dense(len(punctuation_enc))(x)\n",
    "\n",
    "model = tf.keras.Model(inputs=[inpA, inpB], outputs=[out])\n",
    "\n",
    "# define the loss\n",
    "loss_object = tf.keras.losses.SparseCategoricalCrossentropy(from_logits=True)\n",
    "def loss(model, x, custom_embeds, y):\n",
    "    y_ = model([x, custom_embeds])\n",
    "    return loss_object(y_true=y, y_pred=y_)\n",
    "\n",
    "# func to calculate the gradients\n",
    "def grad(model, inputs, custom_embeds, targets, trainLayerIndex):\n",
    "    with tf.GradientTape() as tape:\n",
    "        loss_value = loss(model, inputs, custom_embeds, targets)\n",
    "    return loss_value, tape.gradient(loss_value, model.trainable_variables[trainLayerIndex:])\n",
    "\n",
    "# define the optimizer\n",
    "optimizer = tf.keras.optimizers.Adam(learning_rate=learningRate)"
   ]
  },
  {
   "cell_type": "code",
   "execution_count": 23,
   "metadata": {},
   "outputs": [
    {
     "name": "stdout",
     "output_type": "stream",
     "text": [
      "<class 'tensorflow.python.framework.ops.EagerTensor'>\n",
      "(32, 16)\n",
      "\n",
      "<class 'tensorflow.python.framework.ops.EagerTensor'>\n",
      "(32, 16, 768)\n",
      "\n",
      "<class 'tensorflow.python.framework.ops.EagerTensor'>\n",
      "(32, 2)\n"
     ]
    }
   ],
   "source": [
    "## Take The Model For A Spin\n",
    "\n",
    "inputExample = next(iter(trainDataset))\n",
    "tokensTensor = tf.cast(inputExample[0][:, :, 0], dtype=\"int64\")\n",
    "beginsTensor = inputExample[0][:, :, 1]\n",
    "endsTensor = inputExample[0][:, :, 2]\n",
    "\n",
    "# get positional encoding tensor for time stamps\n",
    "depth = hiddenDimension//2\n",
    "inputBeginsTensor = positionalEncoding(beginsTensor, depth)\n",
    "inputEndsTensor = positionalEncoding(endsTensor, depth)\n",
    "inputPosTensor = tf.convert_to_tensor(np.concatenate((inputBeginsTensor, inputEndsTensor), axis=2))\n",
    "\n",
    "print(type(tokensTensor))\n",
    "print(tokensTensor.shape)\n",
    "print(\"\")\n",
    "print(type(inputPosTensor))\n",
    "print(inputPosTensor.shape)\n",
    "\n",
    "output = model([tokensTensor, inputPosTensor])\n",
    "\n",
    "print(\"\")\n",
    "print(type(output))\n",
    "print(output.shape)"
   ]
  },
  {
   "cell_type": "markdown",
   "metadata": {},
   "source": [
    "### Training Loop"
   ]
  },
  {
   "cell_type": "code",
   "execution_count": 24,
   "metadata": {},
   "outputs": [
    {
     "name": "stdout",
     "output_type": "stream",
     "text": [
      "\n",
      "Experiment Folder:  20200711_184557\n",
      "\n",
      "Hyperparameters:\n",
      "vocabSize =  32005\n",
      "sequenceSize =  16\n",
      "batchSize =  32\n",
      "leaRat =  1e-05\n",
      "Train Layer Index =  0\n",
      "numEpo =  5\n",
      "\n",
      "Training the Model ... \n"
     ]
    },
    {
     "ename": "InvalidArgumentError",
     "evalue": "Index out of range using input dim 2; input has only 2 dims [Op:StridedSlice] name: strided_slice/",
     "output_type": "error",
     "traceback": [
      "\u001b[0;31m---------------------------------------------------------------------------\u001b[0m",
      "\u001b[0;31mInvalidArgumentError\u001b[0m                      Traceback (most recent call last)",
      "\u001b[0;32m<ipython-input-24-566540e55f01>\u001b[0m in \u001b[0;36m<module>\u001b[0;34m\u001b[0m\n\u001b[1;32m     22\u001b[0m     \u001b[0;32mfor\u001b[0m \u001b[0mx\u001b[0m\u001b[0;34m,\u001b[0m \u001b[0my\u001b[0m \u001b[0;32min\u001b[0m \u001b[0mtrainDataset\u001b[0m\u001b[0;34m:\u001b[0m\u001b[0;34m\u001b[0m\u001b[0;34m\u001b[0m\u001b[0m\n\u001b[1;32m     23\u001b[0m \u001b[0;34m\u001b[0m\u001b[0m\n\u001b[0;32m---> 24\u001b[0;31m         \u001b[0mtokensTensor\u001b[0m \u001b[0;34m=\u001b[0m \u001b[0mtf\u001b[0m\u001b[0;34m.\u001b[0m\u001b[0mcast\u001b[0m\u001b[0;34m(\u001b[0m\u001b[0mx\u001b[0m\u001b[0;34m[\u001b[0m\u001b[0;36m0\u001b[0m\u001b[0;34m]\u001b[0m\u001b[0;34m[\u001b[0m\u001b[0;34m:\u001b[0m\u001b[0;34m,\u001b[0m \u001b[0;34m:\u001b[0m\u001b[0;34m,\u001b[0m \u001b[0;36m0\u001b[0m\u001b[0;34m]\u001b[0m\u001b[0;34m,\u001b[0m \u001b[0mdtype\u001b[0m\u001b[0;34m=\u001b[0m\u001b[0;34m\"int64\"\u001b[0m\u001b[0;34m)\u001b[0m\u001b[0;34m\u001b[0m\u001b[0;34m\u001b[0m\u001b[0m\n\u001b[0m\u001b[1;32m     25\u001b[0m         \u001b[0mbeginsTensor\u001b[0m \u001b[0;34m=\u001b[0m \u001b[0mx\u001b[0m\u001b[0;34m[\u001b[0m\u001b[0;36m0\u001b[0m\u001b[0;34m]\u001b[0m\u001b[0;34m[\u001b[0m\u001b[0;34m:\u001b[0m\u001b[0;34m,\u001b[0m \u001b[0;34m:\u001b[0m\u001b[0;34m,\u001b[0m \u001b[0;36m1\u001b[0m\u001b[0;34m]\u001b[0m\u001b[0;34m\u001b[0m\u001b[0;34m\u001b[0m\u001b[0m\n\u001b[1;32m     26\u001b[0m         \u001b[0mendsTensor\u001b[0m \u001b[0;34m=\u001b[0m \u001b[0mx\u001b[0m\u001b[0;34m[\u001b[0m\u001b[0;36m0\u001b[0m\u001b[0;34m]\u001b[0m\u001b[0;34m[\u001b[0m\u001b[0;34m:\u001b[0m\u001b[0;34m,\u001b[0m \u001b[0;34m:\u001b[0m\u001b[0;34m,\u001b[0m \u001b[0;36m2\u001b[0m\u001b[0;34m]\u001b[0m\u001b[0;34m\u001b[0m\u001b[0;34m\u001b[0m\u001b[0m\n",
      "\u001b[0;32m~/Documents/.venvTrans/lib/python3.8/site-packages/tensorflow/python/ops/array_ops.py\u001b[0m in \u001b[0;36m_slice_helper\u001b[0;34m(tensor, slice_spec, var)\u001b[0m\n\u001b[1;32m    971\u001b[0m       \u001b[0mvar_empty\u001b[0m \u001b[0;34m=\u001b[0m \u001b[0mconstant\u001b[0m\u001b[0;34m(\u001b[0m\u001b[0;34m[\u001b[0m\u001b[0;34m]\u001b[0m\u001b[0;34m,\u001b[0m \u001b[0mdtype\u001b[0m\u001b[0;34m=\u001b[0m\u001b[0mdtypes\u001b[0m\u001b[0;34m.\u001b[0m\u001b[0mint32\u001b[0m\u001b[0;34m)\u001b[0m\u001b[0;34m\u001b[0m\u001b[0;34m\u001b[0m\u001b[0m\n\u001b[1;32m    972\u001b[0m       \u001b[0mpacked_begin\u001b[0m \u001b[0;34m=\u001b[0m \u001b[0mpacked_end\u001b[0m \u001b[0;34m=\u001b[0m \u001b[0mpacked_strides\u001b[0m \u001b[0;34m=\u001b[0m \u001b[0mvar_empty\u001b[0m\u001b[0;34m\u001b[0m\u001b[0;34m\u001b[0m\u001b[0m\n\u001b[0;32m--> 973\u001b[0;31m     return strided_slice(\n\u001b[0m\u001b[1;32m    974\u001b[0m         \u001b[0mtensor\u001b[0m\u001b[0;34m,\u001b[0m\u001b[0;34m\u001b[0m\u001b[0;34m\u001b[0m\u001b[0m\n\u001b[1;32m    975\u001b[0m         \u001b[0mpacked_begin\u001b[0m\u001b[0;34m,\u001b[0m\u001b[0;34m\u001b[0m\u001b[0;34m\u001b[0m\u001b[0m\n",
      "\u001b[0;32m~/Documents/.venvTrans/lib/python3.8/site-packages/tensorflow/python/ops/array_ops.py\u001b[0m in \u001b[0;36mstrided_slice\u001b[0;34m(input_, begin, end, strides, begin_mask, end_mask, ellipsis_mask, new_axis_mask, shrink_axis_mask, var, name)\u001b[0m\n\u001b[1;32m   1138\u001b[0m     \u001b[0mstrides\u001b[0m \u001b[0;34m=\u001b[0m \u001b[0mones_like\u001b[0m\u001b[0;34m(\u001b[0m\u001b[0mbegin\u001b[0m\u001b[0;34m)\u001b[0m\u001b[0;34m\u001b[0m\u001b[0;34m\u001b[0m\u001b[0m\n\u001b[1;32m   1139\u001b[0m \u001b[0;34m\u001b[0m\u001b[0m\n\u001b[0;32m-> 1140\u001b[0;31m   op = gen_array_ops.strided_slice(\n\u001b[0m\u001b[1;32m   1141\u001b[0m       \u001b[0minput\u001b[0m\u001b[0;34m=\u001b[0m\u001b[0minput_\u001b[0m\u001b[0;34m,\u001b[0m\u001b[0;34m\u001b[0m\u001b[0;34m\u001b[0m\u001b[0m\n\u001b[1;32m   1142\u001b[0m       \u001b[0mbegin\u001b[0m\u001b[0;34m=\u001b[0m\u001b[0mbegin\u001b[0m\u001b[0;34m,\u001b[0m\u001b[0;34m\u001b[0m\u001b[0;34m\u001b[0m\u001b[0m\n",
      "\u001b[0;32m~/Documents/.venvTrans/lib/python3.8/site-packages/tensorflow/python/ops/gen_array_ops.py\u001b[0m in \u001b[0;36mstrided_slice\u001b[0;34m(input, begin, end, strides, begin_mask, end_mask, ellipsis_mask, new_axis_mask, shrink_axis_mask, name)\u001b[0m\n\u001b[1;32m  10155\u001b[0m         \u001b[0;32mpass\u001b[0m  \u001b[0;31m# Add nodes to the TensorFlow graph.\u001b[0m\u001b[0;34m\u001b[0m\u001b[0;34m\u001b[0m\u001b[0m\n\u001b[1;32m  10156\u001b[0m     \u001b[0;32mexcept\u001b[0m \u001b[0m_core\u001b[0m\u001b[0;34m.\u001b[0m\u001b[0m_NotOkStatusException\u001b[0m \u001b[0;32mas\u001b[0m \u001b[0me\u001b[0m\u001b[0;34m:\u001b[0m\u001b[0;34m\u001b[0m\u001b[0;34m\u001b[0m\u001b[0m\n\u001b[0;32m> 10157\u001b[0;31m       \u001b[0m_ops\u001b[0m\u001b[0;34m.\u001b[0m\u001b[0mraise_from_not_ok_status\u001b[0m\u001b[0;34m(\u001b[0m\u001b[0me\u001b[0m\u001b[0;34m,\u001b[0m \u001b[0mname\u001b[0m\u001b[0;34m)\u001b[0m\u001b[0;34m\u001b[0m\u001b[0;34m\u001b[0m\u001b[0m\n\u001b[0m\u001b[1;32m  10158\u001b[0m   \u001b[0;31m# Add nodes to the TensorFlow graph.\u001b[0m\u001b[0;34m\u001b[0m\u001b[0;34m\u001b[0m\u001b[0;34m\u001b[0m\u001b[0m\n\u001b[1;32m  10159\u001b[0m   \u001b[0;32mif\u001b[0m \u001b[0mbegin_mask\u001b[0m \u001b[0;32mis\u001b[0m \u001b[0;32mNone\u001b[0m\u001b[0;34m:\u001b[0m\u001b[0;34m\u001b[0m\u001b[0;34m\u001b[0m\u001b[0m\n",
      "\u001b[0;32m~/Documents/.venvTrans/lib/python3.8/site-packages/tensorflow/python/framework/ops.py\u001b[0m in \u001b[0;36mraise_from_not_ok_status\u001b[0;34m(e, name)\u001b[0m\n\u001b[1;32m   6651\u001b[0m   \u001b[0mmessage\u001b[0m \u001b[0;34m=\u001b[0m \u001b[0me\u001b[0m\u001b[0;34m.\u001b[0m\u001b[0mmessage\u001b[0m \u001b[0;34m+\u001b[0m \u001b[0;34m(\u001b[0m\u001b[0;34m\" name: \"\u001b[0m \u001b[0;34m+\u001b[0m \u001b[0mname\u001b[0m \u001b[0;32mif\u001b[0m \u001b[0mname\u001b[0m \u001b[0;32mis\u001b[0m \u001b[0;32mnot\u001b[0m \u001b[0;32mNone\u001b[0m \u001b[0;32melse\u001b[0m \u001b[0;34m\"\"\u001b[0m\u001b[0;34m)\u001b[0m\u001b[0;34m\u001b[0m\u001b[0;34m\u001b[0m\u001b[0m\n\u001b[1;32m   6652\u001b[0m   \u001b[0;31m# pylint: disable=protected-access\u001b[0m\u001b[0;34m\u001b[0m\u001b[0;34m\u001b[0m\u001b[0;34m\u001b[0m\u001b[0m\n\u001b[0;32m-> 6653\u001b[0;31m   \u001b[0msix\u001b[0m\u001b[0;34m.\u001b[0m\u001b[0mraise_from\u001b[0m\u001b[0;34m(\u001b[0m\u001b[0mcore\u001b[0m\u001b[0;34m.\u001b[0m\u001b[0m_status_to_exception\u001b[0m\u001b[0;34m(\u001b[0m\u001b[0me\u001b[0m\u001b[0;34m.\u001b[0m\u001b[0mcode\u001b[0m\u001b[0;34m,\u001b[0m \u001b[0mmessage\u001b[0m\u001b[0;34m)\u001b[0m\u001b[0;34m,\u001b[0m \u001b[0;32mNone\u001b[0m\u001b[0;34m)\u001b[0m\u001b[0;34m\u001b[0m\u001b[0;34m\u001b[0m\u001b[0m\n\u001b[0m\u001b[1;32m   6654\u001b[0m   \u001b[0;31m# pylint: enable=protected-access\u001b[0m\u001b[0;34m\u001b[0m\u001b[0;34m\u001b[0m\u001b[0;34m\u001b[0m\u001b[0m\n\u001b[1;32m   6655\u001b[0m \u001b[0;34m\u001b[0m\u001b[0m\n",
      "\u001b[0;32m~/Documents/.venvTrans/lib/python3.8/site-packages/six.py\u001b[0m in \u001b[0;36mraise_from\u001b[0;34m(value, from_value)\u001b[0m\n",
      "\u001b[0;31mInvalidArgumentError\u001b[0m: Index out of range using input dim 2; input has only 2 dims [Op:StridedSlice] name: strided_slice/"
     ]
    }
   ],
   "source": [
    "print(\"\\nExperiment Folder: \", time)\n",
    "print(\"\\nHyperparameters:\")\n",
    "print('vocabSize = ', vocabSize)\n",
    "print('sequenceSize = ', sequenceSize)\n",
    "print('batchSize = ', batchSize)\n",
    "print('leaRat = ', learningRate)\n",
    "print('Train Layer Index = ', trainLayerIndex)\n",
    "print('numEpo = ', numEpo)\n",
    "\n",
    "epoch_loss_avg = tf.keras.metrics.Mean()\n",
    "epoch_accuracy = tf.keras.metrics.SparseCategoricalAccuracy()\n",
    "\n",
    "train_loss_results = []\n",
    "train_accuracy_results = []\n",
    "\n",
    "checkpoint_path = save_path + \"cp-{epoch:03d}.ckpt\"\n",
    "\n",
    "print(\"\\nTraining the Model ... \")\n",
    "for epoch in range(1, numEpo+1):\n",
    "\n",
    "    # training loop\n",
    "    for x, y in trainDataset:\n",
    "        \n",
    "        tokensTensor = tf.cast(x[0][:, :, 0], dtype=\"int64\")\n",
    "        beginsTensor = x[0][:, :, 1]\n",
    "        endsTensor = x[0][:, :, 2]\n",
    "\n",
    "        # get positional encoding tensor for time stamps\n",
    "        depth = hiddenDimension//2\n",
    "        inputBeginsTensor = positionalEncoding(beginsTensor, depth)\n",
    "        inputEndsTensor = positionalEncoding(endsTensor, depth)\n",
    "        inputPosTensor = tf.convert_to_tensor(np.concatenate((inputBeginsTensor, inputEndsTensor), axis=2))\n",
    "\n",
    "        # optimize the model\n",
    "        loss_value, grads = grad(model, tokensTensor, inputPosTensor, y, trainLayerIndex)\n",
    "        optimizer.apply_gradients(zip(grads, model.trainable_variables[trainLayerIndex:]))\n",
    "\n",
    "        # track progress\n",
    "        epoch_loss_avg.update_state(loss_value)\n",
    "        epoch_accuracy.update_state(y, model([tokensTensor, inputPosTensor]))\n",
    "\n",
    "    # end epoch\n",
    "    train_loss_results.append(epoch_loss_avg.result())\n",
    "    train_accuracy_results.append(epoch_accuracy.result())\n",
    "\n",
    "    print(\"\\nEpoch {:03d}: (Training)   Loss: {:.3f}, Accuracy: {:.3%}\".format(epoch, epoch_loss_avg.result(), epoch_accuracy.result()))\n",
    "\n",
    "    # # save model if new min for train loss is found\n",
    "    tmpTrain = epoch_loss_avg.result().numpy()\n",
    "    model.save_weights(checkpoint_path.format(epoch=epoch))\n",
    "\n",
    "    epoch_loss_avg.reset_states()\n",
    "    epoch_accuracy.reset_states()"
   ]
  }
 ],
 "metadata": {
  "kernelspec": {
   "display_name": "venvTrans",
   "language": "python",
   "name": "venvtrans"
  },
  "language_info": {
   "codemirror_mode": {
    "name": "ipython",
    "version": 3
   },
   "file_extension": ".py",
   "mimetype": "text/x-python",
   "name": "python",
   "nbconvert_exporter": "python",
   "pygments_lexer": "ipython3",
   "version": "3.8.2"
  }
 },
 "nbformat": 4,
 "nbformat_minor": 4
}
