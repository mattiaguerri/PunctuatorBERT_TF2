{
 "cells": [
  {
   "cell_type": "markdown",
   "metadata": {},
   "source": [
    "# Notebook version of trainDevCPU.py"
   ]
  },
  {
   "cell_type": "markdown",
   "metadata": {},
   "source": [
    "### Train top layer only."
   ]
  },
  {
   "cell_type": "markdown",
   "metadata": {},
   "source": [
    "### Here i build the model subclassing tf.keras.Model."
   ]
  },
  {
   "cell_type": "code",
   "execution_count": 1,
   "metadata": {},
   "outputs": [],
   "source": [
    "import numpy as np\n",
    "import tensorflow as tf\n",
    "\n",
    "from data import load_file, process_data, create_data_loader, preProcessingIWSLT12\n",
    "\n",
    "from transformers import BertTokenizer\n",
    "from transformers import TFBertForMaskedLM\n",
    "\n",
    "from model import create_model\n",
    "\n",
    "from datetime import datetime\n",
    "import os\n",
    "import json\n",
    "\n",
    "import sys"
   ]
  },
  {
   "cell_type": "code",
   "execution_count": 2,
   "metadata": {},
   "outputs": [],
   "source": [
    "# punctuation_enc = {\n",
    "#     'O': 0,\n",
    "#     'PERIOD': 1,\n",
    "# }\n",
    "\n",
    "punctuation_enc = {\n",
    "    'O': 0,\n",
    "    'COMMA': 1,\n",
    "    'PERIOD': 2,\n",
    "    'QUESTION': 3\n",
    "}"
   ]
  },
  {
   "cell_type": "code",
   "execution_count": 3,
   "metadata": {},
   "outputs": [],
   "source": [
    "vocabSize = 30522\n",
    "segment_size = 32\n",
    "hyperparameters = {\n",
    "    'vocabSize': vocabSize,\n",
    "    'segment_size': segment_size,\n",
    "}"
   ]
  },
  {
   "cell_type": "code",
   "execution_count": 4,
   "metadata": {},
   "outputs": [
    {
     "name": "stdout",
     "output_type": "stream",
     "text": [
      "\n",
      " DataIWSLT12/extractTrain_01.txt\n",
      "./Data/trainSet_02.txt \n",
      "\n",
      "\n",
      " DataIWSLT12/extractValid_01.txt\n",
      "./Data/validSet_02.txt \n",
      "\n",
      "\n",
      " DataIWSLT12/extractTest_01.txt\n",
      "./Data/testSet_02.txt \n",
      "\n"
     ]
    }
   ],
   "source": [
    "save_path = 'ModelsExp/{}/'.format(datetime.now().strftime(\"%Y%m%d_%H%M%S\"))\n",
    "os.mkdir(save_path)\n",
    "with open(save_path + 'hyperparameters.json', 'w') as f:\n",
    "    json.dump(hyperparameters, f)\n",
    "\n",
    "# name of data with the sentences\n",
    "data_name = \"IWSLT12\"\n",
    "trainSet_01 = 'Data' + data_name + '/extractTrain_01.txt'\n",
    "validSet_01 = 'Data' + data_name + '/extractValid_01.txt'\n",
    "testSet_01 = 'Data' + data_name + '/extractTest_01.txt'\n",
    "\n",
    "# from sentences to list of words+punctuation\n",
    "preProcessingIWSLT12(trainSet_01)\n",
    "preProcessingIWSLT12(validSet_01)\n",
    "preProcessingIWSLT12(testSet_01)\n",
    "\n",
    "data_train = load_file('./Data/trainSet_02.txt')\n",
    "data_valid = load_file('./Data/validSet_02.txt')\n",
    "data_test = load_file('./Data/testSet_02.txt')\n",
    "\n",
    "data_train = load_file('./Data/trainSet_02.txt')\n",
    "data_valid = load_file('./Data/validSet_02.txt')\n",
    "data_test = load_file('./Data/testSet_02.txt')\n",
    "\n",
    "tokenizer = BertTokenizer.from_pretrained('bert-base-uncased', do_lower_case=True)\n",
    "\n",
    "X_train, y_train = process_data(data_train, tokenizer, punctuation_enc, segment_size)\n",
    "y_train = np.asarray(y_train)\n",
    "X_valid, y_valid = process_data(data_valid, tokenizer, punctuation_enc, segment_size)\n",
    "y_valid = np.asarray(y_valid)"
   ]
  },
  {
   "cell_type": "code",
   "execution_count": null,
   "metadata": {},
   "outputs": [],
   "source": []
  },
  {
   "cell_type": "code",
   "execution_count": null,
   "metadata": {},
   "outputs": [],
   "source": []
  },
  {
   "cell_type": "markdown",
   "metadata": {},
   "source": [
    "### Build the dataset"
   ]
  },
  {
   "cell_type": "code",
   "execution_count": 5,
   "metadata": {},
   "outputs": [
    {
     "name": "stdout",
     "output_type": "stream",
     "text": [
      "<class 'numpy.ndarray'>\n",
      "<class 'numpy.ndarray'>\n"
     ]
    }
   ],
   "source": [
    "print(type(X_train))\n",
    "print(type(y_train))"
   ]
  },
  {
   "cell_type": "code",
   "execution_count": 6,
   "metadata": {},
   "outputs": [],
   "source": [
    "n = 500\n",
    "extract_X = X_train[0:n]\n",
    "extract_y = y_train[0:n]"
   ]
  },
  {
   "cell_type": "code",
   "execution_count": 7,
   "metadata": {},
   "outputs": [],
   "source": [
    "batch_size = 10\n",
    "dataset = tf.data.Dataset.from_tensor_slices((extract_X, extract_y))\n",
    "dataset = dataset.batch(batch_size)"
   ]
  },
  {
   "cell_type": "code",
   "execution_count": 8,
   "metadata": {},
   "outputs": [
    {
     "name": "stdout",
     "output_type": "stream",
     "text": [
      "<class 'tensorflow.python.framework.ops.EagerTensor'>\n",
      "<class 'tensorflow.python.framework.ops.EagerTensor'>\n"
     ]
    }
   ],
   "source": [
    "features, labels = next(iter(dataset))\n",
    "print(type(features))\n",
    "print(type(labels))"
   ]
  },
  {
   "cell_type": "code",
   "execution_count": 9,
   "metadata": {},
   "outputs": [
    {
     "name": "stdout",
     "output_type": "stream",
     "text": [
      "tf.Tensor([0 0 0 0 0 0 1 0 2 0], shape=(10,), dtype=int64)\n"
     ]
    }
   ],
   "source": [
    "# print(features)\n",
    "print(labels)"
   ]
  },
  {
   "cell_type": "code",
   "execution_count": null,
   "metadata": {},
   "outputs": [],
   "source": []
  },
  {
   "cell_type": "code",
   "execution_count": null,
   "metadata": {},
   "outputs": [],
   "source": []
  },
  {
   "cell_type": "markdown",
   "metadata": {},
   "source": [
    "### Build the model"
   ]
  },
  {
   "cell_type": "code",
   "execution_count": 31,
   "metadata": {},
   "outputs": [],
   "source": [
    "class Net(tf.keras.Model):\n",
    "    def __init__(self, batch_size, seq_len, vocab_size):\n",
    "        super(Net, self).__init__(name='')\n",
    "        \n",
    "        self.batch_size = batch_size\n",
    "        self.seq_len = seq_len\n",
    "        self.vocab_size = vocab_size\n",
    "        \n",
    "        self.bert = TFBertForMaskedLM.from_pretrained('bert-base-uncased')\n",
    "        \n",
    "        self.fc = tf.keras.layers.Dense(4, input_shape=(batch_size, seq_len*vocab_size))\n",
    "\n",
    "    def call(self, input_tensor):\n",
    "        x = self.bert(input_tensor, training=True)\n",
    "        print(x[0].shape)\n",
    "        x = tf.reshape(x, [self.batch_size, self.seq_len*self.vocab_size])\n",
    "        x = self.fc(x)\n",
    "        return x"
   ]
  },
  {
   "cell_type": "code",
   "execution_count": 32,
   "metadata": {},
   "outputs": [],
   "source": [
    "net = Net(batch_size, segment_size, vocabSize)"
   ]
  },
  {
   "cell_type": "code",
   "execution_count": 33,
   "metadata": {},
   "outputs": [
    {
     "name": "stdout",
     "output_type": "stream",
     "text": [
      "(10, 32, 30522)\n"
     ]
    }
   ],
   "source": [
    "_ = net(features)"
   ]
  },
  {
   "cell_type": "code",
   "execution_count": 13,
   "metadata": {},
   "outputs": [
    {
     "data": {
      "text/plain": [
       "[<transformers.modeling_tf_bert.TFBertForMaskedLM at 0x7f8d5552ca58>,\n",
       " <tensorflow.python.keras.layers.core.Dense at 0x7f8d26c51b00>]"
      ]
     },
     "execution_count": 13,
     "metadata": {},
     "output_type": "execute_result"
    }
   ],
   "source": [
    "net.layers"
   ]
  },
  {
   "cell_type": "code",
   "execution_count": 14,
   "metadata": {},
   "outputs": [
    {
     "name": "stdout",
     "output_type": "stream",
     "text": [
      "Model: \"net\"\n",
      "_________________________________________________________________\n",
      "Layer (type)                 Output Shape              Param #   \n",
      "=================================================================\n",
      "tf_bert_for_masked_lm (TFBer multiple                  110104890 \n",
      "_________________________________________________________________\n",
      "dense (Dense)                multiple                  3906820   \n",
      "=================================================================\n",
      "Total params: 114,011,710\n",
      "Trainable params: 114,011,710\n",
      "Non-trainable params: 0\n",
      "_________________________________________________________________\n"
     ]
    }
   ],
   "source": [
    "net.summary()"
   ]
  },
  {
   "cell_type": "code",
   "execution_count": 15,
   "metadata": {},
   "outputs": [
    {
     "data": {
      "text/plain": [
       "<tf.Tensor: shape=(10, 4), dtype=float32, numpy=\n",
       "array([[ 10.464052  , -12.27082   ,  13.346556  ,  -0.05023968],\n",
       "       [  9.75308   , -10.639599  ,   9.911876  ,  -0.16702998],\n",
       "       [ 11.995771  , -14.750938  ,   9.593618  ,  -2.136959  ],\n",
       "       [ 10.550203  , -15.708291  ,   8.194323  ,   0.08550262],\n",
       "       [ 11.888552  , -20.627415  ,   7.646623  ,  -1.5823073 ],\n",
       "       [ 14.047412  , -12.336725  ,   7.2199364 ,   3.2125573 ],\n",
       "       [ 17.28332   , -23.989868  ,  18.419563  ,  -4.6605606 ],\n",
       "       [ 17.179642  , -14.277695  ,  13.825856  ,   0.26626062],\n",
       "       [ 19.529808  , -12.042462  ,  15.665365  ,   3.2228506 ],\n",
       "       [ 13.798541  , -11.453684  ,  11.463007  ,   4.3430157 ]],\n",
       "      dtype=float32)>"
      ]
     },
     "execution_count": 15,
     "metadata": {},
     "output_type": "execute_result"
    }
   ],
   "source": [
    "predictions = net(features)\n",
    "predictions"
   ]
  },
  {
   "cell_type": "code",
   "execution_count": 16,
   "metadata": {},
   "outputs": [
    {
     "name": "stdout",
     "output_type": "stream",
     "text": [
      "Predictions: [2 2 0 0 0 0 2 0 0 0]\n",
      "     Labels: [0 0 0 0 0 0 1 0 2 0]\n"
     ]
    }
   ],
   "source": [
    "print(\"Predictions: {}\".format(tf.argmax(predictions, axis=1)))\n",
    "print(\"     Labels: {}\".format(format(labels)))"
   ]
  },
  {
   "cell_type": "code",
   "execution_count": 17,
   "metadata": {},
   "outputs": [
    {
     "data": {
      "text/plain": [
       "[<tf.Variable 'net/dense/kernel:0' shape=(976704, 4) dtype=float32, numpy=\n",
       " array([[-2.4186999e-03, -1.1278793e-03,  2.2022489e-03, -2.4038523e-03],\n",
       "        [ 1.9848414e-03,  1.6164549e-03, -1.4262747e-03,  2.6060734e-06],\n",
       "        [ 1.3509255e-03, -6.3346361e-04,  4.6733883e-04,  1.8077495e-03],\n",
       "        ...,\n",
       "        [-1.3718824e-04, -1.8718455e-03, -2.0450184e-03,  7.7539706e-04],\n",
       "        [ 5.7303905e-04,  3.6306819e-04, -1.1696017e-03, -2.4765369e-03],\n",
       "        [ 2.1789223e-05,  1.0442727e-03, -4.4828560e-04, -1.3605134e-03]],\n",
       "       dtype=float32)>,\n",
       " <tf.Variable 'net/dense/bias:0' shape=(4,) dtype=float32, numpy=array([0., 0., 0., 0.], dtype=float32)>]"
      ]
     },
     "execution_count": 17,
     "metadata": {},
     "output_type": "execute_result"
    }
   ],
   "source": [
    "net.trainable_variables[-2:]"
   ]
  },
  {
   "cell_type": "code",
   "execution_count": null,
   "metadata": {},
   "outputs": [],
   "source": []
  },
  {
   "cell_type": "code",
   "execution_count": null,
   "metadata": {},
   "outputs": [],
   "source": []
  },
  {
   "cell_type": "markdown",
   "metadata": {},
   "source": [
    "### Train the model"
   ]
  },
  {
   "cell_type": "code",
   "execution_count": 18,
   "metadata": {},
   "outputs": [],
   "source": [
    "# define the loss\n",
    "loss_object = tf.keras.losses.SparseCategoricalCrossentropy(from_logits=True)"
   ]
  },
  {
   "cell_type": "code",
   "execution_count": 19,
   "metadata": {},
   "outputs": [],
   "source": [
    "def loss(model, x, y):\n",
    "    y_ = model(x)\n",
    "    return loss_object(y_true=y, y_pred=y_)"
   ]
  },
  {
   "cell_type": "code",
   "execution_count": 20,
   "metadata": {},
   "outputs": [],
   "source": [
    "# calculate the gradients\n",
    "def grad(model, inputs, targets):\n",
    "    with tf.GradientTape() as tape:\n",
    "        loss_value = loss(model, inputs, targets)\n",
    "    # return loss_value, tape.gradient(loss_value, model.trainable_variables)\n",
    "    return loss_value, tape.gradient(loss_value, model.trainable_variables[-2:])"
   ]
  },
  {
   "cell_type": "code",
   "execution_count": 21,
   "metadata": {},
   "outputs": [],
   "source": [
    "# define the optimizer\n",
    "optimizer = tf.keras.optimizers.SGD(learning_rate=1e-4)"
   ]
  },
  {
   "cell_type": "code",
   "execution_count": 22,
   "metadata": {},
   "outputs": [
    {
     "name": "stdout",
     "output_type": "stream",
     "text": [
      "Step: 0, Initial Loss: 4.0450849533081055\n",
      "Step: 1,         Loss: 183.41171264648438\n"
     ]
    }
   ],
   "source": [
    "# test one optimization step\n",
    "loss_value, grads = grad(net, features, labels)\n",
    "\n",
    "print(\"Step: {}, Initial Loss: {}\".format(optimizer.iterations.numpy(),\n",
    "                                          loss_value.numpy()))\n",
    "\n",
    "# optimizer.apply_gradients(zip(grads, net.trainable_variables))\n",
    "optimizer.apply_gradients(zip(grads, net.trainable_variables[-2:]))\n",
    "\n",
    "print(\"Step: {},         Loss: {}\".format(optimizer.iterations.numpy(),\n",
    "                                          loss(net, features, labels).numpy()))"
   ]
  },
  {
   "cell_type": "code",
   "execution_count": null,
   "metadata": {},
   "outputs": [],
   "source": []
  },
  {
   "cell_type": "code",
   "execution_count": null,
   "metadata": {},
   "outputs": [],
   "source": []
  },
  {
   "cell_type": "markdown",
   "metadata": {},
   "source": [
    "### Training loop"
   ]
  },
  {
   "cell_type": "code",
   "execution_count": 23,
   "metadata": {},
   "outputs": [
    {
     "name": "stdout",
     "output_type": "stream",
     "text": [
      "Epoch 001: Loss: 629.084, Accuracy: 80.000%\n",
      "Epoch 002: Loss: 720.866, Accuracy: 80.600%\n",
      "Epoch 003: Loss: 689.847, Accuracy: 81.200%\n",
      "Epoch 004: Loss: 630.760, Accuracy: 81.400%\n",
      "Epoch 005: Loss: 613.890, Accuracy: 80.600%\n",
      "Epoch 006: Loss: 495.773, Accuracy: 83.000%\n",
      "Epoch 007: Loss: 468.652, Accuracy: 82.600%\n",
      "Epoch 008: Loss: 340.190, Accuracy: 84.000%\n",
      "Epoch 009: Loss: 496.197, Accuracy: 82.600%\n",
      "Epoch 010: Loss: 508.340, Accuracy: 81.600%\n"
     ]
    }
   ],
   "source": [
    "train_loss_results = []\n",
    "train_accuracy_results = []\n",
    "\n",
    "num_epochs = 10\n",
    "\n",
    "for epoch in range(num_epochs):\n",
    "    epoch_loss_avg = tf.keras.metrics.Mean()\n",
    "    epoch_accuracy = tf.keras.metrics.SparseCategoricalAccuracy()\n",
    "\n",
    "    # Training loop\n",
    "    for x, y in dataset:\n",
    "        # Optimize the model\n",
    "        loss_value, grads = grad(net, x, y)\n",
    "        # optimizer.apply_gradients(zip(grads, net.trainable_variables))\n",
    "        optimizer.apply_gradients(zip(grads, net.trainable_variables[-2:]))\n",
    "\n",
    "        # Track progress\n",
    "        epoch_loss_avg.update_state(loss_value)  # Add current batch loss\n",
    "        # Compare predicted label to actual label\n",
    "        epoch_accuracy.update_state(y, net(x))\n",
    "\n",
    "    # End epoch\n",
    "    train_loss_results.append(epoch_loss_avg.result())\n",
    "    train_accuracy_results.append(epoch_accuracy.result())\n",
    "\n",
    "    # if epoch % 2 == 0:\n",
    "    print(\"Epoch {:03d}: Loss: {:.3f}, Accuracy: {:.3%}\".format(epoch+1,\n",
    "                                                                epoch_loss_avg.result(),\n",
    "                                                                epoch_accuracy.result()))"
   ]
  },
  {
   "cell_type": "code",
   "execution_count": 24,
   "metadata": {},
   "outputs": [
    {
     "name": "stdout",
     "output_type": "stream",
     "text": [
      "Predictions: [0 0 0 0 0 0 0 0 0 0]\n",
      "     Labels: [0 0 0 0 0 0 1 0 2 0]\n"
     ]
    }
   ],
   "source": [
    "# quick evaluation\n",
    "features, labels = next(iter(dataset))\n",
    "predictions = net(features)\n",
    "print(\"Predictions: {}\".format(tf.argmax(predictions, axis=1)))\n",
    "print(\"     Labels: {}\".format(format(labels)))"
   ]
  },
  {
   "cell_type": "code",
   "execution_count": null,
   "metadata": {},
   "outputs": [],
   "source": []
  },
  {
   "cell_type": "code",
   "execution_count": null,
   "metadata": {},
   "outputs": [],
   "source": []
  },
  {
   "cell_type": "code",
   "execution_count": null,
   "metadata": {},
   "outputs": [],
   "source": []
  },
  {
   "cell_type": "code",
   "execution_count": null,
   "metadata": {},
   "outputs": [],
   "source": []
  },
  {
   "cell_type": "code",
   "execution_count": null,
   "metadata": {},
   "outputs": [],
   "source": []
  },
  {
   "cell_type": "code",
   "execution_count": null,
   "metadata": {},
   "outputs": [],
   "source": []
  },
  {
   "cell_type": "code",
   "execution_count": null,
   "metadata": {},
   "outputs": [],
   "source": []
  },
  {
   "cell_type": "code",
   "execution_count": null,
   "metadata": {},
   "outputs": [],
   "source": []
  },
  {
   "cell_type": "code",
   "execution_count": null,
   "metadata": {},
   "outputs": [],
   "source": []
  }
 ],
 "metadata": {
  "kernelspec": {
   "display_name": "venv_project_X",
   "language": "python",
   "name": "venv_project_x"
  },
  "language_info": {
   "codemirror_mode": {
    "name": "ipython",
    "version": 3
   },
   "file_extension": ".py",
   "mimetype": "text/x-python",
   "name": "python",
   "nbconvert_exporter": "python",
   "pygments_lexer": "ipython3",
   "version": "3.6.5"
  }
 },
 "nbformat": 4,
 "nbformat_minor": 2
}
