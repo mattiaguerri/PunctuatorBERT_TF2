{
 "cells": [
  {
   "cell_type": "code",
   "execution_count": 1,
   "metadata": {},
   "outputs": [],
   "source": [
    "import os\n",
    "import numpy as np\n",
    "\n",
    "from silence_tensorflow import silence_tensorflow\n",
    "silence_tensorflow()  # silence TF warnings\n",
    "import tensorflow as tf\n",
    "\n",
    "from dataProcessing import load_file, encode_data, insert_target, preProcessingScriber\n",
    "from transformers import AutoTokenizer\n",
    "from transformers import TFCamembertForMaskedLM\n",
    "from datetime import datetime\n",
    "import json\n",
    "import sys"
   ]
  },
  {
   "cell_type": "code",
   "execution_count": 2,
   "metadata": {},
   "outputs": [],
   "source": [
    "### instantiate the tokenizer\n",
    "tokenizer = AutoTokenizer.from_pretrained(\"jplu/tf-camembert-base\", do_lower_case=True)"
   ]
  },
  {
   "cell_type": "code",
   "execution_count": 3,
   "metadata": {},
   "outputs": [],
   "source": [
    "### punctuation encoder\n",
    "punctuation_enc = {\n",
    "    'O': 0,\n",
    "    'PERIOD': 1,\n",
    "}"
   ]
  },
  {
   "cell_type": "markdown",
   "metadata": {},
   "source": [
    "### Set Hyperparameters"
   ]
  },
  {
   "cell_type": "code",
   "execution_count": 4,
   "metadata": {},
   "outputs": [],
   "source": [
    "# n = 8\n",
    "\n",
    "vocab_size = 32005\n",
    "segment_size = 32\n",
    "batch_size = 128\n",
    "train_layer_ind = 0  # 0 for all model, -2 for only top layer\n",
    "learat = 1e-5\n",
    "num_epochs = 10\n",
    "\n",
    "hyperparameters = {\n",
    "    'vocab_size': vocab_size,\n",
    "    'segment_size': segment_size,\n",
    "    'learning_rate': learat,\n",
    "    'batch_size': batch_size\n",
    "}\n",
    "\n",
    "save_path = 'ModelsExp/{}/'.format(datetime.now().strftime(\"%Y%m%d_%H%M%S\"))\n",
    "os.mkdir(save_path)\n",
    "with open(save_path + 'hyperparameters.json', 'w') as f:\n",
    "    json.dump(hyperparameters, f)"
   ]
  },
  {
   "cell_type": "markdown",
   "metadata": {},
   "source": [
    "### Preprocess and Process Data"
   ]
  },
  {
   "cell_type": "code",
   "execution_count": 5,
   "metadata": {},
   "outputs": [
    {
     "name": "stdout",
     "output_type": "stream",
     "text": [
      "\n",
      "PRE-PROCESS AND PROCESS DATA\n"
     ]
    }
   ],
   "source": [
    "print('\\nPRE-PROCESS AND PROCESS DATA')\n",
    "\n",
    "\n",
    "# name of dataset with sentences\n",
    "\n",
    "data_name = \"Scriber\"\n",
    "\n",
    "\n",
    "# trainSet_01 = 'Data' + data_name + '/' + 'extractTrain_01.txt'\n",
    "# validSet_01 = 'Data' + data_name + '/' + 'extractValid_01.txt'\n",
    "\n",
    "\n",
    "trainSet_01 = 'Data' + data_name + '/' + 'raw.processed.Train_01.txt'\n",
    "validSet_01 = 'Data' + data_name + '/' + 'raw.processed.Valid_01.txt'\n",
    "\n",
    "\n",
    "# from sentences to list of words+punctuation\n",
    "data_train = load_file(preProcessingScriber(trainSet_01))\n",
    "data_valid = load_file(preProcessingScriber(validSet_01))\n",
    "\n",
    "\n",
    "X_train_, y_train_ = encode_data(data_train, tokenizer, punctuation_enc)\n",
    "X_train = insert_target(X_train_, segment_size)\n",
    "y_train = np.asarray(y_train_)\n",
    "\n",
    "\n",
    "X_valid_, y_valid_ = encode_data(data_valid, tokenizer, punctuation_enc)\n",
    "X_valid = insert_target(X_valid_, segment_size)\n",
    "y_valid = np.asarray(y_valid_)\n",
    "\n",
    "\n",
    "# # get only a fraction of data \n",
    "\n",
    "\n",
    "# X_train = X_train[0:n]\n",
    "# y_train = y_train[0:n]\n",
    "\n",
    "\n",
    "# X_valid = X_valid[0:16]\n",
    "# y_valid = y_valid[0:16]\n",
    "\n",
    "\n",
    "# build the datasets\n",
    "dataset = tf.data.Dataset.from_tensor_slices((X_train, y_train)).shuffle(buffer_size=500000).batch(batch_size)\n",
    "val_dataset = tf.data.Dataset.from_tensor_slices((X_valid, y_valid)).batch(batch_size)"
   ]
  },
  {
   "cell_type": "code",
   "execution_count": 7,
   "metadata": {},
   "outputs": [
    {
     "data": {
      "text/plain": [
       "(1821205, 32)"
      ]
     },
     "execution_count": 7,
     "metadata": {},
     "output_type": "execute_result"
    }
   ],
   "source": [
    "X_train.shape"
   ]
  },
  {
   "cell_type": "code",
   "execution_count": 8,
   "metadata": {},
   "outputs": [
    {
     "data": {
      "text/plain": [
       "(1821205,)"
      ]
     },
     "execution_count": 8,
     "metadata": {},
     "output_type": "execute_result"
    }
   ],
   "source": [
    "y_train.shape"
   ]
  },
  {
   "cell_type": "code",
   "execution_count": 10,
   "metadata": {},
   "outputs": [
    {
     "data": {
      "text/plain": [
       "array([0, 0, 0, 0, 0, 0, 1, 0, 0, 1, 0, 0, 0, 0, 0, 0, 0, 0, 0, 0, 0, 0,\n",
       "       0, 0, 1, 0, 0, 0, 0, 1])"
      ]
     },
     "execution_count": 10,
     "metadata": {},
     "output_type": "execute_result"
    }
   ],
   "source": [
    "y_train[0:30]"
   ]
  },
  {
   "cell_type": "code",
   "execution_count": 11,
   "metadata": {},
   "outputs": [
    {
     "data": {
      "text/plain": [
       "96275"
      ]
     },
     "execution_count": 11,
     "metadata": {},
     "output_type": "execute_result"
    }
   ],
   "source": [
    "np.sum(y_train)"
   ]
  },
  {
   "cell_type": "code",
   "execution_count": 12,
   "metadata": {},
   "outputs": [
    {
     "data": {
      "text/plain": [
       "0.05286335146235597"
      ]
     },
     "execution_count": 12,
     "metadata": {},
     "output_type": "execute_result"
    }
   ],
   "source": [
    "# percentage of words followed by punctuation\n",
    "96275/1821205"
   ]
  },
  {
   "cell_type": "code",
   "execution_count": null,
   "metadata": {},
   "outputs": [],
   "source": []
  },
  {
   "cell_type": "code",
   "execution_count": null,
   "metadata": {},
   "outputs": [],
   "source": []
  },
  {
   "cell_type": "code",
   "execution_count": 6,
   "metadata": {},
   "outputs": [
    {
     "name": "stdout",
     "output_type": "stream",
     "text": [
      "(1821205, 32)\n"
     ]
    }
   ],
   "source": [
    "print(X_train.shape)"
   ]
  },
  {
   "cell_type": "markdown",
   "metadata": {},
   "source": [
    "### Build the model"
   ]
  },
  {
   "cell_type": "code",
   "execution_count": null,
   "metadata": {},
   "outputs": [],
   "source": [
    "print('\\nBUILD THE MODEL')\n",
    "\n",
    "\n",
    "bert_input = tf.keras.Input(shape=(segment_size), dtype='int32', name='bert_input')\n",
    "x = TFCamembertForMaskedLM.from_pretrained(\"jplu/tf-camembert-base\")(bert_input)[0]\n",
    "x = tf.keras.layers.Reshape((segment_size*vocab_size,))(x)\n",
    "dense_out = tf.keras.layers.Dense(4)(x)\n",
    "\n",
    "\n",
    "net = tf.keras.Model(bert_input, dense_out, name='network')\n",
    "# print(net.summary())\n",
    "\n",
    "\n",
    "# define the loss\n",
    "loss_object = tf.keras.losses.SparseCategoricalCrossentropy(from_logits=True)\n",
    "def loss(model, x, y):\n",
    "    y_ = model(x)\n",
    "    return loss_object(y_true=y, y_pred=y_)\n",
    "\n",
    "\n",
    "# func to calculate the gradients\n",
    "def grad(model, inputs, targets):\n",
    "    with tf.GradientTape() as tape:\n",
    "        loss_value = loss(model, inputs, targets)\n",
    "    return loss_value, tape.gradient(loss_value, model.trainable_variables[train_layer_ind:])\n",
    "\n",
    "\n",
    "# define the optimizer\n",
    "optimizer = tf.keras.optimizers.Adam(learning_rate=learat)"
   ]
  },
  {
   "cell_type": "markdown",
   "metadata": {},
   "source": [
    "### Training loop"
   ]
  },
  {
   "cell_type": "code",
   "execution_count": null,
   "metadata": {},
   "outputs": [],
   "source": [
    "# print('\\nSTART TRAINING')\n",
    "\n",
    "# epoch_loss_avg = tf.keras.metrics.Mean()\n",
    "# epoch_accuracy = tf.keras.metrics.SparseCategoricalAccuracy()\n",
    "\n",
    "# epoch_loss_avg_valid = tf.keras.metrics.Mean()\n",
    "# epoch_accuracy_valid = tf.keras.metrics.SparseCategoricalAccuracy()\n",
    "\n",
    "# train_loss_results = []\n",
    "# train_accuracy_results = []\n",
    "\n",
    "# val_loss_results = []\n",
    "# val_accuracy_results = []\n",
    "\n",
    "# checkpoint_path = save_path + \"cp-{epoch:03d}.ckpt\"\n",
    "\n",
    "# tmpTrain = np.inf\n",
    "# tmpVal = np.inf\n",
    "# for epoch in range(1, (num_epochs+1)):\n",
    "\n",
    "#     # Training loop\n",
    "#     for x, y in dataset:\n",
    "#         # Optimize the model\n",
    "#         loss_value, grads = grad(net, x, y)\n",
    "#         optimizer.apply_gradients(zip(grads, net.trainable_variables[train_layer_ind:]))\n",
    "\n",
    "#         # Track progress\n",
    "#         epoch_loss_avg.update_state(loss_value)\n",
    "#         epoch_accuracy.update_state(y, net(x))\n",
    "\n",
    "#     # End epoch\n",
    "#     train_loss_results.append(epoch_loss_avg.result())\n",
    "#     train_accuracy_results.append(epoch_accuracy.result())\n",
    "\n",
    "#     # if epoch % 10 == 0:\n",
    "#     print(\"\\nEpoch {:03d}: (Training)   Loss: {:.3f}, Accuracy: {:.3%}\".format(epoch, epoch_loss_avg.result(),\n",
    "#                                                                   epoch_accuracy.result()))\n",
    "    \n",
    "#     epoch_loss_avg.reset_states()\n",
    "#     epoch_accuracy.reset_states()\n",
    "    \n",
    "#     # run validation loop\n",
    "#     for x_batch_val, y_batch_val in val_dataset:\n",
    "#         loss_value, _ = grad(net, x_batch_val, y_batch_val)\n",
    "#         epoch_loss_avg_valid.update_state(loss_value)\n",
    "#         epoch_accuracy_valid.update_state(y_batch_val, net(x_batch_val))\n",
    "    \n",
    "#     # save model if new min for train loss is found\n",
    "#     if epoch_loss_avg.result().numpy() < tmpTrain:\n",
    "#         tmpTrain = epoch_loss_avg.result().numpy()\n",
    "#         net.save_weights(checkpoint_path.format(epoch=epoch))\n",
    "    \n",
    "# #     # save model if new min for val loss is found\n",
    "# #     if epoch_loss_avg_valid.result().numpy() < tmp:\n",
    "# #         tmp = epoch_loss_avg_valid.result().numpy()\n",
    "# #         net.save_weights(checkpoint_path.format(epoch=epoch))\n",
    "    \n",
    "#     val_loss = epoch_loss_avg_valid.result()\n",
    "#     val_acc = epoch_accuracy_valid.result()\n",
    "#     print(\"           (Validation) Loss: {:.3f}, Accuracy: {:.3%}\".format(val_loss, val_acc))\n",
    "    \n",
    "#     epoch_loss_avg_valid.reset_states()\n",
    "#     epoch_accuracy_valid.reset_states()\n",
    "    "
   ]
  },
  {
   "cell_type": "code",
   "execution_count": null,
   "metadata": {},
   "outputs": [],
   "source": [
    "epoch_loss_avg = tf.keras.metrics.Mean()\n",
    "epoch_accuracy = tf.keras.metrics.SparseCategoricalAccuracy()\n",
    "\n",
    "\n",
    "train_loss_results = []\n",
    "train_accuracy_results = []\n",
    "\n",
    "\n",
    "checkpoint_path = save_path + \"cp-{epoch:03d}.ckpt\"\n",
    "\n",
    "\n",
    "tmpTrain = np.inf\n",
    "for epoch in range(1, (num_epochs+1)):\n",
    "\n",
    "    \n",
    "    # Training loop\n",
    "    for x, y in dataset:\n",
    "        # Optimize the model\n",
    "        loss_value, grads = grad(net, x, y)\n",
    "        optimizer.apply_gradients(zip(grads, net.trainable_variables[train_layer_ind:]))\n",
    "\n",
    "        # Track progress\n",
    "        epoch_loss_avg.update_state(loss_value)\n",
    "        epoch_accuracy.update_state(y, net(x))\n",
    "\n",
    "    # End epoch\n",
    "    train_loss_results.append(epoch_loss_avg.result())\n",
    "    train_accuracy_results.append(epoch_accuracy.result())\n",
    "\n",
    "    # if epoch % 10 == 0:\n",
    "    print(\"\\nEpoch {:03d}: (Training)   Loss: {:.3f}, Accuracy: {:.3%}\".format(epoch, epoch_loss_avg.result(),\n",
    "                                                                  epoch_accuracy.result()))\n",
    "\n",
    "    # save model if new min for train loss is found\n",
    "    if epoch_loss_avg.result().numpy() < tmpTrain:\n",
    "        tmpTrain = epoch_loss_avg.result().numpy()\n",
    "        net.save_weights(checkpoint_path.format(epoch=epoch))\n",
    "\n",
    "\n",
    "    epoch_loss_avg.reset_states()\n",
    "    epoch_accuracy.reset_states()"
   ]
  }
 ],
 "metadata": {
  "kernelspec": {
   "display_name": ".venv_X",
   "language": "python",
   "name": ".venv_x"
  },
  "language_info": {
   "codemirror_mode": {
    "name": "ipython",
    "version": 3
   },
   "file_extension": ".py",
   "mimetype": "text/x-python",
   "name": "python",
   "nbconvert_exporter": "python",
   "pygments_lexer": "ipython3",
   "version": "3.8.2"
  }
 },
 "nbformat": 4,
 "nbformat_minor": 4
}
