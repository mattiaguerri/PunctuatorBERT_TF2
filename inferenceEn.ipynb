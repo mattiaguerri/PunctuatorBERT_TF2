{
 "cells": [
  {
   "cell_type": "code",
   "execution_count": 1,
   "metadata": {},
   "outputs": [],
   "source": [
    "import os\n",
    "import numpy as np\n",
    "import tensorflow as tf\n",
    "from dataProcessing import load_file, insert_target, encodeDataInfer\n",
    "from transformers import BertTokenizer\n",
    "from transformers import TFBertForMaskedLM\n",
    "from datetime import datetime\n",
    "import json\n",
    "import sys"
   ]
  },
  {
   "cell_type": "code",
   "execution_count": 2,
   "metadata": {},
   "outputs": [],
   "source": [
    "### instantiate the tokenizer\n",
    "tokenizer = BertTokenizer.from_pretrained('bert-base-uncased', do_lower_case=True)"
   ]
  },
  {
   "cell_type": "code",
   "execution_count": 3,
   "metadata": {},
   "outputs": [],
   "source": [
    "### path to weights\n",
    "checkpoint_path = \"Models/20200425_142515/cp-008.ckpt\""
   ]
  },
  {
   "cell_type": "code",
   "execution_count": 4,
   "metadata": {},
   "outputs": [],
   "source": [
    "### punctuation decoder\n",
    "punDec = {\n",
    "    '0': \"SPACE\",\n",
    "    '1': \"COMMA\",\n",
    "    '2': \"PERIOD\",\n",
    "    '3': \"QUESTION\"\n",
    "}"
   ]
  },
  {
   "cell_type": "code",
   "execution_count": 5,
   "metadata": {},
   "outputs": [],
   "source": [
    "n = 20\n",
    "vocab_size = 30522\n",
    "segment_size = 32\n",
    "batch_size = 2"
   ]
  },
  {
   "cell_type": "code",
   "execution_count": 6,
   "metadata": {},
   "outputs": [],
   "source": [
    "# name of dataset with sentences\n",
    "data_name = \"IWSLT12\"\n",
    "infSet_01 = 'Data' + data_name + '/' + 'extractInfer_01.txt'\n",
    "data = load_file(infSet_01)\n",
    "\n",
    "\n",
    "X_ = encodeDataInfer(data, tokenizer)\n",
    "X = insert_target(X_, segment_size)\n",
    "\n",
    "\n",
    "# # get only a fraction of dataset\n",
    "# X = X[0:n]\n",
    "\n",
    "\n",
    "# instantiate tf.data.Dataset\n",
    "dataset = tf.data.Dataset.from_tensor_slices((X,)).batch(batch_size)"
   ]
  },
  {
   "cell_type": "code",
   "execution_count": 7,
   "metadata": {},
   "outputs": [
    {
     "name": "stdout",
     "output_type": "stream",
     "text": [
      "(8575, 32)\n",
      "<class 'numpy.ndarray'>\n",
      "[ 2017  3305  2054  1005  1055  2725  2009  2009  2987  1005  1056  2191\n",
      "  2017  5191  2079     0  2023  5852  2080  2057  2024  2469  2009  2573\n",
      "  2079  2009  2017  1005  2222  7523 15398  1998]\n"
     ]
    }
   ],
   "source": [
    "print(X.shape)\n",
    "print(type(X[0]))\n",
    "print(X[0])"
   ]
  },
  {
   "cell_type": "markdown",
   "metadata": {},
   "source": [
    "### Build the model"
   ]
  },
  {
   "cell_type": "code",
   "execution_count": 8,
   "metadata": {},
   "outputs": [],
   "source": [
    "bert_input = tf.keras.Input(shape=(segment_size), dtype='int32', name='bert_input')\n",
    "x = TFBertForMaskedLM.from_pretrained('bert-base-uncased')(bert_input)[0]\n",
    "x = tf.keras.layers.Reshape((segment_size*vocab_size,))(x)\n",
    "dense_out = tf.keras.layers.Dense(4)(x)\n",
    "\n",
    "\n",
    "model = tf.keras.Model(bert_input, dense_out, name='BertModel')\n",
    "# print(model.summary())"
   ]
  },
  {
   "cell_type": "code",
   "execution_count": 9,
   "metadata": {},
   "outputs": [
    {
     "data": {
      "text/plain": [
       "<tensorflow.python.training.tracking.util.CheckpointLoadStatus at 0x7fd61ccae820>"
      ]
     },
     "execution_count": 9,
     "metadata": {},
     "output_type": "execute_result"
    }
   ],
   "source": [
    "# load the weights\n",
    "model.load_weights(checkpoint_path)"
   ]
  },
  {
   "cell_type": "markdown",
   "metadata": {},
   "source": [
    "### Calculate predictions"
   ]
  },
  {
   "cell_type": "code",
   "execution_count": 10,
   "metadata": {},
   "outputs": [],
   "source": [
    "# feats = next(iter(dataset))"
   ]
  },
  {
   "cell_type": "code",
   "execution_count": 11,
   "metadata": {},
   "outputs": [],
   "source": [
    "preds = np.argmax(model.predict(dataset), axis=1)"
   ]
  },
  {
   "cell_type": "code",
   "execution_count": 12,
   "metadata": {},
   "outputs": [
    {
     "name": "stdout",
     "output_type": "stream",
     "text": [
      "(8575,)\n",
      "[0 0 0 ... 0 0 2]\n",
      "<class 'numpy.int64'>\n"
     ]
    }
   ],
   "source": [
    "print(preds.shape)\n",
    "print(preds)\n",
    "print(type(preds[0]))"
   ]
  },
  {
   "cell_type": "code",
   "execution_count": 16,
   "metadata": {},
   "outputs": [
    {
     "data": {
      "text/plain": [
       "(array([  10,  657, 1256, 1274, 1716, 2131, 2687, 2972, 2985, 3168, 3392,\n",
       "        4088, 4179, 4185, 4191, 4193, 4195, 4196, 4199, 4201, 4207, 4267,\n",
       "        4971, 5071, 5100, 5118, 5122, 5151, 5234, 5249, 5508, 5523, 5563,\n",
       "        5842, 5999, 6035, 6144, 6306, 6382, 6470, 6477, 6740, 7225, 7248,\n",
       "        7317, 7685]),)"
      ]
     },
     "execution_count": 16,
     "metadata": {},
     "output_type": "execute_result"
    }
   ],
   "source": [
    "np.where(preds==3)"
   ]
  },
  {
   "cell_type": "code",
   "execution_count": 14,
   "metadata": {},
   "outputs": [],
   "source": [
    "# print(len(X_))\n",
    "# print(X_)"
   ]
  },
  {
   "cell_type": "markdown",
   "metadata": {},
   "source": [
    "### Return the text with restored (inferred) punctuation"
   ]
  },
  {
   "cell_type": "code",
   "execution_count": null,
   "metadata": {},
   "outputs": [],
   "source": [
    "def restorePunctuation(X, preds, punDec, tokenizer, fileName):\n",
    "    file = open(fileName, 'w')\n",
    "    for i in range(len(preds)):\n",
    "        word = tokenizer.convert_ids_to_tokens(X_[i])\n",
    "        pun = punDec[str(preds[i])]\n",
    "        file.write(word + \" | \" + pun + \" \\n\")\n",
    "    file.close()"
   ]
  },
  {
   "cell_type": "code",
   "execution_count": null,
   "metadata": {},
   "outputs": [],
   "source": [
    "restorePunctuation(X_, preds, punDec, tokenizer, 'textRestored.txt')"
   ]
  }
 ],
 "metadata": {
  "kernelspec": {
   "display_name": ".venv_X",
   "language": "python",
   "name": ".venv_x"
  },
  "language_info": {
   "codemirror_mode": {
    "name": "ipython",
    "version": 3
   },
   "file_extension": ".py",
   "mimetype": "text/x-python",
   "name": "python",
   "nbconvert_exporter": "python",
   "pygments_lexer": "ipython3",
   "version": "3.8.2"
  }
 },
 "nbformat": 4,
 "nbformat_minor": 4
}
