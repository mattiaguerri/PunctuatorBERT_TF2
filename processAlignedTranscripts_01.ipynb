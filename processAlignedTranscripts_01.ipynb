{
 "cells": [
  {
   "cell_type": "markdown",
   "metadata": {},
   "source": [
    "# Process File Of Aligned Transcripts"
   ]
  },
  {
   "cell_type": "code",
   "execution_count": 1,
   "metadata": {},
   "outputs": [],
   "source": [
    "import json\n",
    "import numpy as np\n",
    "import copy"
   ]
  },
  {
   "cell_type": "code",
   "execution_count": 2,
   "metadata": {},
   "outputs": [],
   "source": [
    "### punctuation encoder\n",
    "punEnc = {\n",
    "    \",\": \"COMMA\",\n",
    "    \".\": \"PERIOD\",\n",
    "    \";\": \"SEMICOLON\",\n",
    "    \":\": \"COLON\",\n",
    "    \"!\": \"EXCLAMATION\",\n",
    "    \"?\": \"QUESTION\"\n",
    "}"
   ]
  },
  {
   "cell_type": "code",
   "execution_count": 3,
   "metadata": {},
   "outputs": [
    {
     "name": "stdout",
     "output_type": "stream",
     "text": [
      "Number Of Words =  1671024\n",
      "Number Of Begins =  1671024\n",
      "Number Of Ends =  1671024\n"
     ]
    }
   ],
   "source": [
    "### Extract All The Words + Words Begins + Words Ends\n",
    "\n",
    "# fileName = \"AudioFeatures/xaa_00\"\n",
    "fileName = \"AudioFeatures/aligned_transcripts.json\"\n",
    "with open(fileName, \"r\") as inpFile:\n",
    "    data = json.load(inpFile)\n",
    "\n",
    "listDictio = list(data.keys())\n",
    "numDictio = len(listDictio)\n",
    "\n",
    "listAllWords = []\n",
    "listAllBegins = []\n",
    "listAllEnds = []\n",
    "for i in range(numDictio):\n",
    "    listAllWords += data[listDictio[i]]['words']\n",
    "    listAllBegins += data[listDictio[i]]['words_begins']\n",
    "    listAllEnds += data[listDictio[i]]['words_ends']\n",
    "print(\"Number Of Words = \", len(listAllWords))\n",
    "print(\"Number Of Begins = \", len(listAllBegins))\n",
    "print(\"Number Of Ends = \", len(listAllEnds))"
   ]
  },
  {
   "cell_type": "code",
   "execution_count": 4,
   "metadata": {},
   "outputs": [],
   "source": [
    "### Write The Output File\n",
    "\n",
    "numWords = len(listAllWords)\n",
    "nameOutFile = \"outFile_00.txt\"\n",
    "outFile = open(nameOutFile, \"w\")\n",
    "countBegins = 0\n",
    "for i in range(numWords-1):\n",
    "    word = listAllWords[i]\n",
    "    begin = str(listAllBegins[i])\n",
    "    end = str(listAllEnds[i])\n",
    "    nextWord = listAllWords[i+1]\n",
    "    # check if word is punctuation\n",
    "    if word == \",\" or word == \".\" or word == \";\" or word == \":\" or word == \"!\" or word == \"?\":\n",
    "        continue\n",
    "    # check if the next word is punctuation\n",
    "    if nextWord == \",\" or nextWord == \".\" or nextWord == \";\" or nextWord == \":\" or nextWord == \"!\" or nextWord == \"?\":\n",
    "        outFile.write(word.lower() + \"\\t\" + punEnc[nextWord] + \"\\t\" + begin + \"\\t\" + end + \"\\n\")\n",
    "        continue\n",
    "    # check if the last character of the word is puncutation\n",
    "    if len(word)>1 and word[-1] == \",\" or word[-1] == \".\" or word[-1] == \";\" or word[-1] == \":\" or word[-1] == \"!\" or word[-1] == \"?\":\n",
    "        outFile.write(word[0:-1].lower() + \"\\t\" + punEnc[word[-1]] + \"\\t\" + begin + \"\\t\" + end + \"\\n\")\n",
    "        continue\n",
    "    if nextWord != \",\" or nextWord != \".\" or nextWord != \";\" or nextWord != \":\" or nextWord != \"!\" or nextWord != \"?\":\n",
    "        outFile.write(word.lower() + \"\\t\" + \"SPACE\" + \"\\t\" + begin + \"\\t\" + end + \"\\n\")\n",
    "# take care of last word in the list\n",
    "word = listAllWords[numWords-1]\n",
    "begin = str(listAllBegins[numWords-1])\n",
    "end = str(listAllEnds[numWords-1])\n",
    "if len(word)>1 and word[-1] == \",\" or word[-1] == \".\" or word[-1] == \";\" or word[-1] == \":\" or word[-1] == \"!\" or word[-1] == \"?\":\n",
    "    outFile.write(word[0:-1].lower() + \"\\t\" + punEnc[word[-1]] + \"\\t\" + begin + \"\\t\" + end + \"\\n\")\n",
    "else:\n",
    "    outFile.write(word.lower() + \"\\t\" + \"SPACE\" + \"\\t\" + begin + \"\\t\" + end + \"\\n\")\n",
    "outFile.close()"
   ]
  },
  {
   "cell_type": "code",
   "execution_count": 5,
   "metadata": {},
   "outputs": [],
   "source": [
    "### Clean The Output File, Elininate Words Where Begin Time And/Or End Time Is 'None'\n",
    "\n",
    "nameOutFileCleaned = \"outFile_01.txt\"\n",
    "with open(nameOutFile, \"r\") as outFile_00:\n",
    "    with open(nameOutFileCleaned, \"w\") as outFile_01:\n",
    "        lines = outFile_00.readlines()\n",
    "        for line in lines:\n",
    "            split = line.split(\"\\t\")\n",
    "            if 'None' not in line:\n",
    "                outFile_01.write(line)\n",
    "            else:\n",
    "                continue"
   ]
  },
  {
   "cell_type": "code",
   "execution_count": 6,
   "metadata": {},
   "outputs": [],
   "source": [
    "### Apply Corrections To The Output File\n",
    "\n",
    "nameInpFile = \"outFile_01.txt\"\n",
    "nameOutFile = \"outFile_02.txt\"\n",
    "sequenceSize = 32\n",
    "\n",
    "with open(nameInpFile, \"r\") as inpFile:\n",
    "    lines = inpFile.readlines()\n",
    "numLine = len(lines)\n",
    "\n",
    "# get the bound for the loop\n",
    "rest = numLine - sequenceSize * (numLine//sequenceSize)\n",
    "bound = numLine - rest - sequenceSize\n",
    "\n",
    "dataWords = []\n",
    "dataPuncs = []\n",
    "dataBegins = []\n",
    "dataEnds = []\n",
    "\n",
    "count = 0  # index for the rows in input file\n",
    "while count < numLine:\n",
    "    \n",
    "    sequenceWords = []\n",
    "    sequencePuncs = []\n",
    "    sequenceBegins = []\n",
    "    sequenceEnds = []\n",
    "    \n",
    "    ### get the values for a sequence\n",
    "    tmp = 0  # this to count the effective size of the sequence\n",
    "    if count <= bound:\n",
    "        for i in range(sequenceSize):\n",
    "            tmp += 1\n",
    "            items = lines[count+i].split(\"\\t\")\n",
    "            sequenceWords.append(items[0])\n",
    "            sequencePuncs.append(items[1])\n",
    "            sequenceBegins.append(float(items[2]))\n",
    "            sequenceEnds.append(float(items[3]))\n",
    "    else:\n",
    "        for i in range(bound+sequenceSize, numLine):\n",
    "            tmp += 1\n",
    "            items = lines[i].split(\"\\t\")\n",
    "            sequenceWords.append(items[0])\n",
    "            sequencePuncs.append(items[1])\n",
    "            sequenceBegins.append(float(items[2]))\n",
    "            sequenceEnds.append(float(items[3]))\n",
    "    # print(\"count = \", count)\n",
    "    # print(\"tmp = \", tmp)\n",
    "    count += sequenceSize\n",
    "\n",
    "    ### CORRECTION 1\n",
    "    ### apply the correction to the time stamp\n",
    "    sequenceBeginsCorr = np.asarray(copy.deepcopy(sequenceBegins))\n",
    "    sequenceEndsCorr = np.asarray(copy.deepcopy(sequenceEnds))\n",
    "    for i in range(tmp-1):\n",
    "        wordEnd = sequenceEnds[i]\n",
    "        nextWordBegin = sequenceBegins[i+1]\n",
    "        ### i add an additional condition because sometimes wordEnd > nextWordBegin\n",
    "        ### but not beacause of the start of a new sentence.\n",
    "        if wordEnd > nextWordBegin and abs(wordEnd - nextWordBegin) > 0.021:\n",
    "            sequenceBeginsCorr[i+1:] += wordEnd\n",
    "            sequenceEndsCorr[i+1:] += wordEnd\n",
    "#         ### same as before but without the additional condition\n",
    "#         if wordEnd > nextWordBegin:\n",
    "#             sequenceBeginsCorr[i+1:] += wordEnd\n",
    "#             sequenceEndsCorr[i+1:] += wordEnd\n",
    "    ### CORRECTION 2\n",
    "    ### add an additional correction\n",
    "    ### set beginning of first word in the sentence as time zero.\n",
    "    sequenceBeginsCorr[:] -= sequenceBegins[0]\n",
    "    sequenceEndsCorr[:] -= sequenceBegins[0]\n",
    "    \n",
    "    ### collect the corrected values\n",
    "    dataWords += sequenceWords\n",
    "    dataPuncs += sequencePuncs\n",
    "    dataBegins += list(sequenceBeginsCorr)\n",
    "    dataEnds += list(sequenceEndsCorr)\n",
    "\n",
    "### Output The Corrected File\n",
    "with open(nameOutFile, \"w\") as outFile:\n",
    "    for i in range(numLine):\n",
    "        outFile.write(dataWords[i] + \"\\t\" + dataPuncs[i] + \"\\t\" + str(dataBegins[i]) + \"\\t\" + str(dataEnds[i]) + \"\\n\")"
   ]
  },
  {
   "cell_type": "code",
   "execution_count": 7,
   "metadata": {},
   "outputs": [
    {
     "name": "stdout",
     "output_type": "stream",
     "text": [
      "Number of issues =  37100\n"
     ]
    }
   ],
   "source": [
    "### Check The Output File\n",
    "### endTimeWord > startTimeNextWord only in case the two words belongs to different sequences.\n",
    "\n",
    "lineIndexList = []\n",
    "with open(nameOutFile, \"r\") as f:\n",
    "    lines = f.readlines()\n",
    "numLines = len(lines)\n",
    "for i in range(numLines-1):\n",
    "    items = lines[i].split(\"\\t\")\n",
    "    nextItems = lines[i+1].split(\"\\t\")\n",
    "    endTimeWord = float(items[3])\n",
    "    startTimeNextWord = float(nextItems[2])\n",
    "    if endTimeWord > startTimeNextWord:\n",
    "        lineIndex = i+1\n",
    "        if (lineIndex % sequenceSize) == 0:\n",
    "            continue\n",
    "        else:\n",
    "            lineIndexList.append(lineIndex)\n",
    "print(\"Number of issues = \", len(lineIndexList))"
   ]
  },
  {
   "cell_type": "code",
   "execution_count": 8,
   "metadata": {},
   "outputs": [],
   "source": [
    "### Obtain another output file where there is only SPACE and PERIOD.\n",
    "\n",
    "nameInpFile = \"outFile_02.txt\"\n",
    "nameOutFile = \"outFile_03.txt\"\n",
    "with open(nameInpFile, 'r') as inpFile:\n",
    "    lines = inpFile.readlines()\n",
    "with open(nameOutFile, 'w') as outFile:\n",
    "    numLines = len(lines)\n",
    "    for line in lines:\n",
    "        items = line.split(\"\\t\")\n",
    "        if items[1] == \"COMMA\" or items[1] == \"SEMICOLON\" or items[1] == \"COLON\" or items[1] == \"EXCLAMATION\" or items[1] == \"QUESTION\":\n",
    "            items[1] = \"PERIOD\"\n",
    "        outFile.write(items[0] + \"\\t\" + items[1] + \"\\t\" + items[2]+ \"\\t\" + items[3])"
   ]
  }
 ],
 "metadata": {
  "kernelspec": {
   "display_name": "venvTrans",
   "language": "python",
   "name": "venvtrans"
  },
  "language_info": {
   "codemirror_mode": {
    "name": "ipython",
    "version": 3
   },
   "file_extension": ".py",
   "mimetype": "text/x-python",
   "name": "python",
   "nbconvert_exporter": "python",
   "pygments_lexer": "ipython3",
   "version": "3.8.2"
  }
 },
 "nbformat": 4,
 "nbformat_minor": 4
}
