{
 "cells": [
  {
   "cell_type": "markdown",
   "metadata": {},
   "source": [
    "# Evaluate Model Performance on the Test Set "
   ]
  },
  {
   "cell_type": "code",
   "execution_count": 1,
   "metadata": {},
   "outputs": [],
   "source": [
    "import numpy as np\n",
    "import tensorflow as tf\n",
    "from data import load_file, process_data, preProcessingScriber\n",
    "\n",
    "from transformers import AutoTokenizer\n",
    "from transformers import TFCamembertForMaskedLM\n",
    "\n",
    "from datetime import datetime\n",
    "import os\n",
    "import json\n",
    "import sys"
   ]
  },
  {
   "cell_type": "code",
   "execution_count": 2,
   "metadata": {},
   "outputs": [],
   "source": [
    "checkpoint_path = \"ModelsExp/20200428_180956/cp-004.ckpt\""
   ]
  },
  {
   "cell_type": "markdown",
   "metadata": {},
   "source": [
    "### Hyper-parameters"
   ]
  },
  {
   "cell_type": "code",
   "execution_count": 3,
   "metadata": {},
   "outputs": [],
   "source": [
    "n = 512\n",
    "\n",
    "vocab_size = 32005\n",
    "segment_size = 32\n",
    "batch_size = 5\n",
    "train_layer_ind = -2  # 0 for all model, -2 for only top layer\n",
    "num_epochs = 2\n",
    "\n",
    "hyperparameters = {\n",
    "    'vocab_size': vocab_size,\n",
    "    'segment_size': segment_size,\n",
    "    'batch_size': batch_size\n",
    "}"
   ]
  },
  {
   "cell_type": "code",
   "execution_count": 4,
   "metadata": {},
   "outputs": [],
   "source": [
    "punctuation_enc = {\n",
    "    'O': 0,\n",
    "    'PERIOD': 1,\n",
    "}"
   ]
  },
  {
   "cell_type": "code",
   "execution_count": 5,
   "metadata": {},
   "outputs": [],
   "source": [
    "# # name of data with the sentences\n",
    "# data_name = \"IWSLT12\"\n",
    "# testSet_01 = 'Data' + data_name + '/extractTest_01.txt'\n",
    "\n",
    "# preProcessingIWSLT12(testSet_01)\n",
    "\n",
    "# data_test = load_file('./Data/testSet_02.txt')\n",
    "\n",
    "# tokenizer = AutoTokenizer.from_pretrained(\"jplu/tf-camembert-base\", do_lower_case=True)\n",
    "\n",
    "# X_test, y_test = process_data(data_test, tokenizer, punctuation_enc, segment_size)\n",
    "# y_test = np.asarray(y_test)\n",
    "\n",
    "# X_test = X_test[0:n]\n",
    "# y_test = y_test[0:n]"
   ]
  },
  {
   "cell_type": "code",
   "execution_count": null,
   "metadata": {},
   "outputs": [],
   "source": []
  },
  {
   "cell_type": "code",
   "execution_count": null,
   "metadata": {},
   "outputs": [],
   "source": []
  },
  {
   "cell_type": "code",
   "execution_count": 7,
   "metadata": {},
   "outputs": [
    {
     "name": "stdout",
     "output_type": "stream",
     "text": [
      "\n",
      "PRE-PROCESS AND PROCESS DATA\n"
     ]
    }
   ],
   "source": [
    "print('\\nPRE-PROCESS AND PROCESS DATA')\n",
    "\n",
    "punctuation_enc = {\n",
    "    'O': 0,\n",
    "    'PERIOD': 1,\n",
    "}\n",
    "\n",
    "\n",
    "# name of dataset with sentences\n",
    "data_name = \"Scriber\"\n",
    "trainSet_01 = 'Data' + data_name + '/' + 'extractTrain_01.txt'\n",
    "validSet_01 = 'Data' + data_name + '/' + 'extractValid_01.txt'\n",
    "\n",
    "\n",
    "# from sentences to list of words+punctuation\n",
    "outTrain = preProcessingScriber(trainSet_01)\n",
    "outValid = preProcessingScriber(validSet_01)\n",
    "\n",
    "data_train = load_file(outTrain)\n",
    "data_valid = load_file(outValid)\n",
    "\n",
    "\n",
    "### instantiate the tokenizer\n",
    "tokenizer = AutoTokenizer.from_pretrained(\"jplu/tf-camembert-base\", do_lower_case=True)\n",
    "\n",
    "\n",
    "X_train, y_train = process_data(data_train, tokenizer, punctuation_enc, segment_size)\n",
    "y_train = np.asarray(y_train)\n",
    "X_valid, y_valid = process_data(data_valid, tokenizer, punctuation_enc, segment_size)\n",
    "y_valid = np.asarray(y_valid)\n",
    "\n",
    "\n",
    "X_test = X_train[0:n]\n",
    "y_test = y_train[0:n]"
   ]
  },
  {
   "cell_type": "code",
   "execution_count": null,
   "metadata": {},
   "outputs": [],
   "source": []
  },
  {
   "cell_type": "code",
   "execution_count": null,
   "metadata": {},
   "outputs": [],
   "source": []
  },
  {
   "cell_type": "code",
   "execution_count": 8,
   "metadata": {},
   "outputs": [],
   "source": [
    "# one hot encode the labels\n",
    "y_test = tf.one_hot(y_test, 4, dtype='int64').numpy()"
   ]
  },
  {
   "cell_type": "markdown",
   "metadata": {},
   "source": [
    "### Build the dataset"
   ]
  },
  {
   "cell_type": "code",
   "execution_count": 9,
   "metadata": {},
   "outputs": [],
   "source": [
    "dataset = tf.data.Dataset.from_tensor_slices((X_test, y_test))\n",
    "dataset = dataset.batch(batch_size)"
   ]
  },
  {
   "cell_type": "markdown",
   "metadata": {},
   "source": [
    "### Build the model"
   ]
  },
  {
   "cell_type": "code",
   "execution_count": 10,
   "metadata": {},
   "outputs": [],
   "source": [
    "# build and compile model\n",
    "\n",
    "bert_input = tf.keras.Input(shape=(segment_size), dtype='int32', name='bert_input')\n",
    "x = TFCamembertForMaskedLM.from_pretrained(\"jplu/tf-camembert-base\")(bert_input)[0]\n",
    "x = tf.keras.layers.Reshape((segment_size*vocab_size,))(x)\n",
    "dense_out = tf.keras.layers.Dense(4, activation='softmax')(x)\n",
    "\n",
    "net = tf.keras.Model(bert_input, dense_out, name='network')\n",
    "\n",
    "net.compile(optimizer='adam',\n",
    "              loss=tf.losses.CategoricalCrossentropy(from_logits=False),\n",
    "              metrics=[tf.keras.metrics.Recall(class_id=0, name='Rec_0'),\n",
    "                       tf.keras.metrics.Precision(class_id=0, name='Prec_0'),\n",
    "                       tf.keras.metrics.Recall(class_id=1, name='Rec_1'),\n",
    "                       tf.keras.metrics.Precision(class_id=1, name='Prec_1'),\n",
    "                      ])"
   ]
  },
  {
   "cell_type": "code",
   "execution_count": 11,
   "metadata": {},
   "outputs": [
    {
     "data": {
      "text/plain": [
       "<tensorflow.python.training.tracking.util.CheckpointLoadStatus at 0x7f31cc09d040>"
      ]
     },
     "execution_count": 11,
     "metadata": {},
     "output_type": "execute_result"
    }
   ],
   "source": [
    "# load the weights\n",
    "net.load_weights(checkpoint_path)"
   ]
  },
  {
   "cell_type": "markdown",
   "metadata": {},
   "source": [
    "### Evaluate the model"
   ]
  },
  {
   "cell_type": "code",
   "execution_count": 12,
   "metadata": {},
   "outputs": [
    {
     "name": "stdout",
     "output_type": "stream",
     "text": [
      "103/103 [==============================] - 62s 606ms/step - loss: 0.1022 - Rec_0: 0.9958 - Prec_0: 0.9979 - Rec_1: 0.9706 - Prec_1: 0.9429\n"
     ]
    },
    {
     "data": {
      "text/plain": [
       "[0.10224173218011856,\n",
       " 0.9958158731460571,\n",
       " 0.99790358543396,\n",
       " 0.970588207244873,\n",
       " 0.9428571462631226]"
      ]
     },
     "execution_count": 12,
     "metadata": {},
     "output_type": "execute_result"
    }
   ],
   "source": [
    "net.evaluate(dataset)"
   ]
  },
  {
   "cell_type": "code",
   "execution_count": null,
   "metadata": {},
   "outputs": [],
   "source": []
  },
  {
   "cell_type": "code",
   "execution_count": null,
   "metadata": {},
   "outputs": [],
   "source": []
  }
 ],
 "metadata": {
  "kernelspec": {
   "display_name": ".venv_X",
   "language": "python",
   "name": ".venv_x"
  },
  "language_info": {
   "codemirror_mode": {
    "name": "ipython",
    "version": 3
   },
   "file_extension": ".py",
   "mimetype": "text/x-python",
   "name": "python",
   "nbconvert_exporter": "python",
   "pygments_lexer": "ipython3",
   "version": "3.8.2"
  }
 },
 "nbformat": 4,
 "nbformat_minor": 4
}
