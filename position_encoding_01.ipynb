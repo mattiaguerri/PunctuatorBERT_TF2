{
 "cells": [
  {
   "cell_type": "markdown",
   "metadata": {
    "colab_type": "text",
    "id": "mOtlkKOJk11B"
   },
   "source": [
    "##### Copyright 2019 The TensorFlow Authors."
   ]
  },
  {
   "cell_type": "code",
   "execution_count": 1,
   "metadata": {
    "cellView": "form",
    "colab": {},
    "colab_type": "code",
    "id": "2CTPLx3Ukwrv"
   },
   "outputs": [],
   "source": [
    "#@title Licensed under the Apache License, Version 2.0 (the \"License\");\n",
    "# you may not use this file except in compliance with the License.\n",
    "# You may obtain a copy of the License at\n",
    "#\n",
    "# https://www.apache.org/licenses/LICENSE-2.0\n",
    "#\n",
    "# Unless required by applicable law or agreed to in writing, software\n",
    "# distributed under the License is distributed on an \"AS IS\" BASIS,\n",
    "# WITHOUT WARRANTIES OR CONDITIONS OF ANY KIND, either express or implied.\n",
    "# See the License for the specific language governing permissions and\n",
    "# limitations under the License."
   ]
  },
  {
   "cell_type": "markdown",
   "metadata": {
    "colab_type": "text",
    "id": "wSIW5dYmdGfE"
   },
   "source": [
    "# Transformer Position Encoding\n",
    "\n",
    "<table class=\"tfo-notebook-buttons\" align=\"left\">\n",
    "  <td>\n",
    "    <a target=\"_blank\" href=\"https://colab.research.google.com/github/tensorflow/examples/blob/master/community/en/position_encoding.ipynb\">\n",
    "    <img src=\"https://www.tensorflow.org/images/colab_logo_32px.png\" />\n",
    "    Run in Google Colab</a>\n",
    "  </td>\n",
    "  <td>\n",
    "    <a target=\"_blank\" href=\"https://github.com/tensorflow/examples/blob/master/community/en/position_encoding.ipynb\">\n",
    "    <img src=\"https://www.tensorflow.org/images/GitHub-Mark-32px.png\" />\n",
    "    View source on GitHub</a>\n",
    "  </td>\n",
    "</table>"
   ]
  },
  {
   "cell_type": "markdown",
   "metadata": {
    "colab_type": "text",
    "id": "ZPoPd7GbdK0G"
   },
   "source": [
    "See [this notebook](https://github.com/site/en/r2/tutorials/sequences/transformer.ipynb) for a walk-through of full transformer implementation.\n",
    "\n",
    "The transformer architecture uses stacked attention layers in place of CNNs or RNNs. This makes it easy to learn long-range dependencise but it contains no built in information about the relative positions of items in a sequence. \n",
    "\n",
    "To give the model access to this information the transformer architecture uses adda a position encoding to the input.\n",
    "\n",
    "This endocing is a vector of sines and cosines at each position, where each sine-cosine pair rotates at a different frequency.  \n",
    "\n",
    "Nearby locations will have similar position-encoding vectors."
   ]
  },
  {
   "cell_type": "markdown",
   "metadata": {
    "colab_type": "text",
    "id": "XLC5-V6sefM6"
   },
   "source": [
    "### Imports"
   ]
  },
  {
   "cell_type": "code",
   "execution_count": 2,
   "metadata": {
    "colab": {},
    "colab_type": "code",
    "id": "y6BDOVCnKPSW"
   },
   "outputs": [],
   "source": [
    "# import numpy as np\n",
    "# import matplotlib.pyplot as plt\n",
    "# import copy"
   ]
  },
  {
   "cell_type": "markdown",
   "metadata": {
    "colab_type": "text",
    "id": "oCajWknYcYpV"
   },
   "source": [
    "The angle rates range from `1 [rads/step]` to `min_rate [rads/step]` over the vector depth.\n",
    "\n",
    "Formula for angle rate:\n",
    "\n",
    "$$angle\\_rate_d = (min\\_rate)^{d / d_{max}} $$"
   ]
  },
  {
   "cell_type": "code",
   "execution_count": 3,
   "metadata": {
    "colab": {},
    "colab_type": "code",
    "id": "ADsz4y85ANsB"
   },
   "outputs": [],
   "source": [
    "# num_positions = 50\n",
    "# depth = 512\n",
    "# min_rate = 1/10000\n",
    "\n",
    "# assert depth%2 == 0, \"Depth must be even.\"\n",
    "# angle_rate_exponents = np.linspace(0,1,depth//2)\n",
    "# angle_rates = min_rate**(angle_rate_exponents)"
   ]
  },
  {
   "cell_type": "code",
   "execution_count": 4,
   "metadata": {},
   "outputs": [],
   "source": [
    "# angle_rate_exponents.shape"
   ]
  },
  {
   "cell_type": "markdown",
   "metadata": {
    "colab_type": "text",
    "id": "E51Ne4cNe1i8"
   },
   "source": [
    "The resulting exponent goes from `0` to `1`, causing the `angle_rates` to drop exponentially from `1` to `min_rate`."
   ]
  },
  {
   "cell_type": "code",
   "execution_count": 5,
   "metadata": {
    "colab": {},
    "colab_type": "code",
    "id": "ohldgW_Xg2sC"
   },
   "outputs": [],
   "source": [
    "# plt.semilogy(angle_rates)\n",
    "# plt.xlabel('Depth')\n",
    "# plt.ylabel('Angle rate [rads/step]')"
   ]
  },
  {
   "cell_type": "markdown",
   "metadata": {
    "colab_type": "text",
    "id": "fMaA6pUqh-tQ"
   },
   "source": [
    "Broadcasting a multiply over angle rates and positions gives a map of the position encoding angles as a function of depth."
   ]
  },
  {
   "cell_type": "code",
   "execution_count": 6,
   "metadata": {
    "colab": {},
    "colab_type": "code",
    "id": "Rs2ABZ3XhYFg"
   },
   "outputs": [],
   "source": [
    "# positions = np.arange(num_positions) \n",
    "# angle_rads = (positions[:, np.newaxis])*angle_rates[np.newaxis, :]"
   ]
  },
  {
   "cell_type": "code",
   "execution_count": 7,
   "metadata": {},
   "outputs": [],
   "source": [
    "# print(positions.shape)\n",
    "# print(angle_rates.shape)\n",
    "# print(\"angle_rads shape = \", angle_rads.shape)"
   ]
  },
  {
   "cell_type": "code",
   "execution_count": 8,
   "metadata": {},
   "outputs": [],
   "source": [
    "# print(angle_rads[0, 0:5])\n",
    "# print(angle_rads[1, 0:5])\n",
    "# print(angle_rads[2, 0:5])\n",
    "# print(angle_rads[10, 0:5])"
   ]
  },
  {
   "cell_type": "code",
   "execution_count": 9,
   "metadata": {
    "colab": {},
    "colab_type": "code",
    "id": "eHEHWQa8_51Z"
   },
   "outputs": [],
   "source": [
    "# plt.figure(figsize = (14,8))\n",
    "# plt.pcolormesh(\n",
    "#     # Convert to degrees, and wrap around at 360\n",
    "#     angle_rads*180/(2*np.pi) % 360,\n",
    "#     # Use a cyclical colormap so that color(0) == color(360)\n",
    "#     cmap='hsv', vmin=0, vmax=360)\n",
    "\n",
    "# plt.xlim([0,len(angle_rates)])\n",
    "# plt.ylabel('Position')\n",
    "# plt.xlabel('Depth')\n",
    "# bar = plt.colorbar(label='Angle [deg]')\n",
    "# bar.set_ticks(np.linspace(0,360,6+1))"
   ]
  },
  {
   "cell_type": "markdown",
   "metadata": {},
   "source": [
    "### Plot A Number Of Positional Vectors"
   ]
  },
  {
   "cell_type": "code",
   "execution_count": 10,
   "metadata": {},
   "outputs": [],
   "source": [
    "# listInd = [0, 1, 4, 10, 20, 30, 45]\n",
    "# fig, axs = plt.subplots(2, len(listInd), figsize=(20, 5))\n",
    "# ### Plot rads\n",
    "# for i in range(len(listInd)):\n",
    "#     axs[0, i].plot(angle_rads[listInd[i], :])\n",
    "# ### Plot degrees\n",
    "# angle_degrees = angle_rads * 180 / (2*np.pi) % 360\n",
    "# for i in range(len(listInd)):\n",
    "#     axs[1, i].plot(angle_degrees[listInd[i], :])\n",
    "# plt.show()"
   ]
  },
  {
   "cell_type": "markdown",
   "metadata": {
    "colab_type": "text",
    "id": "MEGyhu_JiNDS"
   },
   "source": [
    "Raw angles are not a good model input (they're either unbounded, or discontinuous). So take the sine and cosine:"
   ]
  },
  {
   "cell_type": "code",
   "execution_count": 11,
   "metadata": {
    "colab": {},
    "colab_type": "code",
    "id": "BBnQuSSPGl8t"
   },
   "outputs": [],
   "source": [
    "# sines = np.sin(angle_rads)\n",
    "# cosines = np.cos(angle_rads)\n",
    "# pos_encoding = np.concatenate([sines, cosines], axis=-1)"
   ]
  },
  {
   "cell_type": "code",
   "execution_count": 12,
   "metadata": {
    "colab": {},
    "colab_type": "code",
    "id": "UQrE2_nPHjXC"
   },
   "outputs": [],
   "source": [
    "# plt.figure(figsize=(14,8))\n",
    "# plt.pcolormesh(pos_encoding, \n",
    "#                # Use a diverging colormap so it's clear where zero is.\n",
    "#                cmap='RdBu', vmin=-1, vmax=1)\n",
    "# plt.xlim([0,depth])\n",
    "# plt.ylabel('Position')\n",
    "# plt.xlabel('Depth')\n",
    "# plt.colorbar()\n",
    "# plt.show()"
   ]
  },
  {
   "cell_type": "markdown",
   "metadata": {
    "colab_type": "text",
    "id": "e536lUb-k-UQ"
   },
   "source": [
    "### Nearby positions"
   ]
  },
  {
   "cell_type": "markdown",
   "metadata": {
    "colab_type": "text",
    "id": "UzWWHKK1lu0z"
   },
   "source": [
    "Nearby locations will have similar position-encoding vectors. \n",
    "\n",
    "To demonstrate compare one position's encoding (here position 20) with each of the others:"
   ]
  },
  {
   "cell_type": "code",
   "execution_count": 13,
   "metadata": {
    "colab": {},
    "colab_type": "code",
    "id": "kruiT670zjrZ"
   },
   "outputs": [],
   "source": [
    "# pos_encoding_at_20 = pos_encoding[20]\n",
    "\n",
    "# dots = np.dot(pos_encoding,pos_encoding_at_20)\n",
    "# SSE = np.sum((pos_encoding - pos_encoding_at_20)**2, axis=1)"
   ]
  },
  {
   "cell_type": "markdown",
   "metadata": {
    "colab_type": "text",
    "id": "xH-sU6mzmjXI"
   },
   "source": [
    "Regardless of how you compare the vecors, they are most similar 20, and clearly diverge as you move away: "
   ]
  },
  {
   "cell_type": "code",
   "execution_count": 14,
   "metadata": {
    "colab": {},
    "colab_type": "code",
    "id": "YQ-MqQ5Eo0ZT"
   },
   "outputs": [],
   "source": [
    "# plt.figure(figsize=(10,8))\n",
    "# plt.subplot(2,1,1)\n",
    "# plt.plot(dots)\n",
    "# plt.ylabel('Dot product')\n",
    "# plt.subplot(2,1,2)\n",
    "# plt.plot(SSE)\n",
    "# plt.ylabel('SSE')\n",
    "# plt.xlabel('Position')"
   ]
  },
  {
   "cell_type": "markdown",
   "metadata": {
    "colab_type": "text",
    "id": "BVgAzBJ7iYda"
   },
   "source": [
    "### Relative positions\n",
    "\n",
    "The [paper](https://arxiv.org/pdf/1706.03762.pdf) explains, at the end of section 3.5, that any relative position encoding can be written as a linear function of the current position.\n",
    "\n",
    "To demonstrate, this section builds a matrix that calculates these relative position encodings. "
   ]
  },
  {
   "cell_type": "code",
   "execution_count": 15,
   "metadata": {
    "colab": {},
    "colab_type": "code",
    "id": "aHOBuNYnLHFF"
   },
   "outputs": [],
   "source": [
    "# def transition_matrix(position_delta, angle_rates = angle_rates):\n",
    "#   # Implement as a matrix multiply:\n",
    "#   #    sin(a+b) = sin(a)*cos(b)+cos(a)*sin(b)\n",
    "#   #    cos(a+b) = cos(a)*cos(b)-sin(a)*sin(b)\n",
    "  \n",
    "#   # b\n",
    "#   angle_delta = position_delta*angle_rates\n",
    "\n",
    "#   # sin(b), cos(b)\n",
    "#   sin_delta = np.sin(angle_delta)\n",
    "#   cos_delta = np.cos(angle_delta)\n",
    "\n",
    "#   I = np.eye(len(angle_rates))\n",
    "  \n",
    "#   # sin(a+b) = sin(a)*cos(b)+cos(a)*sin(b)\n",
    "#   update_sin = np.concatenate([I*cos_delta, I*sin_delta], axis=0)\n",
    "  \n",
    "#   # cos(a+b) = cos(a)*cos(b)-sin(a)*sin(b)\n",
    "#   update_cos = np.concatenate([-I*sin_delta, I*cos_delta], axis=0)\n",
    "\n",
    "#   return np.concatenate([update_sin, update_cos], axis=-1)"
   ]
  },
  {
   "cell_type": "markdown",
   "metadata": {
    "colab_type": "text",
    "id": "GZKHXFAxkMb_"
   },
   "source": [
    "For example, create the matrix that calculates the position encoding 10 steps back, from the current position encoding:"
   ]
  },
  {
   "cell_type": "code",
   "execution_count": 16,
   "metadata": {
    "colab": {},
    "colab_type": "code",
    "id": "x31yfQRQM6Q6"
   },
   "outputs": [],
   "source": [
    "# position_delta = -10\n",
    "# update = transition_matrix(position_delta)"
   ]
  },
  {
   "cell_type": "markdown",
   "metadata": {
    "colab_type": "text",
    "id": "NznTFtWmklob"
   },
   "source": [
    "Applying this matrix to each position encoding vector gives position encoding vector from -10 steps away, resulting in a shifted position-encoding map:"
   ]
  },
  {
   "cell_type": "code",
   "execution_count": 17,
   "metadata": {
    "colab": {},
    "colab_type": "code",
    "id": "hE7t9frqNQV3"
   },
   "outputs": [],
   "source": [
    "# plt.figure(figsize=(14,8))\n",
    "# plt.pcolormesh(np.dot(pos_encoding,update), cmap='RdBu', vmin=-1, vmax=1)\n",
    "# plt.xlim([0,depth])\n",
    "# plt.ylabel('Position')\n",
    "# plt.xlabel('Depth')"
   ]
  },
  {
   "cell_type": "markdown",
   "metadata": {
    "colab_type": "text",
    "id": "a1IHJT2Jk16a"
   },
   "source": [
    "This is accurate to numerical precision."
   ]
  },
  {
   "cell_type": "code",
   "execution_count": 18,
   "metadata": {
    "colab": {},
    "colab_type": "code",
    "id": "tRmt2d-HQD8j"
   },
   "outputs": [],
   "source": [
    "# errors = np.dot(pos_encoding,update)[10:] - pos_encoding[:-10]\n",
    "# abs(errors).max()"
   ]
  },
  {
   "cell_type": "markdown",
   "metadata": {},
   "source": [
    "# Do The Same Using Time Stamps Instead Of Positions"
   ]
  },
  {
   "cell_type": "code",
   "execution_count": 19,
   "metadata": {},
   "outputs": [],
   "source": [
    "import numpy as np\n",
    "import matplotlib.pyplot as plt\n",
    "import copy"
   ]
  },
  {
   "cell_type": "markdown",
   "metadata": {},
   "source": [
    "### A First Test With positions Being Real Numbers Rather Then Integers"
   ]
  },
  {
   "cell_type": "code",
   "execution_count": 20,
   "metadata": {},
   "outputs": [],
   "source": [
    "num_positions = 16\n",
    "depth = 512\n",
    "min_rate = 1/10000\n",
    "\n",
    "assert depth%2 == 0, \"Depth must be even.\"\n",
    "angle_rate_exponents = np.linspace(0,1,depth//2)\n",
    "angle_rates = min_rate**(angle_rate_exponents)"
   ]
  },
  {
   "cell_type": "code",
   "execution_count": 21,
   "metadata": {},
   "outputs": [
    {
     "name": "stdout",
     "output_type": "stream",
     "text": [
      "angle_rates shape =  (256,)\n"
     ]
    }
   ],
   "source": [
    "print(\"angle_rates shape = \", angle_rates.shape)"
   ]
  },
  {
   "cell_type": "code",
   "execution_count": 22,
   "metadata": {},
   "outputs": [],
   "source": [
    "positions = np.arange(num_positions) \n",
    "angle_rads = (positions[:, np.newaxis])*angle_rates[np.newaxis, :]"
   ]
  },
  {
   "cell_type": "code",
   "execution_count": 23,
   "metadata": {},
   "outputs": [
    {
     "name": "stdout",
     "output_type": "stream",
     "text": [
      "(16,)\n",
      "\n",
      "[0 1 2 3 4]\n",
      "[0. 1. 2. 3. 4.]\n"
     ]
    }
   ],
   "source": [
    "fracPositions = positions*10/10\n",
    "print(positions.shape)\n",
    "print(\"\")\n",
    "print(positions[0:5])\n",
    "print(fracPositions[0:5])"
   ]
  },
  {
   "cell_type": "code",
   "execution_count": 24,
   "metadata": {},
   "outputs": [],
   "source": [
    "angle_rads = fracPositions[:, np.newaxis]*angle_rates[np.newaxis, :]"
   ]
  },
  {
   "cell_type": "code",
   "execution_count": 25,
   "metadata": {},
   "outputs": [
    {
     "data": {
      "image/png": "[encoded data removed]",
      "text/plain": [
       "<Figure size 1008x576 with 2 Axes>"
      ]
     },
     "metadata": {
      "needs_background": "light"
     },
     "output_type": "display_data"
    }
   ],
   "source": [
    "plt.figure(figsize = (14,8))\n",
    "plt.pcolormesh(\n",
    "    # Convert to degrees, and wrap around at 360\n",
    "    angle_rads*180/(2*np.pi) % 360,\n",
    "    # Use a cyclical colormap so that color(0) == color(360)\n",
    "    cmap='hsv', vmin=0, vmax=360)\n",
    "\n",
    "plt.xlim([0,len(angle_rates)])\n",
    "plt.ylabel('Position')\n",
    "plt.xlabel('Depth')\n",
    "bar = plt.colorbar(label='Angle [deg]')\n",
    "bar.set_ticks(np.linspace(0,360,6+1))"
   ]
  },
  {
   "cell_type": "code",
   "execution_count": 26,
   "metadata": {},
   "outputs": [],
   "source": [
    "sines = np.sin(angle_rads)\n",
    "cosines = np.cos(angle_rads)\n",
    "pos_encoding = np.concatenate([sines, cosines], axis=-1)\n",
    "\n",
    "### Merge sines and cosines  properly, not with concatenate.\n",
    "example = np.reshape(np.vstack((sines, cosines)).ravel('F'), (num_positions, depth), order='F')"
   ]
  },
  {
   "cell_type": "code",
   "execution_count": 27,
   "metadata": {},
   "outputs": [
    {
     "name": "stdout",
     "output_type": "stream",
     "text": [
      "[-0.99999021 -0.92650013 -0.72333941 -0.43100098 -0.09531036]\n",
      "[ 0.0044257  -0.37629444 -0.69049265 -0.90235146 -0.99544761]\n",
      "\n",
      "[-0.99999021  0.0044257  -0.92650013 -0.37629444 -0.72333941 -0.69049265\n",
      " -0.43100098 -0.90235146 -0.09531036 -0.99544761]\n"
     ]
    }
   ],
   "source": [
    "print(sines[11, 0:5])\n",
    "print(cosines[11, 0:5])\n",
    "print(\"\")\n",
    "print(example[11, 0:10])"
   ]
  },
  {
   "cell_type": "code",
   "execution_count": 28,
   "metadata": {},
   "outputs": [
    {
     "data": {
      "text/plain": [
       "<matplotlib.colorbar.Colorbar at 0x7f41d76d3580>"
      ]
     },
     "execution_count": 28,
     "metadata": {},
     "output_type": "execute_result"
    },
    {
     "data": {
      "image/png": "[encoded data removed]",
      "text/plain": [
       "<Figure size 1800x360 with 2 Axes>"
      ]
     },
     "metadata": {
      "needs_background": "light"
     },
     "output_type": "display_data"
    }
   ],
   "source": [
    "plt.figure(figsize=(25,5))\n",
    "plt.pcolormesh(pos_encoding, \n",
    "               # Use a diverging colormap so it's clear where zero is.\n",
    "               cmap='RdBu', vmin=-1, vmax=1)\n",
    "plt.xlim([0,depth])\n",
    "plt.ylabel('Position')\n",
    "plt.xlabel('Depth')\n",
    "plt.colorbar()"
   ]
  },
  {
   "cell_type": "code",
   "execution_count": 29,
   "metadata": {},
   "outputs": [
    {
     "data": {
      "text/plain": [
       "<matplotlib.colorbar.Colorbar at 0x7f41d766b040>"
      ]
     },
     "execution_count": 29,
     "metadata": {},
     "output_type": "execute_result"
    },
    {
     "data": {
      "image/png": "[encoded data removed]",
      "text/plain": [
       "<Figure size 1800x360 with 2 Axes>"
      ]
     },
     "metadata": {
      "needs_background": "light"
     },
     "output_type": "display_data"
    }
   ],
   "source": [
    "plt.figure(figsize=(25,5))\n",
    "plt.pcolormesh(example, \n",
    "               # Use a diverging colormap so it's clear where zero is.\n",
    "               cmap='RdBu', vmin=-1, vmax=1)\n",
    "plt.xlim([0,depth])\n",
    "plt.ylabel('Position')\n",
    "plt.xlabel('Depth')\n",
    "plt.colorbar()"
   ]
  },
  {
   "cell_type": "markdown",
   "metadata": {},
   "source": [
    "# Generate Input Data For The Experimental Model"
   ]
  },
  {
   "cell_type": "markdown",
   "metadata": {},
   "source": [
    "Idea to treat the fact that the input sequence has fixed size (sequence goes beyond sentence boundary).  \n",
    "When the next sentence starts, the begin and end time stamps for each word are summed up with the end time stamp of the last word of the previous sentence."
   ]
  },
  {
   "cell_type": "markdown",
   "metadata": {},
   "source": [
    "### Process The Input Data In Order To Implement The Idea Written Above"
   ]
  },
  {
   "cell_type": "markdown",
   "metadata": {},
   "source": [
    "### Start Working Only On One Sequence"
   ]
  },
  {
   "cell_type": "code",
   "execution_count": 30,
   "metadata": {},
   "outputs": [],
   "source": [
    "# ### Get The Values For The First Sequence\n",
    "\n",
    "# nameInpFile = \"outFile_01.txt\"\n",
    "# nameOutFile = \"outFile_02.txt\"\n",
    "# sequenceSize = 18\n",
    "# words = []\n",
    "# punctuations = []\n",
    "# wordsBegin = []\n",
    "# wordsEnd = []\n",
    "# with open(nameInpFile, \"r\") as inpFile:\n",
    "#     lines = inpFile.readlines()\n",
    "#     for i in range(sequenceSize):\n",
    "#         items = lines[i].split(\"\\t\")\n",
    "#         words.append(items[0])\n",
    "#         punctuations.append(items[1])\n",
    "#         wordsBegin.append(float(items[2]))\n",
    "#         wordsEnd.append(float(items[3]))\n",
    "# print(words)"
   ]
  },
  {
   "cell_type": "code",
   "execution_count": 31,
   "metadata": {},
   "outputs": [],
   "source": [
    "# ### Apply The Correction To The Time Stamp\n",
    "\n",
    "# wordsBeginCorr = np.asarray(copy.deepcopy(wordsBegin))\n",
    "# wordsEndCorr = np.asarray(copy.deepcopy(wordsEnd))\n",
    "# for i in range(sequenceSize-1):\n",
    "#     wordEnd = wordsEnd[i]\n",
    "#     nextWordBegin = wordsBegin[i+1]\n",
    "#     # I add an additional condition because sometimes wordEnd > nextWordBegin\n",
    "#     # but not beacause of the start of a new sentence.\n",
    "#     if wordEnd > nextWordBegin and abs(wordEnd - nextWordBegin) > 0.02:\n",
    "#         # print(i)\n",
    "#         wordsBeginCorr[i+1:] += wordEnd\n",
    "#         wordsEndCorr[i+1:] += wordEnd"
   ]
  },
  {
   "cell_type": "code",
   "execution_count": 32,
   "metadata": {},
   "outputs": [],
   "source": [
    "# ### Output The Corrected File\n",
    "\n",
    "# with open(nameOutFile, \"w\") as outFile:\n",
    "#     for i in range(sequenceSize):\n",
    "#         outFile.write(words[i] + \"\\t\" + punctuations[i] + \"\\t\" + str(wordsBeginCorr[i]) + \"\\t\" + str(wordsEndCorr[i]) + \"\\n\")"
   ]
  },
  {
   "cell_type": "markdown",
   "metadata": {},
   "source": [
    "### Work On The Entire Dataset"
   ]
  },
  {
   "cell_type": "code",
   "execution_count": 33,
   "metadata": {},
   "outputs": [],
   "source": [
    "# ### Get The Values For Each Sequence, Do Not Apply Corrections, Write The Output, Loop On The All Dataset\n",
    "\n",
    "# nameInpFile = \"outFile_01.txt\"\n",
    "# nameOutFile = \"outFile_02.txt\"\n",
    "# sequenceSize = 32\n",
    "\n",
    "# with open(nameInpFile, \"r\") as inpFile:\n",
    "#     lines = inpFile.readlines()\n",
    "# numLine = len(lines)\n",
    "\n",
    "# # get the bound for the loop\n",
    "# rest = numLine - sequenceSize * (numLine//sequenceSize)\n",
    "# bound = numLine - rest - sequenceSize\n",
    "\n",
    "# dataWords = []\n",
    "# dataPuncs = []\n",
    "# dataBegins = []\n",
    "# dataEnds = []\n",
    "\n",
    "# count = 0  # index for the rows in input file\n",
    "# while count < numLine:\n",
    "    \n",
    "#     sequenceWords = []\n",
    "#     sequencePuncs = []\n",
    "#     sequenceBegins = []\n",
    "#     sequenceEnds = []\n",
    "    \n",
    "#     ### get the values for a sequence\n",
    "#     tmp = 0  # this to count the effective size of the sequence\n",
    "#     if count <= bound:\n",
    "#         for i in range(sequenceSize):\n",
    "#             tmp += 1\n",
    "#             items = lines[count+i].split(\"\\t\")\n",
    "#             sequenceWords.append(items[0])\n",
    "#             sequencePuncs.append(items[1])\n",
    "#             sequenceBegins.append(float(items[2]))\n",
    "#             sequenceEnds.append(float(items[3]))\n",
    "#     else:\n",
    "#         for i in range(bound+sequenceSize, numLine):\n",
    "#             tmp += 1\n",
    "#             items = lines[i].split(\"\\t\")\n",
    "#             sequenceWords.append(items[0])\n",
    "#             sequencePuncs.append(items[1])\n",
    "#             sequenceBegins.append(float(items[2]))\n",
    "#             sequenceEnds.append(float(items[3]))\n",
    "#     # print(\"count = \", count)\n",
    "#     # print(\"tmp = \", tmp)\n",
    "#     count += sequenceSize\n",
    "\n",
    "# #     ### Note that these two corrections are now implemented directly in \n",
    "# #     ### the training script.\n",
    "# #     ### CORRECTION 1\n",
    "# #     ### apply the correction to the time stamp\n",
    "# #     sequenceBeginsCorr = np.asarray(copy.deepcopy(sequenceBegins))\n",
    "# #     sequenceEndsCorr = np.asarray(copy.deepcopy(sequenceEnds))\n",
    "# #     for i in range(tmp-1):\n",
    "# #         wordEnd = sequenceEnds[i]\n",
    "# #         nextWordBegin = sequenceBegins[i+1]\n",
    "# #         ### i add an additional condition because sometimes wordEnd > nextWordBegin\n",
    "# #         ### but not beacause of the start of a new sentence.\n",
    "# #         if wordEnd > nextWordBegin and abs(wordEnd - nextWordBegin) > 0.01:\n",
    "# #             sequenceBeginsCorr[i+1:] += wordEnd\n",
    "# #             sequenceEndsCorr[i+1:] += wordEnd\n",
    "# # #         ### same as before but without the additional condition\n",
    "# # #         if wordEnd > nextWordBegin:\n",
    "# # #             sequenceBeginsCorr[i+1:] += wordEnd\n",
    "# # #             sequenceEndsCorr[i+1:] += wordEnd\n",
    "# #     ### CORRECTION 2\n",
    "# #     ### add an additional correction\n",
    "# #     ### set beginning of first word in the sentence as time zero.\n",
    "# #     sequenceBeginsCorr[:] -= sequenceBegins[0]\n",
    "# #     sequenceEndsCorr[:] -= sequenceBegins[0]\n",
    "    \n",
    "    \n",
    "#     ### collect the corrected values\n",
    "#     dataWords += sequenceWords\n",
    "#     dataPuncs += sequencePuncs\n",
    "#     ### As said above, the corrections are now applied in the\n",
    "#     ### training script, so i use the not corrected sequences.\n",
    "#     # dataBegins += list(sequenceBeginsCorr)\n",
    "#     # dataEnds += list(sequenceEndsCorr)\n",
    "#     dataBegins += list(sequenceBegins)\n",
    "#     dataEnds += list(sequenceEnds)\n",
    "\n",
    "# ### Output The Corrected File\n",
    "# with open(nameOutFile, \"w\") as outFile:\n",
    "#     for i in range(numLine):\n",
    "#         outFile.write(dataWords[i] + \"\\t\" + dataPuncs[i] + \"\\t\" + str(dataBegins[i]) + \"\\t\" + str(dataEnds[i]) + \"\\n\")"
   ]
  },
  {
   "cell_type": "code",
   "execution_count": 34,
   "metadata": {},
   "outputs": [],
   "source": [
    "### As Above, But Do Apply The Corrections\n",
    "\n",
    "nameInpFile = \"outFile_01.txt\"\n",
    "nameOutFile = \"outFile_02.txt\"\n",
    "sequenceSize = 32\n",
    "\n",
    "with open(nameInpFile, \"r\") as inpFile:\n",
    "    lines = inpFile.readlines()\n",
    "numLine = len(lines)\n",
    "\n",
    "# get the bound for the loop\n",
    "rest = numLine - sequenceSize * (numLine//sequenceSize)\n",
    "bound = numLine - rest - sequenceSize\n",
    "\n",
    "dataWords = []\n",
    "dataPuncs = []\n",
    "dataBegins = []\n",
    "dataEnds = []\n",
    "\n",
    "count = 0  # index for the rows in input file\n",
    "while count < numLine:\n",
    "    \n",
    "    sequenceWords = []\n",
    "    sequencePuncs = []\n",
    "    sequenceBegins = []\n",
    "    sequenceEnds = []\n",
    "    \n",
    "    ### get the values for a sequence\n",
    "    tmp = 0  # this to count the effective size of the sequence\n",
    "    if count <= bound:\n",
    "        for i in range(sequenceSize):\n",
    "            tmp += 1\n",
    "            items = lines[count+i].split(\"\\t\")\n",
    "            sequenceWords.append(items[0])\n",
    "            sequencePuncs.append(items[1])\n",
    "            sequenceBegins.append(float(items[2]))\n",
    "            sequenceEnds.append(float(items[3]))\n",
    "    else:\n",
    "        for i in range(bound+sequenceSize, numLine):\n",
    "            tmp += 1\n",
    "            items = lines[i].split(\"\\t\")\n",
    "            sequenceWords.append(items[0])\n",
    "            sequencePuncs.append(items[1])\n",
    "            sequenceBegins.append(float(items[2]))\n",
    "            sequenceEnds.append(float(items[3]))\n",
    "    # print(\"count = \", count)\n",
    "    # print(\"tmp = \", tmp)\n",
    "    count += sequenceSize\n",
    "\n",
    "    ### CORRECTION 1\n",
    "    ### apply the correction to the time stamp\n",
    "    sequenceBeginsCorr = np.asarray(copy.deepcopy(sequenceBegins))\n",
    "    sequenceEndsCorr = np.asarray(copy.deepcopy(sequenceEnds))\n",
    "    for i in range(tmp-1):\n",
    "        wordEnd = sequenceEnds[i]\n",
    "        nextWordBegin = sequenceBegins[i+1]\n",
    "        ### i add an additional condition because sometimes wordEnd > nextWordBegin\n",
    "        ### but not beacause of the start of a new sentence.\n",
    "        if wordEnd > nextWordBegin and abs(wordEnd - nextWordBegin) > 0.021:\n",
    "            sequenceBeginsCorr[i+1:] += wordEnd\n",
    "            sequenceEndsCorr[i+1:] += wordEnd\n",
    "#         ### same as before but without the additional condition\n",
    "#         if wordEnd > nextWordBegin:\n",
    "#             sequenceBeginsCorr[i+1:] += wordEnd\n",
    "#             sequenceEndsCorr[i+1:] += wordEnd\n",
    "    ### CORRECTION 2\n",
    "    ### add an additional correction\n",
    "    ### set beginning of first word in the sentence as time zero.\n",
    "    sequenceBeginsCorr[:] -= sequenceBegins[0]\n",
    "    sequenceEndsCorr[:] -= sequenceBegins[0]\n",
    "    \n",
    "    ### collect the corrected values\n",
    "    dataWords += sequenceWords\n",
    "    dataPuncs += sequencePuncs\n",
    "    dataBegins += list(sequenceBeginsCorr)\n",
    "    dataEnds += list(sequenceEndsCorr)\n",
    "\n",
    "### Output The Corrected File\n",
    "with open(nameOutFile, \"w\") as outFile:\n",
    "    for i in range(numLine):\n",
    "        outFile.write(dataWords[i] + \"\\t\" + dataPuncs[i] + \"\\t\" + str(dataBegins[i]) + \"\\t\" + str(dataEnds[i]) + \"\\n\")"
   ]
  },
  {
   "cell_type": "code",
   "execution_count": 35,
   "metadata": {},
   "outputs": [
    {
     "name": "stdout",
     "output_type": "stream",
     "text": [
      "Number of issues =  37100\n"
     ]
    }
   ],
   "source": [
    "### Check The Output File\n",
    "### endTimeWord > startTimeNextWord only in case the two words belongs to different sequences.\n",
    "\n",
    "lineIndexList = []\n",
    "with open(nameOutFile, \"r\") as f:\n",
    "    lines = f.readlines()\n",
    "numLines = len(lines)\n",
    "for i in range(numLines-1):\n",
    "    items = lines[i].split(\"\\t\")\n",
    "    nextItems = lines[i+1].split(\"\\t\")\n",
    "    endTimeWord = float(items[3])\n",
    "    startTimeNextWord = float(nextItems[2])\n",
    "    if endTimeWord > startTimeNextWord:\n",
    "        lineIndex = i+1\n",
    "        if (lineIndex % sequenceSize) == 0:\n",
    "            continue\n",
    "        else:\n",
    "            lineIndexList.append(lineIndex)\n",
    "print(\"Number of issues = \", len(lineIndexList))"
   ]
  },
  {
   "cell_type": "code",
   "execution_count": 36,
   "metadata": {},
   "outputs": [],
   "source": [
    "### Obtain another output file where there is only SPACE and PERIOD.\n",
    "\n",
    "nameInpFile = \"outFile_02.txt\"\n",
    "nameOutFile = \"outFile_03.txt\"\n",
    "with open(nameInpFile, 'r') as inpFile:\n",
    "    lines = inpFile.readlines()\n",
    "with open(nameOutFile, 'w') as outFile:\n",
    "    numLines = len(lines)\n",
    "    for line in lines:\n",
    "        items = line.split(\"\\t\")\n",
    "        if items[1] == \"COMMA\" or items[1] == \"SEMICOLON\" or items[1] == \"COLON\" or items[1] == \"EXCLAMATION\" or items[1] == \"QUESTION\":\n",
    "            items[1] = \"PERIOD\"\n",
    "        outFile.write(items[0] + \"\\t\" + items[1] + \"\\t\" + items[2]+ \"\\t\" + items[3])"
   ]
  }
 ],
 "metadata": {
  "accelerator": "GPU",
  "colab": {
   "collapsed_sections": [],
   "name": "position_encoding.ipynb",
   "private_outputs": true,
   "provenance": [],
   "toc_visible": true,
   "version": "0.3.2"
  },
  "kernelspec": {
   "display_name": ".venv_X",
   "language": "python",
   "name": ".venv_x"
  },
  "language_info": {
   "codemirror_mode": {
    "name": "ipython",
    "version": 3
   },
   "file_extension": ".py",
   "mimetype": "text/x-python",
   "name": "python",
   "nbconvert_exporter": "python",
   "pygments_lexer": "ipython3",
   "version": "3.8.2"
  }
 },
 "nbformat": 4,
 "nbformat_minor": 4
}
