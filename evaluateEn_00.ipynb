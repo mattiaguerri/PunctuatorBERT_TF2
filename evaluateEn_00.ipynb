{
 "cells": [
  {
   "cell_type": "markdown",
   "metadata": {},
   "source": [
    "# Evaluate Model Performance on the Test Set "
   ]
  },
  {
   "cell_type": "code",
   "execution_count": 1,
   "metadata": {},
   "outputs": [],
   "source": [
    "import numpy as np\n",
    "import tensorflow as tf\n",
    "\n",
    "from data import load_file, process_data, create_data_loader, preProcessingIWSLT12\n",
    "\n",
    "from transformers import BertTokenizer\n",
    "from transformers import TFBertForMaskedLM\n",
    "\n",
    "from model import create_model\n",
    "\n",
    "from datetime import datetime\n",
    "import os\n",
    "import json\n",
    "\n",
    "import sys"
   ]
  },
  {
   "cell_type": "code",
   "execution_count": 2,
   "metadata": {},
   "outputs": [],
   "source": [
    "# punctuation_enc = {\n",
    "#     'O': 0,\n",
    "#     'PERIOD': 1,\n",
    "# }\n",
    "\n",
    "punctuation_enc = {\n",
    "    'O': 0,\n",
    "    'COMMA': 1,\n",
    "    'PERIOD': 2,\n",
    "    'QUESTION': 3\n",
    "}"
   ]
  },
  {
   "cell_type": "markdown",
   "metadata": {},
   "source": [
    "### Hyper-parameters"
   ]
  },
  {
   "cell_type": "code",
   "execution_count": 3,
   "metadata": {},
   "outputs": [],
   "source": [
    "n = 10\n",
    "\n",
    "vocab_size = 30522\n",
    "segment_size = 32\n",
    "batch_size = 5\n",
    "train_layer_ind = -2  # 0 for all model, -2 for only top layer\n",
    "num_epochs = 2\n",
    "\n",
    "hyperparameters = {\n",
    "    'vocab_size': vocab_size,\n",
    "    'segment_size': segment_size,\n",
    "    'batch_size': batch_size\n",
    "}"
   ]
  },
  {
   "cell_type": "code",
   "execution_count": 4,
   "metadata": {},
   "outputs": [],
   "source": [
    "# name of data with the sentences\n",
    "data_name = \"IWSLT12\"\n",
    "testSet_01 = 'Data' + data_name + '/extractTest_01.txt'\n",
    "\n",
    "# from sentences to list of words+punctuation\n",
    "\n",
    "preProcessingIWSLT12(testSet_01)\n",
    "\n",
    "data_test = load_file('./Data/testSet_02.txt')\n",
    "\n",
    "# data_train = load_file('./Data/trainSet_02.txt')\n",
    "data_test = load_file('./Data/testSet_02.txt')\n",
    "\n",
    "tokenizer = BertTokenizer.from_pretrained('bert-base-uncased', do_lower_case=True)\n",
    "\n",
    "# X_train, y_train = process_data(data_train, tokenizer, punctuation_enc, segment_size)\n",
    "# y_train = np.asarray(y_train)\n",
    "X_test, y_test = process_data(data_test, tokenizer, punctuation_enc, segment_size)\n",
    "y_test = np.asarray(y_test)"
   ]
  },
  {
   "cell_type": "markdown",
   "metadata": {},
   "source": [
    "### Build the dataset"
   ]
  },
  {
   "cell_type": "code",
   "execution_count": 5,
   "metadata": {},
   "outputs": [],
   "source": [
    "extract_X = X_test[0:n]\n",
    "extract_y = y_test[0:n]"
   ]
  },
  {
   "cell_type": "code",
   "execution_count": 6,
   "metadata": {},
   "outputs": [],
   "source": [
    "dataset = tf.data.Dataset.from_tensor_slices((extract_X, extract_y))\n",
    "dataset = dataset.batch(batch_size)"
   ]
  },
  {
   "cell_type": "markdown",
   "metadata": {},
   "source": [
    "### Build the model"
   ]
  },
  {
   "cell_type": "code",
   "execution_count": 7,
   "metadata": {},
   "outputs": [],
   "source": [
    "bert_input = tf.keras.Input(shape=(segment_size), dtype='int32', name='bert_input')\n",
    "x = TFBertForMaskedLM.from_pretrained('bert-base-uncased')(bert_input)[0]\n",
    "x = tf.keras.layers.Reshape((segment_size*vocab_size,))(x)\n",
    "dense_out = tf.keras.layers.Dense(4)(x)\n",
    "\n",
    "net = tf.keras.Model(bert_input, dense_out, name='network')\n",
    "\n",
    "net.compile(optimizer='adam',\n",
    "              loss=tf.losses.SparseCategoricalCrossentropy(from_logits=True),\n",
    "              metrics=['accuracy'])"
   ]
  },
  {
   "cell_type": "markdown",
   "metadata": {},
   "source": [
    "### Evaluate the model"
   ]
  },
  {
   "cell_type": "code",
   "execution_count": 8,
   "metadata": {},
   "outputs": [],
   "source": [
    "features, labels = next(iter(dataset))"
   ]
  },
  {
   "cell_type": "code",
   "execution_count": 9,
   "metadata": {},
   "outputs": [],
   "source": [
    "predictions = net(features)"
   ]
  },
  {
   "cell_type": "code",
   "execution_count": 10,
   "metadata": {},
   "outputs": [
    {
     "name": "stdout",
     "output_type": "stream",
     "text": [
      "Predictions: [0 0 0 0 0]\n",
      "     Labels: [0 0 1 0 0]\n"
     ]
    }
   ],
   "source": [
    "print(\"Predictions: {}\".format(tf.argmax(predictions, axis=1)))\n",
    "print(\"     Labels: {}\".format(format(labels)))"
   ]
  },
  {
   "cell_type": "code",
   "execution_count": 11,
   "metadata": {},
   "outputs": [
    {
     "name": "stdout",
     "output_type": "stream",
     "text": [
      "5/5 - 18s - loss: 6.2531 - accuracy: 0.8000\n",
      "Untrained model, accuracy: 80.00%\n"
     ]
    }
   ],
   "source": [
    "# evaluate the untrained model\n",
    "loss, acc = net.evaluate(features, labels, verbose=2)\n",
    "print(\"Untrained model, accuracy: {:5.2f}%\".format(100*acc))"
   ]
  },
  {
   "cell_type": "code",
   "execution_count": null,
   "metadata": {},
   "outputs": [],
   "source": []
  },
  {
   "cell_type": "code",
   "execution_count": null,
   "metadata": {},
   "outputs": [],
   "source": []
  },
  {
   "cell_type": "code",
   "execution_count": 12,
   "metadata": {},
   "outputs": [],
   "source": [
    "# !ls -l ModelsExp"
   ]
  },
  {
   "cell_type": "code",
   "execution_count": 13,
   "metadata": {},
   "outputs": [],
   "source": [
    "# !ls ModelsExp/20200424_180927"
   ]
  },
  {
   "cell_type": "code",
   "execution_count": 14,
   "metadata": {},
   "outputs": [],
   "source": [
    "checkpoint_path = \"ModelsExp/20200424_180927/cp-003.ckpt\""
   ]
  },
  {
   "cell_type": "code",
   "execution_count": 15,
   "metadata": {},
   "outputs": [],
   "source": [
    "bert_input = tf.keras.Input(shape=(segment_size), dtype='int32', name='bert_input')\n",
    "x = TFBertForMaskedLM.from_pretrained('bert-base-uncased')(bert_input)[0]\n",
    "x = tf.keras.layers.Reshape((segment_size*vocab_size,))(x)\n",
    "dense_out = tf.keras.layers.Dense(4)(x)\n",
    "\n",
    "net = tf.keras.Model(bert_input, dense_out, name='network')\n",
    "\n",
    "net.compile(optimizer='adam',\n",
    "              loss=tf.losses.SparseCategoricalCrossentropy(from_logits=True),\n",
    "              metrics=['accuracy'])"
   ]
  },
  {
   "cell_type": "code",
   "execution_count": 16,
   "metadata": {},
   "outputs": [
    {
     "data": {
      "text/plain": [
       "<tensorflow.python.training.tracking.util.CheckpointLoadStatus at 0x7f283bf5f6a0>"
      ]
     },
     "execution_count": 16,
     "metadata": {},
     "output_type": "execute_result"
    }
   ],
   "source": [
    "net.load_weights(checkpoint_path)"
   ]
  },
  {
   "cell_type": "code",
   "execution_count": 17,
   "metadata": {},
   "outputs": [
    {
     "name": "stdout",
     "output_type": "stream",
     "text": [
      "Predictions: [0 0 0 0 0]\n",
      "     Labels: [0 0 1 0 0]\n"
     ]
    }
   ],
   "source": [
    "predictions = net(features)\n",
    "print(\"Predictions: {}\".format(tf.argmax(predictions, axis=1)))\n",
    "print(\"     Labels: {}\".format(format(labels)))"
   ]
  },
  {
   "cell_type": "code",
   "execution_count": 18,
   "metadata": {},
   "outputs": [
    {
     "name": "stdout",
     "output_type": "stream",
     "text": [
      "5/5 - 17s - loss: 373.7167 - accuracy: 0.8000\n",
      "Trained model, accuracy: 80.00%\n"
     ]
    }
   ],
   "source": [
    "loss, acc = net.evaluate(features, labels, verbose=2)\n",
    "print(\"Trained model, accuracy: {:5.2f}%\".format(100*acc))"
   ]
  },
  {
   "cell_type": "code",
   "execution_count": null,
   "metadata": {},
   "outputs": [],
   "source": []
  },
  {
   "cell_type": "code",
   "execution_count": null,
   "metadata": {},
   "outputs": [],
   "source": []
  },
  {
   "cell_type": "code",
   "execution_count": 19,
   "metadata": {},
   "outputs": [
    {
     "name": "stdout",
     "output_type": "stream",
     "text": [
      "2/2 [==============================] - 19s 10s/step - loss: 344.8264 - accuracy: 0.8000\n"
     ]
    }
   ],
   "source": [
    "# evaluate the model\n",
    "loss, acc = net.evaluate(dataset)"
   ]
  },
  {
   "cell_type": "code",
   "execution_count": null,
   "metadata": {},
   "outputs": [],
   "source": []
  },
  {
   "cell_type": "code",
   "execution_count": null,
   "metadata": {},
   "outputs": [],
   "source": []
  },
  {
   "cell_type": "markdown",
   "metadata": {},
   "source": [
    "### Evaluate the model, get statistics for each class"
   ]
  },
  {
   "cell_type": "code",
   "execution_count": 20,
   "metadata": {},
   "outputs": [],
   "source": [
    "# build and compile model\n",
    "\n",
    "bert_input = tf.keras.Input(shape=(segment_size), dtype='int32', name='bert_input')\n",
    "x = TFBertForMaskedLM.from_pretrained('bert-base-uncased')(bert_input)[0]\n",
    "x = tf.keras.layers.Reshape((segment_size*vocab_size,))(x)\n",
    "dense_out = tf.keras.layers.Dense(4, activation='softmax')(x)\n",
    "\n",
    "net = tf.keras.Model(bert_input, dense_out, name='network')\n",
    "\n",
    "net.compile(optimizer='adam',\n",
    "              loss=tf.losses.CategoricalCrossentropy(from_logits=False),\n",
    "              metrics=[tf.keras.metrics.Recall(class_id=0, name='recall_0'),\n",
    "                       tf.keras.metrics.Precision(class_id=0, name='Precision_0'),\n",
    "                       tf.keras.metrics.Recall(class_id=1, name='recall_1'),\n",
    "                       tf.keras.metrics.Precision(class_id=1, name='Precision_1'),\n",
    "                       tf.keras.metrics.Recall(class_id=2, name='recall_2'),\n",
    "                       tf.keras.metrics.Precision(class_id=2, name='Precision_2'),\n",
    "                       tf.keras.metrics.Recall(class_id=3, name='recall_3'),\n",
    "                       tf.keras.metrics.Precision(class_id=3, name='Precision_3'),\n",
    "                      ])"
   ]
  },
  {
   "cell_type": "code",
   "execution_count": 21,
   "metadata": {},
   "outputs": [
    {
     "data": {
      "text/plain": [
       "<tensorflow.python.training.tracking.util.CheckpointLoadStatus at 0x7f2848e55ba8>"
      ]
     },
     "execution_count": 21,
     "metadata": {},
     "output_type": "execute_result"
    }
   ],
   "source": [
    "# load weights\n",
    "net.load_weights(checkpoint_path)"
   ]
  },
  {
   "cell_type": "code",
   "execution_count": 22,
   "metadata": {},
   "outputs": [],
   "source": [
    "features, labels = next(iter(dataset))"
   ]
  },
  {
   "cell_type": "code",
   "execution_count": 23,
   "metadata": {},
   "outputs": [
    {
     "data": {
      "text/plain": [
       "<tf.Tensor: shape=(5,), dtype=int64, numpy=array([0, 0, 1, 0, 0])>"
      ]
     },
     "execution_count": 23,
     "metadata": {},
     "output_type": "execute_result"
    }
   ],
   "source": [
    "labels"
   ]
  },
  {
   "cell_type": "code",
   "execution_count": 24,
   "metadata": {},
   "outputs": [],
   "source": [
    "labels_hot = tf.one_hot(labels, 4, dtype='int64')"
   ]
  },
  {
   "cell_type": "code",
   "execution_count": 25,
   "metadata": {},
   "outputs": [
    {
     "data": {
      "text/plain": [
       "<tf.Tensor: shape=(5, 4), dtype=int64, numpy=\n",
       "array([[1, 0, 0, 0],\n",
       "       [1, 0, 0, 0],\n",
       "       [0, 1, 0, 0],\n",
       "       [1, 0, 0, 0],\n",
       "       [1, 0, 0, 0]])>"
      ]
     },
     "execution_count": 25,
     "metadata": {},
     "output_type": "execute_result"
    }
   ],
   "source": [
    "labels_hot"
   ]
  },
  {
   "cell_type": "code",
   "execution_count": 26,
   "metadata": {},
   "outputs": [
    {
     "data": {
      "text/plain": [
       "array([[1., 0., 0., 0.],\n",
       "       [1., 0., 0., 0.],\n",
       "       [1., 0., 0., 0.],\n",
       "       [1., 0., 0., 0.],\n",
       "       [1., 0., 0., 0.]], dtype=float32)"
      ]
     },
     "execution_count": 26,
     "metadata": {},
     "output_type": "execute_result"
    }
   ],
   "source": [
    "net.predict(features)"
   ]
  },
  {
   "cell_type": "code",
   "execution_count": 28,
   "metadata": {},
   "outputs": [
    {
     "name": "stdout",
     "output_type": "stream",
     "text": [
      "5/5 [==============================] - 24s 5s/sample - loss: 373.7167 - recall_0: 1.0000 - Precision_0: 0.8000 - recall_1: 0.0000e+00 - Precision_1: 0.0000e+00 - recall_2: 0.0000e+00 - Precision_2: 0.0000e+00 - recall_3: 0.0000e+00 - Precision_3: 0.0000e+00\n"
     ]
    },
    {
     "data": {
      "text/plain": [
       "[373.71673583984375, 1.0, 0.8, 0.0, 0.0, 0.0, 0.0, 0.0, 0.0]"
      ]
     },
     "execution_count": 28,
     "metadata": {},
     "output_type": "execute_result"
    }
   ],
   "source": [
    "net.evaluate(features, labels_hot)"
   ]
  },
  {
   "cell_type": "code",
   "execution_count": null,
   "metadata": {},
   "outputs": [],
   "source": []
  },
  {
   "cell_type": "code",
   "execution_count": null,
   "metadata": {},
   "outputs": [],
   "source": []
  },
  {
   "cell_type": "code",
   "execution_count": null,
   "metadata": {},
   "outputs": [],
   "source": []
  }
 ],
 "metadata": {
  "kernelspec": {
   "display_name": "venv_project_X",
   "language": "python",
   "name": "venv_project_x"
  },
  "language_info": {
   "codemirror_mode": {
    "name": "ipython",
    "version": 3
   },
   "file_extension": ".py",
   "mimetype": "text/x-python",
   "name": "python",
   "nbconvert_exporter": "python",
   "pygments_lexer": "ipython3",
   "version": "3.6.5"
  }
 },
 "nbformat": 4,
 "nbformat_minor": 2
}
