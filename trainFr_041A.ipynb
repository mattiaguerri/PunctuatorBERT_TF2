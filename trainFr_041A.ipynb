{
 "cells": [
  {
   "cell_type": "markdown",
   "metadata": {},
   "source": [
    "# Experimenting in Using Time Stamps"
   ]
  },
  {
   "cell_type": "markdown",
   "metadata": {},
   "source": [
    "Build a model that takes token_ids as input. The first model layer embeds the tokens_inds."
   ]
  },
  {
   "cell_type": "code",
   "execution_count": 1,
   "metadata": {},
   "outputs": [],
   "source": [
    "import os\n",
    "import numpy as np\n",
    "\n",
    "from silence_tensorflow import silence_tensorflow\n",
    "silence_tensorflow()  # silence TF warnings\n",
    "import tensorflow as tf\n",
    "\n",
    "from dataProcessing import load_file, encodeData, insertTarget, processingScriber00\n",
    "from transformers import AutoTokenizer, TFCamembertForMaskedLM\n",
    "from datetime import datetime\n",
    "import sys"
   ]
  },
  {
   "cell_type": "code",
   "execution_count": 2,
   "metadata": {},
   "outputs": [],
   "source": [
    "### instantiate the tokenizer\n",
    "tokenizer = AutoTokenizer.from_pretrained(\"jplu/tf-camembert-base\", do_lower_case=True)\n",
    "\n",
    "### punctuation encoder\n",
    "punctuation_enc = {\n",
    "    'O': 0,\n",
    "    'PERIOD': 1,\n",
    "}\n",
    "outputDimension = len(punctuation_enc)\n",
    "\n",
    "### Set Vocabulary Size and Hidden Dimension (BERT)\n",
    "vocabSize = 32005\n",
    "hiddenDimension = 768\n",
    "\n",
    "### hyper-parameters\n",
    "sequenceSize = 32\n",
    "batchSize = 12\n",
    "learningRate = 1e-5\n",
    "trainLayerIndex = 0\n",
    "numEpo = 5\n",
    "\n",
    "listHyper0 = ['sequenceSize', 'batchSize', 'learningRate', 'trainLayerIndex', 'numEpo']\n",
    "listHyper1 = [str(sequenceSize), str(batchSize), str(learningRate), str(trainLayerIndex), str(numEpo)]\n",
    "time = datetime.now().strftime(\"%Y%m%d_%H%M%S\")\n",
    "save_path = 'ModelsExpScriber/{}/'.format(time)\n",
    "os.mkdir(save_path)"
   ]
  },
  {
   "cell_type": "code",
   "execution_count": 3,
   "metadata": {},
   "outputs": [
    {
     "name": "stdout",
     "output_type": "stream",
     "text": [
      "\n",
      "Processing Training Data ... \n",
      "\n",
      "Training Dataset Tensor Shape =  (21009, 32)\n"
     ]
    }
   ],
   "source": [
    "### Get Training Dataset\n",
    "\n",
    "print('\\nProcessing Training Data ... ')\n",
    "\n",
    "# name of dataset with sentences\n",
    "data_name = \"Scriber\"\n",
    "\n",
    "# file name\n",
    "# trainDataName = 'Data' + data_name + '/' + 'raw.processed.Train_01.txt'\n",
    "trainDataName = 'Data' + data_name + '/' + 'raw.processed.Test_01.txt'\n",
    "\n",
    "# from sentences to list of words+punctuation\n",
    "data_train = load_file(processingScriber00(trainDataName))\n",
    "\n",
    "# encode data and insert target\n",
    "X_train_, y_train_ = encodeData(data_train, tokenizer, punctuation_enc)\n",
    "X_train = insertTarget(X_train_, sequenceSize)\n",
    "y_train = np.asarray(y_train_)\n",
    "\n",
    "# # get only a fraction of data\n",
    "# n = 1821184\n",
    "# X_train = X_train[0:n]\n",
    "# y_train = y_train[0:n]\n",
    "\n",
    "# build the datasets\n",
    "trainDataset = tf.data.Dataset.from_tensor_slices((X_train, y_train)).shuffle(buffer_size=500000).batch(batchSize)\n",
    "\n",
    "print(\"\\nTraining Dataset Tensor Shape = \", X_train.shape)"
   ]
  },
  {
   "cell_type": "code",
   "execution_count": 4,
   "metadata": {},
   "outputs": [
    {
     "name": "stdout",
     "output_type": "stream",
     "text": [
      "21009\n",
      "(21009, 32)\n"
     ]
    }
   ],
   "source": [
    "print(len(X_train_))\n",
    "print(X_train.shape)"
   ]
  },
  {
   "cell_type": "code",
   "execution_count": 5,
   "metadata": {},
   "outputs": [
    {
     "name": "stdout",
     "output_type": "stream",
     "text": [
      "[   50     8   155  1295    14  3125    91   575   254    85    91   575\n",
      "   254    85   773     0    60    11    41   730    18    11  1311 11893\n",
      "   138  2279    75 21511     8 18207    52    11]\n"
     ]
    }
   ],
   "source": [
    "print(X_train[0, :])"
   ]
  },
  {
   "cell_type": "code",
   "execution_count": 6,
   "metadata": {},
   "outputs": [
    {
     "data": {
      "text/plain": [
       "(<tf.Tensor: shape=(12, 32), dtype=int64, numpy=\n",
       " array([[   22,    35,  3195,  5061, 21469,    32,    13,   284,    21,\n",
       "         28323,   424, 12487,    78,   284,    30,     0, 28691,    35,\n",
       "            36,   791,    20,  3083, 24100,    10,   616,   215,   590,\n",
       "           398,    27,    17,    11, 17026],\n",
       "        [   86,    50,  1749,  5809,   129, 26672,    24,    46,    11,\n",
       "            62,   191, 13833,    51,  1831,   334,     0, 10601,     8,\n",
       "          5809,    75, 26672,    24,    46,    11,    62,   191, 13833,\n",
       "            50,   183,    60,    11,    41],\n",
       "        [   85,   730, 10601,   773,   895,    18,    11,   443, 19155,\n",
       "            50,  1460,    27,    75, 10855,    30,     0,    33,  1096,\n",
       "         12661,   982,  4823,   212,   773,   398,    27,    76,    11,\n",
       "            73,   631,  3833,    31,    31],\n",
       "        [   41,    24,    19, 11930,    91,    33,   254,    60,    11,\n",
       "            41,    33,   248,   102,    33,   102,     0,    91,    33,\n",
       "           254,    60,    11,    41,    33,   248,   913,    19,    19,\n",
       "           541,  1054,    18,    11,  1311],\n",
       "        [  287,    18,    11,  1311,   966,    82,  2785,    10,  1865,\n",
       "           773, 10371, 16583, 11294,   773,  2085,     0,  2947,  9861,\n",
       "         13003,    18,    11,  1311,    14,    24,    17,    11,   233,\n",
       "          4297,    31,  1246,    42,   906],\n",
       "        [ 7560,   773,    13,  7604,  6915,   472,     8,    13,   375,\n",
       "            22,   366,    76,    11,    73, 12200,     0,  5634,    80,\n",
       "            33,    75,  1326,  1065,    14,    19,  3591, 22344,  2299,\n",
       "            48,   504,    16,  1096,    25],\n",
       "        [   41,    16,  5615,    31,   115,    11,   687,  1150,    31,\n",
       "           115,    11,    55,  1738,   129,  7560,     0,    51,   115,\n",
       "            11,    55,   227,     8,    85,   730,   773,  7330,    18,\n",
       "            11,  1311,   183,    24,    13],\n",
       "        [   50,    39,   768,  1345,    35,    24,  5825,   398,    27,\n",
       "            13,    76,    11,   105,   500,    14,     0,   264,    16,\n",
       "          1096,    76,    11,  4645,   104, 10748,  9195,  7129,    60,\n",
       "            11,    41,    24, 23209,    77],\n",
       "        [ 5041,   102,    33,    34,    20, 10241,    10,    51,   115,\n",
       "            11,    55,   227,    46,    11,    62,     0,    46,    11,\n",
       "            62,    48, 11249,   220,   774,   223,   220,   774,   587,\n",
       "           145,  6014,    50,   146,    76],\n",
       "        [   34,   523,    22,   287,    30,   291,    27,    13,    48,\n",
       "         16333, 10843,  1914,    27,    13,  1701,     0,  2536, 16562,\n",
       "            60,    11,    41,   206,    13,  1701,  2536, 16562,    60,\n",
       "            11,    41,   128,    16,  1487],\n",
       "        [ 1460,    34,     8,     8,    39,     8, 10371, 12351,  5615,\n",
       "            30,   291,    27,    39,   115,    11,     0,  4296,   267,\n",
       "           145,   145,    13,    76,    11,    73,    72,   827,    75,\n",
       "           400,    66,    18,    11,   803],\n",
       "        [   50,    39,  2072,  5615,    18,    11,   803,    50,   104,\n",
       "           190,    16,   373,     8,   401,    14,     0,    16,   986,\n",
       "         15200,   183,    60,    11,    41,  5615,    25,   108,   321,\n",
       "         15042,   234,  6934,    18,  4191]])>,\n",
       " <tf.Tensor: shape=(12,), dtype=int64, numpy=array([0, 0, 0, 0, 0, 0, 0, 0, 0, 0, 0, 0])>)"
      ]
     },
     "execution_count": 6,
     "metadata": {},
     "output_type": "execute_result"
    }
   ],
   "source": [
    "example = next(iter(trainDataset))\n",
    "example"
   ]
  },
  {
   "cell_type": "markdown",
   "metadata": {},
   "source": [
    "### Build The Experimental Model And Test It"
   ]
  },
  {
   "cell_type": "code",
   "execution_count": 7,
   "metadata": {},
   "outputs": [
    {
     "name": "stdout",
     "output_type": "stream",
     "text": [
      "\n",
      "Bulding the Model ... \n"
     ]
    }
   ],
   "source": [
    "### Build The Experimental Model\n",
    "print('\\nBulding the Model ... ')\n",
    "\n",
    "inpA = tf.keras.Input(shape=(sequenceSize), dtype='int32')\n",
    "inpB = tf.keras.Input(shape=(sequenceSize, hiddenDimension), batch_size=batchSize, dtype='float32')\n",
    "x = TFCamembertForMaskedLM.from_pretrained(\"jplu/tf-camembert-base\")(inpA, custom_embeds=inpB)[0]\n",
    "x = tf.keras.layers.Reshape((sequenceSize*vocabSize,))(x)\n",
    "out = tf.keras.layers.Dense(len(punctuation_enc))(x)\n",
    "\n",
    "model = tf.keras.Model(inputs=[inpA,inpB], outputs=[out])\n",
    "\n",
    "# define the loss\n",
    "loss_object = tf.keras.losses.SparseCategoricalCrossentropy(from_logits=True)\n",
    "def loss(model, x, custom_embeds, y):\n",
    "    y_ = model([x, custom_embeds])\n",
    "    return loss_object(y_true=y, y_pred=y_)\n",
    "\n",
    "# func to calculate the gradients\n",
    "def grad(model, inputs, custom_embeds, targets, trainLayerIndex):\n",
    "    with tf.GradientTape() as tape:\n",
    "        loss_value = loss(model, inputs, custom_embeds, targets)\n",
    "    return loss_value, tape.gradient(loss_value, model.trainable_variables[trainLayerIndex:])\n",
    "\n",
    "# define the optimizer\n",
    "optimizer = tf.keras.optimizers.Adam(learning_rate=learningRate)"
   ]
  },
  {
   "cell_type": "code",
   "execution_count": 18,
   "metadata": {},
   "outputs": [
    {
     "name": "stdout",
     "output_type": "stream",
     "text": [
      "<class 'tensorflow.python.framework.ops.EagerTensor'>\n",
      "(12, 32)\n",
      "\n",
      "<class 'tensorflow.python.framework.ops.EagerTensor'>\n",
      "(12, 32, 768)\n",
      "<class 'tensorflow.python.framework.ops.EagerTensor'>\n",
      "\n",
      "(12, 2)\n"
     ]
    }
   ],
   "source": [
    "## Test The Model\n",
    "\n",
    "x, y = next(iter(trainDataset))\n",
    "\n",
    "zerosTensor = tf.zeros(shape=[batchSize, sequenceSize, hiddenDimension])\n",
    "\n",
    "print(type(x))\n",
    "print(x.shape)\n",
    "print(\"\")\n",
    "print(type(zerosTensor))\n",
    "print(zerosTensor.shape)\n",
    "\n",
    "output = model([x, zerosTensor])\n",
    "print(type(output))\n",
    "\n",
    "print(\"\")\n",
    "print(output.shape)"
   ]
  },
  {
   "cell_type": "markdown",
   "metadata": {},
   "source": [
    "### Define Fake custom_embeds"
   ]
  },
  {
   "cell_type": "code",
   "execution_count": 9,
   "metadata": {},
   "outputs": [],
   "source": [
    "zerosTensor = tf.zeros(shape=[batchSize, sequenceSize, hiddenDimension])\n",
    "custom_embeds = zerosTensor"
   ]
  },
  {
   "cell_type": "markdown",
   "metadata": {},
   "source": [
    "### Training Loop"
   ]
  },
  {
   "cell_type": "code",
   "execution_count": 10,
   "metadata": {},
   "outputs": [],
   "source": [
    "# print(\"\\nExperiment Folder: \", time)\n",
    "# print(\"\\nHyperparameters:\")\n",
    "# print('vocabSize = ', vocabSize)\n",
    "# print('sequenceSize = ', sequenceSize)\n",
    "# print('batchSize = ', batchSize)\n",
    "# print('leaRat = ', learningRate)\n",
    "# print('Train Layer Index = ', trainLayerIndex)\n",
    "# print('numEpo = ', numEpo)\n",
    "\n",
    "# epoch_loss_avg = tf.keras.metrics.Mean()\n",
    "# epoch_accuracy = tf.keras.metrics.SparseCategoricalAccuracy()\n",
    "\n",
    "# train_loss_results = []\n",
    "# train_accuracy_results = []\n",
    "\n",
    "# checkpoint_path = save_path + \"cp-{epoch:03d}.ckpt\"\n",
    "\n",
    "# print(\"\\nTraining the Model ... \")\n",
    "# for epoch in range(1, numEpo+1):\n",
    "\n",
    "#     # training loop\n",
    "#     for x, y in trainDataset:\n",
    "#         # optimize the model\n",
    "#         loss_value, grads = grad(model, x, custom_embeds, y, trainLayerIndex)\n",
    "#         optimizer.apply_gradients(zip(grads, model.trainable_variables[trainLayerIndex:]))\n",
    "\n",
    "#         # track progress\n",
    "#         epoch_loss_avg.update_state(loss_value)\n",
    "#         epoch_accuracy.update_state(y, model([x, zerosTensor]))\n",
    "\n",
    "#     # end epoch\n",
    "#     train_loss_results.append(epoch_loss_avg.result())\n",
    "#     train_accuracy_results.append(epoch_accuracy.result())\n",
    "\n",
    "#     print(\"\\nEpoch {:03d}: (Training)   Loss: {:.3f}, Accuracy: {:.3%}\".format(epoch, epoch_loss_avg.result(), epoch_accuracy.result()))\n",
    "\n",
    "#     # # save model if new min for train loss is found\n",
    "#     tmpTrain = epoch_loss_avg.result().numpy()\n",
    "#     model.save_weights(checkpoint_path.format(epoch=epoch))\n",
    "\n",
    "#     epoch_loss_avg.reset_states()\n",
    "#     epoch_accuracy.reset_states()"
   ]
  },
  {
   "cell_type": "markdown",
   "metadata": {},
   "source": [
    "### Output Training Details on Log File"
   ]
  },
  {
   "cell_type": "code",
   "execution_count": 11,
   "metadata": {},
   "outputs": [],
   "source": [
    "# nameLogFile = 'log.txt'\n",
    "# logFile = open(save_path + nameLogFile, \"w\")\n",
    "\n",
    "# # write name of model\n",
    "# logFile.write(\"\\n\" + time + \"\\n\\n\")\n",
    "\n",
    "# # write hyper parameters\n",
    "# for i in range(len(listHyper0)):\n",
    "#     logFile.write(listHyper0[i] + \":  \" + listHyper1[i] + \"\\n\")\n",
    "\n",
    "# # write training details\n",
    "# logFile.write('\\nTRAINING')\n",
    "# trainLossArr = np.asarray(train_loss_results)\n",
    "# trainAccArr = np.asarray(train_accuracy_results)\n",
    "# for i in range(numEpo):\n",
    "#     epoch = i+1\n",
    "#     logFile.write(\"\\nEpoch {:03d}:   Loss: {:7.4f},   Accuracy: {:7.4%}\".format(epoch, trainLossArr[i], trainAccArr[i]))"
   ]
  },
  {
   "cell_type": "markdown",
   "metadata": {},
   "source": [
    "### Evaluate the models, Write Results on the logFile"
   ]
  },
  {
   "cell_type": "code",
   "execution_count": 12,
   "metadata": {},
   "outputs": [],
   "source": [
    "# ### Get the Test Dataset\n",
    "\n",
    "# # name of dataset\n",
    "# dataName = \"Scriber\"\n",
    "\n",
    "# # file name\n",
    "# testDataName = 'Data' + data_name + '/' + 'raw.processed.Test_01.txt'\n",
    "\n",
    "# # from sentences to list of words+punctuation\n",
    "# data = load_file(processingScriber00(testDataName))\n",
    "\n",
    "# # Encode data and insert target.\n",
    "# X_, y_ = encodeData(data, tokenizer, punctuation_enc)\n",
    "# X = insert_target(X_, sequenceSize)\n",
    "# y = np.asarray(y_)\n",
    "\n",
    "# # get only a fraction of data \n",
    "# n = 64\n",
    "# X = X[0:n]\n",
    "# y = y[0:n]\n",
    "\n",
    "# # one hot encode the labels\n",
    "# y = tf.one_hot(y, len(punctuation_enc), dtype='int64').numpy()\n",
    "\n",
    "# # build the datasets\n",
    "# dataset = tf.data.Dataset.from_tensor_slices((X, y)).batch(batchSize)\n",
    "\n",
    "# print(\"\\nTest Dataset Tensor Shape = \", X.shape)"
   ]
  },
  {
   "cell_type": "code",
   "execution_count": 13,
   "metadata": {},
   "outputs": [],
   "source": [
    "# ### Build and Compile the Model\n",
    "\n",
    "# inpA = tf.keras.Input(shape=(sequenceSize), dtype='int32')\n",
    "# inpB = tf.keras.Input(shape=(sequenceSize, hiddenDimension), batch_size=batchSize, dtype='float32')\n",
    "# x = TFCamembertForMaskedLM.from_pretrained(\"jplu/tf-camembert-base\")(inpA, custom_embeds=inpB)[0]\n",
    "# x = tf.keras.layers.Reshape((sequenceSize*vocabSize,))(x)\n",
    "# out = tf.keras.layers.Dense(len(punctuation_enc))(x)\n",
    "\n",
    "# model = tf.keras.Model(inputs=[inpA,inpB], outputs=[out])\n",
    "\n",
    "# model.compile(optimizer='adam',\n",
    "#               loss=tf.losses.CategoricalCrossentropy(from_logits=False),\n",
    "#               metrics=[tf.keras.metrics.Recall(class_id=0, name='Rec_0'),\n",
    "#                        tf.keras.metrics.Precision(class_id=0, name='Prec_0'),\n",
    "#                        tf.keras.metrics.Recall(class_id=1, name='Rec_1'),\n",
    "#                        tf.keras.metrics.Precision(class_id=1, name='Prec_1'),\n",
    "#                       ])"
   ]
  },
  {
   "cell_type": "code",
   "execution_count": 14,
   "metadata": {},
   "outputs": [],
   "source": [
    "# ### Get List of the Models in the Output Folder\n",
    "\n",
    "# modelsLst = []\n",
    "# for r, d, f in os.walk(save_path):\n",
    "#     for file in sorted(f):\n",
    "#         if \".index\" in file:\n",
    "#             modelsLst.append(file[:-6])"
   ]
  },
  {
   "cell_type": "code",
   "execution_count": 15,
   "metadata": {},
   "outputs": [],
   "source": [
    "# # compute f1 score\n",
    "# def compF1(rec, pre):\n",
    "#     if pre + rec == .0:\n",
    "#         return .0\n",
    "#     else:\n",
    "#         return 2 * (pre*rec) / (pre+rec)"
   ]
  },
  {
   "cell_type": "code",
   "execution_count": 16,
   "metadata": {},
   "outputs": [],
   "source": [
    "# ### Evaluate the Models\n",
    "\n",
    "# print(\"\\nEvaluate Models\")\n",
    "\n",
    "# print(\"\\nTest Set Tensor Shape = \", X.shape)\n",
    "\n",
    "# logFile.write('\\n\\nEVALUATION\\n')\n",
    "# for i in range(len(modelsLst)):\n",
    "#     checkpointPath = save_path + modelsLst[i]\n",
    "#     print(checkpointPath)\n",
    "\n",
    "#     # load weights\n",
    "#     model.load_weights(checkpointPath)\n",
    "\n",
    "#     # evaluate\n",
    "#     evaluation = model.evaluate(dataset)\n",
    "    \n",
    "#     f1_0 = compF1(evaluation[1],evaluation[2])\n",
    "#     f1_1 = compF1(evaluation[3],evaluation[4])\n",
    "#     print(\"F1_0 = {:10.7f} - F1_1 = {:10.7f}\".format(f1_0, f1_1))\n",
    "    \n",
    "#     # write details on log files\n",
    "#     logFile.write(modelsLst[i])\n",
    "#     logFile.write(\" - Loss = {:7.4f} - Rec_0 = {:6.4f} - Pre_0 = {:6.4f} - F1_0 = {:10.7f} - Rec_1 = {:6.4f} - Pre_1 = {:6.4f} - F1_1 = {:10.7f}\\n\".format(evaluation[0], evaluation[1], evaluation[2], f1_0, evaluation[3], evaluation[4], f1_1))\n",
    "\n",
    "# logFile.close()"
   ]
  }
 ],
 "metadata": {
  "kernelspec": {
   "display_name": "venvTrans",
   "language": "python",
   "name": "venvtrans"
  },
  "language_info": {
   "codemirror_mode": {
    "name": "ipython",
    "version": 3
   },
   "file_extension": ".py",
   "mimetype": "text/x-python",
   "name": "python",
   "nbconvert_exporter": "python",
   "pygments_lexer": "ipython3",
   "version": "3.8.2"
  }
 },
 "nbformat": 4,
 "nbformat_minor": 4
}
