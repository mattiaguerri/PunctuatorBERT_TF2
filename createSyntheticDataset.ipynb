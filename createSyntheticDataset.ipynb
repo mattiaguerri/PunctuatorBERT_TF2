{
 "cells": [
  {
   "cell_type": "code",
   "execution_count": 1,
   "metadata": {},
   "outputs": [],
   "source": [
    "import numpy as np"
   ]
  },
  {
   "cell_type": "code",
   "execution_count": 2,
   "metadata": {},
   "outputs": [],
   "source": [
    "outFileName = \"synTrainSet_3200.txt\"\n",
    "sequenceSize = 32\n",
    "numSeq = 100\n",
    "\n",
    "puncDecoder = {\n",
    "    0: \"SPACE\",\n",
    "    1: \"PERIOD\"\n",
    "}"
   ]
  },
  {
   "cell_type": "markdown",
   "metadata": {},
   "source": [
    "### Build The Arrays"
   ]
  },
  {
   "cell_type": "code",
   "execution_count": 3,
   "metadata": {},
   "outputs": [],
   "source": [
    "words = np.full((numSeq, sequenceSize), \"bonjour\")\n",
    "punctuations = np.empty((numSeq, sequenceSize))\n",
    "starts = np.zeros((numSeq, sequenceSize))\n",
    "ends = np.zeros((numSeq, sequenceSize))"
   ]
  },
  {
   "cell_type": "code",
   "execution_count": 4,
   "metadata": {},
   "outputs": [],
   "source": [
    "for i in range(numSeq):\n",
    "    \n",
    "    # get the first word duration\n",
    "    a = 0.15; b = 0.75\n",
    "    wordDur = np.random.random() * (b-a) + a\n",
    "    ends[i, 0] += wordDur\n",
    "\n",
    "    # draw punctuations\n",
    "    puncs = np.random.binomial(1, 0.1, size=sequenceSize)\n",
    "    punctuations[i, :] = puncs\n",
    "    \n",
    "    for j in range(1, sequenceSize):\n",
    "\n",
    "        # gap in case of space\n",
    "        if puncs[j-1] == 0:\n",
    "            a = 0.1; b = 0.4\n",
    "            gap = np.random.random() * (b-a) + a\n",
    "\n",
    "        # gap in case of period\n",
    "        if puncs[j-1] == 1:\n",
    "            a = 0.5; b = 0.8\n",
    "            gap = np.random.random() * (b-a) + a\n",
    "\n",
    "        # word duration\n",
    "        a = 0.15; b = 0.75\n",
    "        wordDur = np.random.random() * (b-a) + a\n",
    "\n",
    "        starts[i, j] = ends[i, j-1] + gap\n",
    "        ends[i, j] = starts[i, j] + wordDur"
   ]
  },
  {
   "cell_type": "code",
   "execution_count": 5,
   "metadata": {},
   "outputs": [],
   "source": [
    "with open(outFileName, \"w\") as outFile:\n",
    "    for i in range(numSeq):\n",
    "        for j in range(sequenceSize):\n",
    "            outFile.write(words[i, j] + \"\\t\" + puncDecoder[punctuations[i, j]] + \"\\t\" + \n",
    "                          str(starts[i, j]) + \"\\t\" + str(ends[i, j]) + \"\\n\")"
   ]
  },
  {
   "cell_type": "code",
   "execution_count": null,
   "metadata": {},
   "outputs": [],
   "source": []
  },
  {
   "cell_type": "code",
   "execution_count": null,
   "metadata": {},
   "outputs": [],
   "source": []
  }
 ],
 "metadata": {
  "kernelspec": {
   "display_name": ".venv_X",
   "language": "python",
   "name": ".venv_x"
  },
  "language_info": {
   "codemirror_mode": {
    "name": "ipython",
    "version": 3
   },
   "file_extension": ".py",
   "mimetype": "text/x-python",
   "name": "python",
   "nbconvert_exporter": "python",
   "pygments_lexer": "ipython3",
   "version": "3.8.2"
  }
 },
 "nbformat": 4,
 "nbformat_minor": 4
}
