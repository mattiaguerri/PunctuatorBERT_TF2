{
 "cells": [
  {
   "cell_type": "code",
   "execution_count": 1,
   "metadata": {},
   "outputs": [],
   "source": [
    "import numpy as np"
   ]
  },
  {
   "cell_type": "code",
   "execution_count": 2,
   "metadata": {},
   "outputs": [],
   "source": [
    "outFileName = \"AudioFeatures/syntheticTrainSet_3200.txt\"\n",
    "sequenceSize = 32\n",
    "numSeq = 100\n",
    "\n",
    "puncDecoder = {\n",
    "    0: \"SPACE\",\n",
    "    1: \"PERIOD\"\n",
    "}"
   ]
  },
  {
   "cell_type": "code",
   "execution_count": 3,
   "metadata": {},
   "outputs": [],
   "source": [
    "### Initialise The Arrays\n",
    "\n",
    "word = np.full((numSeq, sequenceSize), \"bonjour\")\n",
    "punc = np.empty((numSeq, sequenceSize))\n",
    "start = np.zeros((numSeq, sequenceSize))\n",
    "end = np.zeros((numSeq, sequenceSize))\n",
    "gap = np.zeros((numSeq, sequenceSize))"
   ]
  },
  {
   "cell_type": "code",
   "execution_count": 4,
   "metadata": {},
   "outputs": [],
   "source": [
    "### Generate Punctuation, Time-Stamps And Gaps.\n",
    "\n",
    "for i in range(numSeq):\n",
    "    \n",
    "    # get the first word duration\n",
    "    a = 0.25; b = 1.15\n",
    "    wordDur = np.random.random() * (b-a) + a\n",
    "    end[i, 0] += wordDur\n",
    "\n",
    "    # draw punctuations\n",
    "    punc[i, :] = np.random.binomial(1, 0.2, size=sequenceSize)\n",
    "    \n",
    "    for j in range(1, sequenceSize):\n",
    "\n",
    "        # gap in case of space\n",
    "        if punc[i, j-1] == 0:\n",
    "            a = 0.15; b = 0.45\n",
    "        # gap in case of period\n",
    "        elif punc[i, j-1] == 1:\n",
    "            a = 0.55; b = 0.95\n",
    "        gap[i, j] = np.random.random() * (b-a) + a\n",
    "\n",
    "        # word duration\n",
    "        a = 0.25; b = 1.15\n",
    "        wordDur = np.random.random() * (b-a) + a\n",
    "\n",
    "        start[i, j] = end[i, j-1] + gap[i, j]\n",
    "        end[i, j] = start[i, j] + wordDur"
   ]
  },
  {
   "cell_type": "code",
   "execution_count": 5,
   "metadata": {},
   "outputs": [],
   "source": [
    "### write output file\n",
    "\n",
    "with open(outFileName, \"w\") as outFile:\n",
    "    for i in range(numSeq):\n",
    "        for j in range(sequenceSize):\n",
    "            outFile.write(\"{:10s} \\t {:13s} \\t {:7.4f} \\t {:7.4f} \\t {:7.4f} \\n\".\n",
    "                          format(word[i, j], puncDecoder[punc[i, j]],\n",
    "                                 start[i, j], end[i, j], gap[i, j])\n",
    "                         )"
   ]
  }
 ],
 "metadata": {
  "kernelspec": {
   "display_name": ".venvExp00",
   "language": "python",
   "name": ".venvexp00"
  },
  "language_info": {
   "codemirror_mode": {
    "name": "ipython",
    "version": 3
   },
   "file_extension": ".py",
   "mimetype": "text/x-python",
   "name": "python",
   "nbconvert_exporter": "python",
   "pygments_lexer": "ipython3",
   "version": "3.8.2"
  }
 },
 "nbformat": 4,
 "nbformat_minor": 4
}
